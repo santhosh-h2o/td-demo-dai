{
 "cells": [
  {
   "cell_type": "markdown",
   "metadata": {},
   "source": [
    "# Python Client for Driverless AI 1.11.X\n",
    "\n",
    "_This python client for Driverless AI will allow users to interact more intuitively with the product and will also allow scripts to run successfully after upgrades. We appreciate any feedback._\n",
    "\n",
    "**Note:** Use `Shift+Tab` to see the signature and doc string of any function while in Jupyter <br/>\n",
    "\n"
   ]
  },
  {
   "cell_type": "markdown",
   "metadata": {
    "toc": true
   },
   "source": [
    "\n",
    "\n",
    "<h1>Table of Contents<span class=\"tocSkip\"></span></h1>\n",
    "<div class=\"toc\">\n",
    "  <ul class=\"toc-item\">\n",
    "    <li><a href=\"#Connect-to-Driverless-AI\"><span class=\"toc-item-num\">1&nbsp;&nbsp;</span>Connect to Driverless AI</a></li>\n",
    "    <li><a href=\"#Documentation\"><span class=\"toc-item-num\">2&nbsp;&nbsp;</span>Documentation</a></li>\n",
    "    <li>\n",
    "      <a href=\"#Data\"><span class=\"toc-item-num\">3&nbsp;&nbsp;</span>Data</a>\n",
    "      <ul class=\"toc-item\">\n",
    "        <li><a href=\"#List-Available-Connectors\"><span class=\"toc-item-num\">3.1&nbsp;&nbsp;</span>List Available Connectors</a></li>\n",
    "        <li><a href=\"#List-Existing-Datasets\"><span class=\"toc-item-num\">3.2&nbsp;&nbsp;</span>List Existing Datasets</a></li>\n",
    "        <li><a href=\"#Upload-and-Download-Data\"><span class=\"toc-item-num\">3.3&nbsp;&nbsp;</span>Upload and Download Data</a></li>\n",
    "        <li><a href=\"#Explore-the-Dataset\"><span class=\"toc-item-num\">3.4&nbsp;&nbsp;</span>Explore the Dataset</a></li>\n",
    "        <li><a href=\"#Explore-the-Columns\"><span class=\"toc-item-num\">3.5&nbsp;&nbsp;</span>Explore the Columns</a></li>\n",
    "        <li><a href=\"#Split-a-Dataset\"><span class=\"toc-item-num\">3.6&nbsp;&nbsp;</span>Split a Dataset</a></li>\n",
    "      </ul>\n",
    "    </li>\n",
    "    <li><a href=\"#Recipes\"><span class=\"toc-item-num\">4&nbsp;&nbsp;</span>Recipes</a></li>\n",
    "    <li>\n",
    "      <a href=\"#Modeling\"><span class=\"toc-item-num\">5&nbsp;&nbsp;</span>Modeling</a>\n",
    "      <ul class=\"toc-item\">\n",
    "        <li><a href=\"#List-Existing-Experiments\"><span class=\"toc-item-num\">5.1&nbsp;&nbsp;</span>List Existing Experiments</a></li>\n",
    "        <li><a href=\"#Dictionary-for-a-Use-Case\"><span class=\"toc-item-num\">5.2&nbsp;&nbsp;</span>Dictionary for a Use Case</a></li>\n",
    "          <li><a href=\"#Get-Reccomended-Dial-Settings\"><span class=\"toc-item-num\">5.3&nbsp;&nbsp;</span>Get Reccomended Dial Settings</a></li>\n",
    "        <li><a href=\"#Dictionary-for-Fast-Experiments\"><span class=\"toc-item-num\">5.4&nbsp;&nbsp;</span>Dictionary for Fast Experiments</a></li>\n",
    "        <li><a href=\"#Search-for-Settings\"><span class=\"toc-item-num\">5.5&nbsp;&nbsp;</span>Search for Settings</a></li>\n",
    "        <li><a href=\"#Preview-Using-Our-Custom-Recipe\"><span class=\"toc-item-num\">5.6&nbsp;&nbsp;</span>Preview Using Our Custom Recipe</a></li>\n",
    "        <li><a href=\"#Launch-an-Experiment\"><span class=\"toc-item-num\">5.7&nbsp;&nbsp;</span>Launch an Experiment</a></li>\n",
    "        <li><a href=\"#Information-on-an-Experiment\"><span class=\"toc-item-num\">5.8&nbsp;&nbsp;</span>Information on an Experiment</a></li>\n",
    "        <li><a href=\"#Monitor-and-Finish-the-Model-Early\"><span class=\"toc-item-num\">5.9&nbsp;&nbsp;</span>Monitor and Finish the Model Early</a></li>\n",
    "        <li><a href=\"#View-the-Experiment-Summary\"><span class=\"toc-item-num\">5.10&nbsp;&nbsp;</span>View the Experiment Summary</a></li>\n",
    "        <li><a href=\"#Interact-with-Model-Artifacts\"><span class=\"toc-item-num\">5.11&nbsp;&nbsp;</span>Interact with Model Artifacts</a></li>\n",
    "        <li><a href=\"#View-Final-Model-Performance\"><span class=\"toc-item-num\">5.12&nbsp;&nbsp;</span>View Final Model Performance</a></li>\n",
    "        <li><a href=\"#Variable-Importance\"><span class=\"toc-item-num\">5.13&nbsp;&nbsp;</span>Variable Importance</a></li>\n",
    "        <li><a href=\"#Retrain-a-Model-for-Production\"><span class=\"toc-item-num\">5.14&nbsp;&nbsp;</span>Retrain a Model for Production</a></li>\n",
    "        <li><a href=\"#View-the-Pipeline\"><span class=\"toc-item-num\">5.15&nbsp;&nbsp;</span>View the Pipeline</a></li>\n",
    "      </ul>\n",
    "    </li>\n",
    "    <li><a href=\"#Pause the DAI Engine\"><span class=\"toc-item-num\">7&nbsp;&nbsp;</span>Pause the DAI Engine</a></li>\n",
    "  </ul>\n",
    "</div>\n"
   ]
  },
  {
   "cell_type": "markdown",
   "metadata": {},
   "source": [
    "## Create Notebook instance using AI Cloud Platform\n",
    "\n",
    "1. Create a Notebook Instance from H2o.ai Cloud Platform?\n",
    "2. Create the DriverlessAI Instance from H2o.ai Cloud Platform? "
   ]
  },
  {
   "cell_type": "code",
   "execution_count": 1,
   "metadata": {},
   "outputs": [],
   "source": [
    "# Setup the download location\n",
    "download_location = 'artifacts/' #pointing to the artifacts folder  "
   ]
  },
  {
   "cell_type": "markdown",
   "metadata": {},
   "source": [
    "## Connect to H2O AI Engine Manager\n",
    "\n",
    "To get started, we’ll connect to the H2O AI Engine Manager to manage Driverless AI.\n",
    "\n",
    "**Get Your API Token and Connect to Engine Manager**\n",
    "\n",
    "1. Go to [H2O AI Cloud](https://internal.dedicated.h2o.ai/aiengines)\n",
    "2. Click on your **username** in the top-right corner\n",
    "3. Choose **\"CLI and API Access\"**\n",
    "4. Or directly visit this link to generate a token:  \n",
    "   [https://internal.dedicated.h2o.ai/auth/get-platform-token](https://internal.dedicated.h2o.ai/auth/get-platform-token)\n",
    "\n",
    "You can now list, create, and manage Driverless AI engines using `aiem`.  "
   ]
  },
  {
   "cell_type": "code",
   "execution_count": 15,
   "metadata": {},
   "outputs": [
    {
     "name": "stdout",
     "output_type": "stream",
     "text": [
      "Collecting h2o-engine-manager\n",
      "  Using cached h2o_engine_manager-1.2.0-py3-none-any.whl.metadata (951 bytes)\n",
      "Collecting driverlessai>=1.10.0 (from h2o-engine-manager)\n",
      "  Using cached driverlessai-2.2.0.post1-py3-none-any.whl.metadata (9.1 kB)\n",
      "Collecting h2o-authn>=1.0.0 (from h2o-engine-manager)\n",
      "  Using cached h2o_authn-3.1.0-py3-none-any.whl.metadata (6.6 kB)\n",
      "Collecting h2o-client>=3.38.0.2 (from h2o-engine-manager)\n",
      "  Using cached h2o_client-3.46.0.7-py2.py3-none-any.whl.metadata (2.1 kB)\n",
      "Collecting h2o-cloud-discovery>=2.1.0 (from h2o-engine-manager)\n",
      "  Using cached h2o_cloud_discovery-3.1.0-py3-none-any.whl.metadata (3.6 kB)\n",
      "Collecting python-dateutil>=2.8.2 (from h2o-engine-manager)\n",
      "  Using cached python_dateutil-2.9.0.post0-py2.py3-none-any.whl.metadata (8.4 kB)\n",
      "Collecting requests>=2.26.0 (from h2o-engine-manager)\n",
      "  Using cached requests-2.32.4-py3-none-any.whl.metadata (4.9 kB)\n",
      "Collecting toml>=0.10.2 (from h2o-engine-manager)\n",
      "  Using cached toml-0.10.2-py2.py3-none-any.whl.metadata (7.1 kB)\n",
      "Collecting urllib3>=1.26.0 (from driverlessai>=1.10.0->h2o-engine-manager)\n",
      "  Using cached urllib3-2.5.0-py3-none-any.whl.metadata (6.5 kB)\n",
      "Collecting tabulate (from driverlessai>=1.10.0->h2o-engine-manager)\n",
      "  Using cached tabulate-0.9.0-py3-none-any.whl.metadata (34 kB)\n",
      "Collecting packaging>=21.0 (from driverlessai>=1.10.0->h2o-engine-manager)\n",
      "  Using cached packaging-25.0-py3-none-any.whl.metadata (3.3 kB)\n",
      "Collecting httpx>=0.23 (from h2o-authn>=1.0.0->h2o-engine-manager)\n",
      "  Using cached httpx-0.28.1-py3-none-any.whl.metadata (7.1 kB)\n",
      "Collecting anyio (from httpx>=0.23->h2o-authn>=1.0.0->h2o-engine-manager)\n",
      "  Using cached anyio-4.10.0-py3-none-any.whl.metadata (4.0 kB)\n",
      "Collecting certifi (from httpx>=0.23->h2o-authn>=1.0.0->h2o-engine-manager)\n",
      "  Using cached certifi-2025.8.3-py3-none-any.whl.metadata (2.4 kB)\n",
      "Collecting httpcore==1.* (from httpx>=0.23->h2o-authn>=1.0.0->h2o-engine-manager)\n",
      "  Using cached httpcore-1.0.9-py3-none-any.whl.metadata (21 kB)\n",
      "Collecting idna (from httpx>=0.23->h2o-authn>=1.0.0->h2o-engine-manager)\n",
      "  Using cached idna-3.10-py3-none-any.whl.metadata (10 kB)\n",
      "Collecting h11>=0.16 (from httpcore==1.*->httpx>=0.23->h2o-authn>=1.0.0->h2o-engine-manager)\n",
      "  Using cached h11-0.16.0-py3-none-any.whl.metadata (8.3 kB)\n",
      "Collecting six>=1.5 (from python-dateutil>=2.8.2->h2o-engine-manager)\n",
      "  Using cached six-1.17.0-py2.py3-none-any.whl.metadata (1.7 kB)\n",
      "Collecting charset_normalizer<4,>=2 (from requests>=2.26.0->h2o-engine-manager)\n",
      "  Using cached charset_normalizer-3.4.2-cp313-cp313-manylinux_2_17_x86_64.manylinux2014_x86_64.whl.metadata (35 kB)\n",
      "Collecting sniffio>=1.1 (from anyio->httpx>=0.23->h2o-authn>=1.0.0->h2o-engine-manager)\n",
      "  Using cached sniffio-1.3.1-py3-none-any.whl.metadata (3.9 kB)\n",
      "Using cached h2o_engine_manager-1.2.0-py3-none-any.whl (480 kB)\n",
      "Using cached driverlessai-2.2.0.post1-py3-none-any.whl (2.1 MB)\n",
      "Using cached h2o_authn-3.1.0-py3-none-any.whl (12 kB)\n",
      "Using cached h2o_client-3.46.0.7-py2.py3-none-any.whl (593 kB)\n",
      "Using cached h2o_cloud_discovery-3.1.0-py3-none-any.whl (15 kB)\n",
      "Using cached httpx-0.28.1-py3-none-any.whl (73 kB)\n",
      "Using cached httpcore-1.0.9-py3-none-any.whl (78 kB)\n",
      "Using cached h11-0.16.0-py3-none-any.whl (37 kB)\n",
      "Using cached packaging-25.0-py3-none-any.whl (66 kB)\n",
      "Using cached python_dateutil-2.9.0.post0-py2.py3-none-any.whl (229 kB)\n",
      "Using cached requests-2.32.4-py3-none-any.whl (64 kB)\n",
      "Using cached charset_normalizer-3.4.2-cp313-cp313-manylinux_2_17_x86_64.manylinux2014_x86_64.whl (148 kB)\n",
      "Using cached idna-3.10-py3-none-any.whl (70 kB)\n",
      "Using cached urllib3-2.5.0-py3-none-any.whl (129 kB)\n",
      "Using cached certifi-2025.8.3-py3-none-any.whl (161 kB)\n",
      "Using cached six-1.17.0-py2.py3-none-any.whl (11 kB)\n",
      "Using cached toml-0.10.2-py2.py3-none-any.whl (16 kB)\n",
      "Using cached anyio-4.10.0-py3-none-any.whl (107 kB)\n",
      "Using cached sniffio-1.3.1-py3-none-any.whl (10 kB)\n",
      "Using cached tabulate-0.9.0-py3-none-any.whl (35 kB)\n",
      "Installing collected packages: urllib3, toml, tabulate, sniffio, six, packaging, idna, h11, charset_normalizer, certifi, requests, python-dateutil, httpcore, anyio, httpx, h2o-client, driverlessai, h2o-cloud-discovery, h2o-authn, h2o-engine-manager\n",
      "\u001b[2K   \u001b[90m━━━━━━━━━━━━━━━━━━━━━━━━━━━━━━━━━━━━━━━━\u001b[0m \u001b[32m20/20\u001b[0m [h2o-engine-manager]2o-engine-manager]]\n",
      "\u001b[1A\u001b[2KSuccessfully installed anyio-4.10.0 certifi-2025.8.3 charset_normalizer-3.4.2 driverlessai-2.2.0.post1 h11-0.16.0 h2o-authn-3.1.0 h2o-client-3.46.0.7 h2o-cloud-discovery-3.1.0 h2o-engine-manager-1.2.0 httpcore-1.0.9 httpx-0.28.1 idna-3.10 packaging-25.0 python-dateutil-2.9.0.post0 requests-2.32.4 six-1.17.0 sniffio-1.3.1 tabulate-0.9.0 toml-0.10.2 urllib3-2.5.0\n",
      "\u001b[33mWARNING: Target directory /home/h2o/.local/lib/python3.13/site-packages/urllib3 already exists. Specify --upgrade to force replacement.\u001b[0m\u001b[33m\n",
      "\u001b[0m\u001b[33mWARNING: Target directory /home/h2o/.local/lib/python3.13/site-packages/urllib3-2.5.0.dist-info already exists. Specify --upgrade to force replacement.\u001b[0m\u001b[33m\n",
      "\u001b[0m\u001b[33mWARNING: Target directory /home/h2o/.local/lib/python3.13/site-packages/toml already exists. Specify --upgrade to force replacement.\u001b[0m\u001b[33m\n",
      "\u001b[0m\u001b[33mWARNING: Target directory /home/h2o/.local/lib/python3.13/site-packages/toml-0.10.2.dist-info already exists. Specify --upgrade to force replacement.\u001b[0m\u001b[33m\n",
      "\u001b[0m\u001b[33mWARNING: Target directory /home/h2o/.local/lib/python3.13/site-packages/tabulate already exists. Specify --upgrade to force replacement.\u001b[0m\u001b[33m\n",
      "\u001b[0m\u001b[33mWARNING: Target directory /home/h2o/.local/lib/python3.13/site-packages/tabulate-0.9.0.dist-info already exists. Specify --upgrade to force replacement.\u001b[0m\u001b[33m\n",
      "\u001b[0m\u001b[33mWARNING: Target directory /home/h2o/.local/lib/python3.13/site-packages/sniffio already exists. Specify --upgrade to force replacement.\u001b[0m\u001b[33m\n",
      "\u001b[0m\u001b[33mWARNING: Target directory /home/h2o/.local/lib/python3.13/site-packages/sniffio-1.3.1.dist-info already exists. Specify --upgrade to force replacement.\u001b[0m\u001b[33m\n",
      "\u001b[0m\u001b[33mWARNING: Target directory /home/h2o/.local/lib/python3.13/site-packages/six.py already exists. Specify --upgrade to force replacement.\u001b[0m\u001b[33m\n",
      "\u001b[0m\u001b[33mWARNING: Target directory /home/h2o/.local/lib/python3.13/site-packages/six-1.17.0.dist-info already exists. Specify --upgrade to force replacement.\u001b[0m\u001b[33m\n",
      "\u001b[0m\u001b[33mWARNING: Target directory /home/h2o/.local/lib/python3.13/site-packages/__pycache__ already exists. Specify --upgrade to force replacement.\u001b[0m\u001b[33m\n",
      "\u001b[0m\u001b[33mWARNING: Target directory /home/h2o/.local/lib/python3.13/site-packages/packaging already exists. Specify --upgrade to force replacement.\u001b[0m\u001b[33m\n",
      "\u001b[0m\u001b[33mWARNING: Target directory /home/h2o/.local/lib/python3.13/site-packages/packaging-25.0.dist-info already exists. Specify --upgrade to force replacement.\u001b[0m\u001b[33m\n",
      "\u001b[0m\u001b[33mWARNING: Target directory /home/h2o/.local/lib/python3.13/site-packages/idna already exists. Specify --upgrade to force replacement.\u001b[0m\u001b[33m\n",
      "\u001b[0m\u001b[33mWARNING: Target directory /home/h2o/.local/lib/python3.13/site-packages/idna-3.10.dist-info already exists. Specify --upgrade to force replacement.\u001b[0m\u001b[33m\n",
      "\u001b[0m\u001b[33mWARNING: Target directory /home/h2o/.local/lib/python3.13/site-packages/h11 already exists. Specify --upgrade to force replacement.\u001b[0m\u001b[33m\n",
      "\u001b[0m\u001b[33mWARNING: Target directory /home/h2o/.local/lib/python3.13/site-packages/h11-0.16.0.dist-info already exists. Specify --upgrade to force replacement.\u001b[0m\u001b[33m\n",
      "\u001b[0m\u001b[33mWARNING: Target directory /home/h2o/.local/lib/python3.13/site-packages/charset_normalizer already exists. Specify --upgrade to force replacement.\u001b[0m\u001b[33m\n",
      "\u001b[0m\u001b[33mWARNING: Target directory /home/h2o/.local/lib/python3.13/site-packages/charset_normalizer-3.4.2.dist-info already exists. Specify --upgrade to force replacement.\u001b[0m\u001b[33m\n",
      "\u001b[0m\u001b[33mWARNING: Target directory /home/h2o/.local/lib/python3.13/site-packages/certifi already exists. Specify --upgrade to force replacement.\u001b[0m\u001b[33m\n",
      "\u001b[0m\u001b[33mWARNING: Target directory /home/h2o/.local/lib/python3.13/site-packages/certifi-2025.8.3.dist-info already exists. Specify --upgrade to force replacement.\u001b[0m\u001b[33m\n",
      "\u001b[0m\u001b[33mWARNING: Target directory /home/h2o/.local/lib/python3.13/site-packages/requests already exists. Specify --upgrade to force replacement.\u001b[0m\u001b[33m\n",
      "\u001b[0m\u001b[33mWARNING: Target directory /home/h2o/.local/lib/python3.13/site-packages/requests-2.32.4.dist-info already exists. Specify --upgrade to force replacement.\u001b[0m\u001b[33m\n",
      "\u001b[0m\u001b[33mWARNING: Target directory /home/h2o/.local/lib/python3.13/site-packages/dateutil already exists. Specify --upgrade to force replacement.\u001b[0m\u001b[33m\n",
      "\u001b[0m\u001b[33mWARNING: Target directory /home/h2o/.local/lib/python3.13/site-packages/python_dateutil-2.9.0.post0.dist-info already exists. Specify --upgrade to force replacement.\u001b[0m\u001b[33m\n",
      "\u001b[0m\u001b[33mWARNING: Target directory /home/h2o/.local/lib/python3.13/site-packages/httpcore already exists. Specify --upgrade to force replacement.\u001b[0m\u001b[33m\n",
      "\u001b[0m\u001b[33mWARNING: Target directory /home/h2o/.local/lib/python3.13/site-packages/httpcore-1.0.9.dist-info already exists. Specify --upgrade to force replacement.\u001b[0m\u001b[33m\n",
      "\u001b[0m\u001b[33mWARNING: Target directory /home/h2o/.local/lib/python3.13/site-packages/anyio already exists. Specify --upgrade to force replacement.\u001b[0m\u001b[33m\n",
      "\u001b[0m\u001b[33mWARNING: Target directory /home/h2o/.local/lib/python3.13/site-packages/anyio-4.10.0.dist-info already exists. Specify --upgrade to force replacement.\u001b[0m\u001b[33m\n",
      "\u001b[0m\u001b[33mWARNING: Target directory /home/h2o/.local/lib/python3.13/site-packages/httpx already exists. Specify --upgrade to force replacement.\u001b[0m\u001b[33m\n",
      "\u001b[0m\u001b[33mWARNING: Target directory /home/h2o/.local/lib/python3.13/site-packages/httpx-0.28.1.dist-info already exists. Specify --upgrade to force replacement.\u001b[0m\u001b[33m\n",
      "\u001b[0m\u001b[33mWARNING: Target directory /home/h2o/.local/lib/python3.13/site-packages/h2o already exists. Specify --upgrade to force replacement.\u001b[0m\u001b[33m\n",
      "\u001b[0m\u001b[33mWARNING: Target directory /home/h2o/.local/lib/python3.13/site-packages/h2o_client-3.46.0.7.dist-info already exists. Specify --upgrade to force replacement.\u001b[0m\u001b[33m\n",
      "\u001b[0m\u001b[33mWARNING: Target directory /home/h2o/.local/lib/python3.13/site-packages/driverlessai-2.2.0.post1.dist-info already exists. Specify --upgrade to force replacement.\u001b[0m\u001b[33m\n",
      "\u001b[0m\u001b[33mWARNING: Target directory /home/h2o/.local/lib/python3.13/site-packages/driverlessai already exists. Specify --upgrade to force replacement.\u001b[0m\u001b[33m\n",
      "\u001b[0m\u001b[33mWARNING: Target directory /home/h2o/.local/lib/python3.13/site-packages/h2o_discovery already exists. Specify --upgrade to force replacement.\u001b[0m\u001b[33m\n",
      "\u001b[0m\u001b[33mWARNING: Target directory /home/h2o/.local/lib/python3.13/site-packages/h2o_cloud_discovery-3.1.0.dist-info already exists. Specify --upgrade to force replacement.\u001b[0m\u001b[33m\n",
      "\u001b[0m\u001b[33mWARNING: Target directory /home/h2o/.local/lib/python3.13/site-packages/h2o_authn already exists. Specify --upgrade to force replacement.\u001b[0m\u001b[33m\n",
      "\u001b[0m\u001b[33mWARNING: Target directory /home/h2o/.local/lib/python3.13/site-packages/h2o_authn-3.1.0.dist-info already exists. Specify --upgrade to force replacement.\u001b[0m\u001b[33m\n",
      "\u001b[0m\u001b[33mWARNING: Target directory /home/h2o/.local/lib/python3.13/site-packages/h2o_engine_manager already exists. Specify --upgrade to force replacement.\u001b[0m\u001b[33m\n",
      "\u001b[0m\u001b[33mWARNING: Target directory /home/h2o/.local/lib/python3.13/site-packages/h2o_engine_manager-1.2.0.dist-info already exists. Specify --upgrade to force replacement.\u001b[0m\u001b[33m\n",
      "\u001b[0m\u001b[33mWARNING: Target directory /home/h2o/.local/lib/python3.13/site-packages/bin already exists. Specify --upgrade to force replacement.\u001b[0m\u001b[33m\n",
      "\u001b[0m\n",
      "\u001b[1m[\u001b[0m\u001b[34;49mnotice\u001b[0m\u001b[1;39;49m]\u001b[0m\u001b[39;49m A new release of pip is available: \u001b[0m\u001b[31;49m25.1.1\u001b[0m\u001b[39;49m -> \u001b[0m\u001b[32;49m25.2\u001b[0m\n",
      "\u001b[1m[\u001b[0m\u001b[34;49mnotice\u001b[0m\u001b[1;39;49m]\u001b[0m\u001b[39;49m To update, run: \u001b[0m\u001b[32;49mpip install --upgrade pip\u001b[0m\n"
     ]
    }
   ],
   "source": [
    "!pip install h2o-engine-manager"
   ]
  },
  {
   "cell_type": "code",
   "execution_count": null,
   "metadata": {},
   "outputs": [],
   "source": [
    "# Optional - Install the required packages\n",
    "!pip install ipython\n",
    "!pip install pandas\n",
    "!pip install numpy\n",
    "!pip install matplotlib\n",
    "!pip install scikit-learn\n",
    "!pip install \"h2o-authn~=1.0\"\n",
    "!pip install h2o-engine-manager\n"
   ]
  },
  {
   "cell_type": "markdown",
   "metadata": {},
   "source": [
    "### Authentication"
   ]
  },
  {
   "cell_type": "code",
   "execution_count": 11,
   "metadata": {},
   "outputs": [
    {
     "name": "stdout",
     "output_type": "stream",
     "text": [
      "Visit https://internal.dedicated.h2o.ai/auth/get-platform-token to get your platform token\n"
     ]
    },
    {
     "name": "stdin",
     "output_type": "stream",
     "text": [
      "Enter your platform token:  ········\n"
     ]
    },
    {
     "name": "stdout",
     "output_type": "stream",
     "text": [
      "Connected to H2o AI Engine Manager Successfully...\n"
     ]
    },
    {
     "name": "stdout",
     "output_type": "stream",
     "text": [
      "Enter your platform token:  ········\n"
     ]
    },
    {
     "name": "stdout",
     "output_type": "stream",
     "text": [
      "time: 2.02 s (started: 2025-08-04 19:14:17 +00:00)\n"
     ]
    }
   ],
   "source": [
    "# Import the required packages\n",
    "\n",
    "import pandas as pd \n",
    "import numpy as np \n",
    "import h2o_authn \n",
    "import getpass \n",
    "import h2o_engine_manager \n",
    "\n",
    "# Authenticate with your token\n",
    "\n",
    "print(f\"Visit https://internal.dedicated.h2o.ai/auth/get-platform-token to get your platform token\") \n",
    "token_provider = h2o_authn.TokenProvider(\n",
    "  refresh_token=getpass.getpass('Enter your platform token: '),\n",
    "  client_id=\"hac-platform-public\", \n",
    "  token_endpoint_url=\"https://auth.internal.dedicated.h2o.ai/auth/realms/hac/protocol/openid-connect/token\" \n",
    ")\n",
    "\n",
    "aiem = h2o_engine_manager.login(\n",
    "  environment=\"https://internal.dedicated.h2o.ai\", \n",
    "  token_provider=token_provider\n",
    ")\n",
    "\n",
    "print(\"Connected to H2o AI Engine Manager Successfully...\")\n",
    "\n",
    "#questions"
   ]
  },
  {
   "cell_type": "markdown",
   "metadata": {},
   "source": [
    "### Checking Available Engines "
   ]
  },
  {
   "cell_type": "code",
   "execution_count": 20,
   "metadata": {},
   "outputs": [
    {
     "name": "stdout",
     "output_type": "stream",
     "text": [
      "Available Engines:\n",
      "\n",
      "[0] CB Python Client DAI (ID: dai-engine-1234)  - State: STATE_RUNNING\n",
      "[1] CB-training-final (ID: cb-training-final)  - State: STATE_CONNECTING\n",
      "[2] CB-training-v1 (ID: cb-training-v1)  - State: STATE_RUNNING\n",
      "[3] New DAI Engine 7733 (ID: new-dai-engine-7733)  - State: STATE_PAUSED\n",
      "[4] New DAI Engine 6760 (ID: new-dai-engine-6760)  - State: STATE_PAUSED\n",
      "[5] New DAI Engine 690 (ID: new-dai-engine-690)  - State: STATE_PAUSED\n"
     ]
    }
   ],
   "source": [
    "dai_engine_client = aiem.dai_engine_client\n",
    "\n",
    "# Get the list of engines\n",
    "engines = dai_engine_client.list_engines().engines\n",
    "\n",
    "# Display available engines\n",
    "if engines:\n",
    "    print(\"Available Engines:\\n\")\n",
    "    for idx, engine in enumerate(engines):\n",
    "        print(f\"[{idx}] {engine.display_name} (ID: {engine.engine_id})  - State: {engine.state.value}\")\n",
    "\n",
    "    # # Prompt user to select one by index\n",
    "    # selected_idx = int(input(\"\\nSelect an engine by index: \"))\n",
    "    # selected_engine = engines[selected_idx]\n",
    "\n",
    "    # # Extract selected engine info\n",
    "    # engine_id = selected_engine.engine_id\n",
    "    # display_name = selected_engine.display_name\n",
    "\n",
    "    # print(f\"\\nSelected Engine: {display_name} (ID: {engine_id})\")\n",
    "    # refreshed_engine = dai_engine_client.get_engine(engine_id=engine_id)\n",
    "    # print(f\"Refreshed Status: {refreshed_engine.state.value}\")\n",
    "\n",
    "    \n",
    "    # print(\"No engines available.\")"
   ]
  },
  {
   "cell_type": "markdown",
   "metadata": {},
   "source": [
    "### Create a DriverlessAI Engine with Script"
   ]
  },
  {
   "cell_type": "code",
   "execution_count": 18,
   "metadata": {},
   "outputs": [],
   "source": [
    "\n",
    "# Create the DAIEngine with custom parameters.\n",
    "engine = dai_engine_client.create_engine(\n",
    "   workspace_id = \"default\",\n",
    "    engine_id=\"dai-engine-1234\",\n",
    "    display_name=\"CB Python Client DAI\",\n",
    "    cpu=4,\n",
    "    gpu=0,\n",
    "    memory_bytes=\"12Gi\",\n",
    "    storage_bytes=\"64Gi\",\n",
    "    max_idle_duration=\"1h\",\n",
    "    max_running_duration=\"4h\",\n",
    "    profile=\"workspaces/global/daiEngineProfiles/default\",  # One of the listed profiles.\n",
    "    dai_engine_version=\"workspaces/global/daiEngineVersions/1.11.1.1\",  # One of the listed versions.\n",
    ")\n",
    "\n",
    "# This call blocks until the engine is ready.\n",
    "# It may take a few minutes.\n",
    "# engine.wait()\n",
    "\n",
    "# Now DAI is ready to be connected to.\n",
    "# This returns an initialized driverlessai.Client\n",
    "# dai = engine.connect()"
   ]
  },
  {
   "cell_type": "markdown",
   "metadata": {},
   "source": [
    "### Create a Driverless AI Engine with AI cloud platform\n",
    "\n",
    "Steps to Create AI Engines in AI Cloud Platform\n",
    "Go to the AI Cloud Platform\n",
    "Log in to your organization's AI Cloud Platform using your credentials.\n",
    "\n",
    "Click on “AI Engines” in the Sidebar\n",
    "Navigate to the left sidebar and select AI Engines.\n",
    "\n",
    "Choose the Engine to Create\n",
    "On the AI Engines page, you will see options to create:\n",
    "\n",
    "* Driverless AI\n",
    "* H2O-3\n",
    "* Notebook Instance\n",
    "\n",
    "Proceed with Engine Creation\n",
    "Click on your desired engine type, then follow the prompts to complete setup and configuration."
   ]
  },
  {
   "cell_type": "markdown",
   "metadata": {},
   "source": [
    "### Connect to DAI with engine id "
   ]
  },
  {
   "cell_type": "code",
   "execution_count": 21,
   "metadata": {},
   "outputs": [
    {
     "name": "stdin",
     "output_type": "stream",
     "text": [
      "Enter the engine id cb-training-final\n"
     ]
    },
    {
     "name": "stdout",
     "output_type": "stream",
     "text": [
      "Connected Successfully...\n"
     ]
    },
    {
     "name": "stdout",
     "output_type": "stream",
     "text": [
      "Connected Successfully...\n",
      "time: 3.74 s (started: 2025-08-04 19:19:09 +00:00)\n"
     ]
    }
   ],
   "source": [
    "# Find the DAI Engine using the Engine ID and connect\n",
    "\n",
    "dai_engine = dai_engine_client.get_engine(input(\"Enter the engine id\"))\n",
    "\n",
    "# dai_engine.resume()\n",
    "# dai_engine.wait()\n",
    "\n",
    "dai = dai_engine.connect()\n",
    "print(\"Connected Successfully...\")\n",
    "\n",
    "#questions"
   ]
  },
  {
   "cell_type": "code",
   "execution_count": 22,
   "metadata": {},
   "outputs": [
    {
     "data": {
      "text/plain": [
       "<Version('1.11.1.1')>"
      ]
     },
     "execution_count": 22,
     "metadata": {},
     "output_type": "execute_result"
    }
   ],
   "source": [
    "\n",
    "# Check DAI connection \n",
    "dai.server.version"
   ]
  },
  {
   "cell_type": "code",
   "execution_count": 23,
   "metadata": {},
   "outputs": [
    {
     "data": {
      "text/html": [
       "<pre><a href='https://enginemanager.internal.dedicated.h2o.ai/workspaces/4a110815-00e0-4ace-a9a1-3121aa75d12d/daiEngines/cb-training-final' rel='noopener noreferrer' target='_blank'>https://enginemanager.internal.dedicated.h2o.ai/workspaces/4a110815-00e0-4ace-a9a1-3121aa75d12d/daiEngines/cb-training-final</a></pre>"
      ],
      "text/plain": [
       "'https://enginemanager.internal.dedicated.h2o.ai/workspaces/4a110815-00e0-4ace-a9a1-3121aa75d12d/daiEngines/cb-training-final'"
      ]
     },
     "execution_count": 23,
     "metadata": {},
     "output_type": "execute_result"
    }
   ],
   "source": [
    "# At any point - we could call the GUI method to get the link \n",
    "dai.server.gui()"
   ]
  },
  {
   "cell_type": "markdown",
   "metadata": {},
   "source": [
    "## Documentation\n",
    "You can get links to the home page and search the documentation from the python client any time you want to know more about a specific DAI functionality.\n",
    "\n"
   ]
  },
  {
   "cell_type": "code",
   "execution_count": 24,
   "metadata": {},
   "outputs": [
    {
     "data": {
      "text/html": [
       "<pre><a href='https://enginemanager.internal.dedicated.h2o.ai/workspaces/4a110815-00e0-4ace-a9a1-3121aa75d12d/daiEngines/cb-training-final/docs/userguide/search.html?q=s3' rel='noopener noreferrer' target='_blank'>https://enginemanager.internal.dedicated.h2o.ai/workspaces/4a110815-00e0-4ace-a9a1-3121aa75d12d/daiEngines/cb-training-final/docs/userguide/search.html?q=s3</a></pre>"
      ],
      "text/plain": [
       "'https://enginemanager.internal.dedicated.h2o.ai/workspaces/4a110815-00e0-4ace-a9a1-3121aa75d12d/daiEngines/cb-training-final/docs/userguide/search.html?q=s3'"
      ]
     },
     "execution_count": 24,
     "metadata": {},
     "output_type": "execute_result"
    }
   ],
   "source": [
    "dai.server.docs(\"s3\")"
   ]
  },
  {
   "cell_type": "code",
   "execution_count": 25,
   "metadata": {},
   "outputs": [
    {
     "data": {
      "text/html": [
       "<pre><a href='https://enginemanager.internal.dedicated.h2o.ai/workspaces/4a110815-00e0-4ace-a9a1-3121aa75d12d/daiEngines/cb-training-final/docs/userguide/search.html?q=dataset' rel='noopener noreferrer' target='_blank'>https://enginemanager.internal.dedicated.h2o.ai/workspaces/4a110815-00e0-4ace-a9a1-3121aa75d12d/daiEngines/cb-training-final/docs/userguide/search.html?q=dataset</a></pre>"
      ],
      "text/plain": [
       "'https://enginemanager.internal.dedicated.h2o.ai/workspaces/4a110815-00e0-4ace-a9a1-3121aa75d12d/daiEngines/cb-training-final/docs/userguide/search.html?q=dataset'"
      ]
     },
     "execution_count": 25,
     "metadata": {},
     "output_type": "execute_result"
    }
   ],
   "source": [
    "dai.server.docs(\"dataset\")\n",
    "\n"
   ]
  },
  {
   "cell_type": "markdown",
   "metadata": {},
   "source": [
    "## Data\n",
    "Various methods for loading, interacting with, and modifiying data within Driverless AI."
   ]
  },
  {
   "cell_type": "markdown",
   "metadata": {},
   "source": [
    "### List Available Connectors\n",
    "View all ways you are allowed to add data to DAI on this instace - to enable more connectors update the `config.toml` file <br/><br/>\n",
    "**Note:** Interactions with Data Recipes is not yet available so these connectors are not shown"
   ]
  },
  {
   "cell_type": "code",
   "execution_count": 26,
   "metadata": {},
   "outputs": [
    {
     "data": {
      "text/plain": [
       "['upload',\n",
       " 's3',\n",
       " 'snow',\n",
       " 'file',\n",
       " 'jdbc',\n",
       " 'gcs',\n",
       " 'gbq',\n",
       " 'azrbs',\n",
       " 'recipe_file',\n",
       " 'recipe_url',\n",
       " 'h2o_drive',\n",
       " 'upload']"
      ]
     },
     "execution_count": 26,
     "metadata": {},
     "output_type": "execute_result"
    }
   ],
   "source": [
    "dai.connectors.list()"
   ]
  },
  {
   "cell_type": "markdown",
   "metadata": {},
   "source": [
    "### List Existing Datasets"
   ]
  },
  {
   "cell_type": "code",
   "execution_count": 27,
   "metadata": {},
   "outputs": [
    {
     "data": {
      "text/html": [
       "<pre><a href='https://enginemanager.internal.dedicated.h2o.ai/workspaces/4a110815-00e0-4ace-a9a1-3121aa75d12d/daiEngines/cb-training-final/#/datasets' rel='noopener noreferrer' target='_blank'>https://enginemanager.internal.dedicated.h2o.ai/workspaces/4a110815-00e0-4ace-a9a1-3121aa75d12d/daiEngines/cb-training-final/#/datasets</a></pre>"
      ],
      "text/plain": [
       "'https://enginemanager.internal.dedicated.h2o.ai/workspaces/4a110815-00e0-4ace-a9a1-3121aa75d12d/daiEngines/cb-training-final/#/datasets'"
      ]
     },
     "execution_count": 27,
     "metadata": {},
     "output_type": "execute_result"
    }
   ],
   "source": [
    "# Get a link to view all datasets in the UI\n",
    "dai.datasets.gui()"
   ]
  },
  {
   "cell_type": "code",
   "execution_count": 28,
   "metadata": {},
   "outputs": [
    {
     "name": "stdout",
     "output_type": "stream",
     "text": [
      "\n",
      "Existing Datasets\n",
      "\n",
      "    | Type   | Key   | Name\n",
      "----+--------+-------+--------\n",
      "\n",
      "\n"
     ]
    }
   ],
   "source": [
    "# List all the existing datasets\n",
    "\n",
    "print(\"\\nExisting Datasets\\n\")\n",
    "print(dai.datasets.list(start_index=0))\n",
    "print(\"\\n\")\n"
   ]
  },
  {
   "cell_type": "markdown",
   "metadata": {},
   "source": [
    "### Upload and Download Data\n",
    "You can upload data using any method that is enabled on your system. Here we will show:\n",
    "* Add data from a public s3 link\n",
    "* Download a dataset\n",
    "* Upload data from your local machine\n",
    "* Rename a dataset\n"
   ]
  },
  {
   "cell_type": "code",
   "execution_count": 29,
   "metadata": {},
   "outputs": [
    {
     "name": "stdout",
     "output_type": "stream",
     "text": [
      "Complete 100.00% - [4/4] Computed stats for column Account Length\n"
     ]
    }
   ],
   "source": [
    "# Add a dataset from S3 Bucket\n",
    "telco_churn = dai.datasets.create(data=\"https://h2o-internal-release.s3-us-west-2.amazonaws.com/data/Splunk/churn.csv\", \n",
    "                                  data_source=\"s3\", \n",
    "                                  name=\"Telco_Churnv2\")\n",
    "\n",
    "# data_source_config={\n",
    "#         \"aws_access_key_id\": \"your AWS access key id\",\n",
    "#         \"aws_secret_access_key\": \"your AWS secret access key\"\n",
    "#     }"
   ]
  },
  {
   "cell_type": "code",
   "execution_count": 30,
   "metadata": {},
   "outputs": [
    {
     "name": "stdout",
     "output_type": "stream",
     "text": [
      "INFO - Downloaded 'artifacts/churn.csv'\n",
      "File saved to: artifacts/churn.csv\n"
     ]
    }
   ],
   "source": [
    "# Download a dataset\n",
    "local_file_path = telco_churn.download(download_location, dst_file=\"churn.csv\", overwrite=True)\n",
    "print(\"File saved to:\", local_file_path)\n"
   ]
  },
  {
   "cell_type": "code",
   "execution_count": 33,
   "metadata": {
    "scrolled": true
   },
   "outputs": [
    {
     "name": "stdout",
     "output_type": "stream",
     "text": [
      "Complete 100.00% - [4/4] Computed stats for column defaulted\n"
     ]
    }
   ],
   "source": [
    "# Create a dataset using standard upload\n",
    "credit_fraud = dai.datasets.create(\"data/credit_default_train.csv\", name=\"credit_fraud\")"
   ]
  },
  {
   "cell_type": "code",
   "execution_count": 34,
   "metadata": {},
   "outputs": [
    {
     "name": "stdout",
     "output_type": "stream",
     "text": [
      "Old Name: credit_fraud\n",
      "New Name: credit_fraud_updated\n"
     ]
    }
   ],
   "source": [
    "# Rename a existing dataset \n",
    "print(\"Old Name:\", credit_fraud.name)\n",
    "\n",
    "credit_fraud.rename(\"credit_fraud_updated\")\n",
    "\n",
    "print(\"New Name:\", credit_fraud.name)\n"
   ]
  },
  {
   "cell_type": "markdown",
   "metadata": {},
   "source": [
    "### Explore the Dataset\n",
    "* View the column names\n",
    "* View the data shape\n",
    "* View the first and last rows"
   ]
  },
  {
   "cell_type": "code",
   "execution_count": 35,
   "metadata": {},
   "outputs": [
    {
     "name": "stdout",
     "output_type": "stream",
     "text": [
      "7dee19f4-720d-11f0-9da1-42e233be8464 | credit_fraud_updated\n",
      "\n",
      "Columns: ['ID', 'LIMIT_BAL', 'SEX', 'EDUCATION', 'MARRIAGE', 'AGE', 'PAY_0', 'PAY_2', 'PAY_3', 'PAY_4', 'PAY_5', 'PAY_6', 'BILL_AMT1', 'BILL_AMT2', 'BILL_AMT3', 'BILL_AMT4', 'BILL_AMT5', 'BILL_AMT6', 'PAY_AMT1', 'PAY_AMT2', 'PAY_AMT3', 'PAY_AMT4', 'PAY_AMT5', 'PAY_AMT6', 'defaulted']\n",
      "\n",
      "Shape: (24000, 25)\n"
     ]
    }
   ],
   "source": [
    "print(credit_fraud.key, \"|\", credit_fraud.name)\n",
    "print(\"\\nColumns:\", credit_fraud.columns)\n",
    "print('\\nShape:', credit_fraud.shape)"
   ]
  },
  {
   "cell_type": "code",
   "execution_count": 36,
   "metadata": {},
   "outputs": [
    {
     "data": {
      "text/html": [
       "<table>\n",
       "<thead>\n",
       "<tr><th style=\"text-align: right;\">  ID</th><th style=\"text-align: right;\">  LIMIT_BAL</th><th style=\"text-align: right;\">  SEX</th><th style=\"text-align: right;\">  EDUCATION</th><th style=\"text-align: right;\">  MARRIAGE</th><th style=\"text-align: right;\">  AGE</th><th style=\"text-align: right;\">  PAY_0</th><th style=\"text-align: right;\">  PAY_2</th><th style=\"text-align: right;\">  PAY_3</th><th style=\"text-align: right;\">  PAY_4</th><th style=\"text-align: right;\">  PAY_5</th><th style=\"text-align: right;\">  PAY_6</th><th style=\"text-align: right;\">  BILL_AMT1</th><th style=\"text-align: right;\">  BILL_AMT2</th><th style=\"text-align: right;\">  BILL_AMT3</th><th style=\"text-align: right;\">  BILL_AMT4</th><th style=\"text-align: right;\">  BILL_AMT5</th><th style=\"text-align: right;\">  BILL_AMT6</th><th style=\"text-align: right;\">  PAY_AMT1</th><th style=\"text-align: right;\">  PAY_AMT2</th><th style=\"text-align: right;\">  PAY_AMT3</th><th style=\"text-align: right;\">  PAY_AMT4</th><th style=\"text-align: right;\">  PAY_AMT5</th><th style=\"text-align: right;\">  PAY_AMT6</th><th>defaulted  </th></tr>\n",
       "</thead>\n",
       "<tbody>\n",
       "<tr><td style=\"text-align: right;\">   1</td><td style=\"text-align: right;\">      20000</td><td style=\"text-align: right;\">    2</td><td style=\"text-align: right;\">          2</td><td style=\"text-align: right;\">         1</td><td style=\"text-align: right;\">   24</td><td style=\"text-align: right;\">      2</td><td style=\"text-align: right;\">      2</td><td style=\"text-align: right;\">     -1</td><td style=\"text-align: right;\">     -1</td><td style=\"text-align: right;\">     -2</td><td style=\"text-align: right;\">     -2</td><td style=\"text-align: right;\">       3913</td><td style=\"text-align: right;\">       3102</td><td style=\"text-align: right;\">        689</td><td style=\"text-align: right;\">          0</td><td style=\"text-align: right;\">          0</td><td style=\"text-align: right;\">          0</td><td style=\"text-align: right;\">         0</td><td style=\"text-align: right;\">       689</td><td style=\"text-align: right;\">         0</td><td style=\"text-align: right;\">         0</td><td style=\"text-align: right;\">         0</td><td style=\"text-align: right;\">         0</td><td>True       </td></tr>\n",
       "<tr><td style=\"text-align: right;\">   3</td><td style=\"text-align: right;\">      90000</td><td style=\"text-align: right;\">    2</td><td style=\"text-align: right;\">          2</td><td style=\"text-align: right;\">         2</td><td style=\"text-align: right;\">   34</td><td style=\"text-align: right;\">      0</td><td style=\"text-align: right;\">      0</td><td style=\"text-align: right;\">      0</td><td style=\"text-align: right;\">      0</td><td style=\"text-align: right;\">      0</td><td style=\"text-align: right;\">      0</td><td style=\"text-align: right;\">      29239</td><td style=\"text-align: right;\">      14027</td><td style=\"text-align: right;\">      13559</td><td style=\"text-align: right;\">      14331</td><td style=\"text-align: right;\">      14948</td><td style=\"text-align: right;\">      15549</td><td style=\"text-align: right;\">      1518</td><td style=\"text-align: right;\">      1500</td><td style=\"text-align: right;\">      1000</td><td style=\"text-align: right;\">      1000</td><td style=\"text-align: right;\">      1000</td><td style=\"text-align: right;\">      5000</td><td>False      </td></tr>\n",
       "<tr><td style=\"text-align: right;\">   4</td><td style=\"text-align: right;\">      50000</td><td style=\"text-align: right;\">    2</td><td style=\"text-align: right;\">          2</td><td style=\"text-align: right;\">         1</td><td style=\"text-align: right;\">   37</td><td style=\"text-align: right;\">      0</td><td style=\"text-align: right;\">      0</td><td style=\"text-align: right;\">      0</td><td style=\"text-align: right;\">      0</td><td style=\"text-align: right;\">      0</td><td style=\"text-align: right;\">      0</td><td style=\"text-align: right;\">      46990</td><td style=\"text-align: right;\">      48233</td><td style=\"text-align: right;\">      49291</td><td style=\"text-align: right;\">      28314</td><td style=\"text-align: right;\">      28959</td><td style=\"text-align: right;\">      29547</td><td style=\"text-align: right;\">      2000</td><td style=\"text-align: right;\">      2019</td><td style=\"text-align: right;\">      1200</td><td style=\"text-align: right;\">      1100</td><td style=\"text-align: right;\">      1069</td><td style=\"text-align: right;\">      1000</td><td>False      </td></tr>\n",
       "<tr><td style=\"text-align: right;\">   5</td><td style=\"text-align: right;\">      50000</td><td style=\"text-align: right;\">    1</td><td style=\"text-align: right;\">          2</td><td style=\"text-align: right;\">         1</td><td style=\"text-align: right;\">   57</td><td style=\"text-align: right;\">     -1</td><td style=\"text-align: right;\">      0</td><td style=\"text-align: right;\">     -1</td><td style=\"text-align: right;\">      0</td><td style=\"text-align: right;\">      0</td><td style=\"text-align: right;\">      0</td><td style=\"text-align: right;\">       8617</td><td style=\"text-align: right;\">       5670</td><td style=\"text-align: right;\">      35835</td><td style=\"text-align: right;\">      20940</td><td style=\"text-align: right;\">      19146</td><td style=\"text-align: right;\">      19131</td><td style=\"text-align: right;\">      2000</td><td style=\"text-align: right;\">     36681</td><td style=\"text-align: right;\">     10000</td><td style=\"text-align: right;\">      9000</td><td style=\"text-align: right;\">       689</td><td style=\"text-align: right;\">       679</td><td>False      </td></tr>\n",
       "<tr><td style=\"text-align: right;\">   6</td><td style=\"text-align: right;\">      50000</td><td style=\"text-align: right;\">    1</td><td style=\"text-align: right;\">          1</td><td style=\"text-align: right;\">         2</td><td style=\"text-align: right;\">   37</td><td style=\"text-align: right;\">      0</td><td style=\"text-align: right;\">      0</td><td style=\"text-align: right;\">      0</td><td style=\"text-align: right;\">      0</td><td style=\"text-align: right;\">      0</td><td style=\"text-align: right;\">      0</td><td style=\"text-align: right;\">      64400</td><td style=\"text-align: right;\">      57069</td><td style=\"text-align: right;\">      57608</td><td style=\"text-align: right;\">      19394</td><td style=\"text-align: right;\">      19619</td><td style=\"text-align: right;\">      20024</td><td style=\"text-align: right;\">      2500</td><td style=\"text-align: right;\">      1815</td><td style=\"text-align: right;\">       657</td><td style=\"text-align: right;\">      1000</td><td style=\"text-align: right;\">      1000</td><td style=\"text-align: right;\">       800</td><td>False      </td></tr>\n",
       "<tr><td style=\"text-align: right;\">   7</td><td style=\"text-align: right;\">     500000</td><td style=\"text-align: right;\">    1</td><td style=\"text-align: right;\">          1</td><td style=\"text-align: right;\">         2</td><td style=\"text-align: right;\">   29</td><td style=\"text-align: right;\">      0</td><td style=\"text-align: right;\">      0</td><td style=\"text-align: right;\">      0</td><td style=\"text-align: right;\">      0</td><td style=\"text-align: right;\">      0</td><td style=\"text-align: right;\">      0</td><td style=\"text-align: right;\">     367965</td><td style=\"text-align: right;\">     412023</td><td style=\"text-align: right;\">     445007</td><td style=\"text-align: right;\">     542653</td><td style=\"text-align: right;\">     483003</td><td style=\"text-align: right;\">     473944</td><td style=\"text-align: right;\">     55000</td><td style=\"text-align: right;\">     40000</td><td style=\"text-align: right;\">     38000</td><td style=\"text-align: right;\">     20239</td><td style=\"text-align: right;\">     13750</td><td style=\"text-align: right;\">     13770</td><td>False      </td></tr>\n",
       "<tr><td style=\"text-align: right;\">   8</td><td style=\"text-align: right;\">     100000</td><td style=\"text-align: right;\">    2</td><td style=\"text-align: right;\">          2</td><td style=\"text-align: right;\">         2</td><td style=\"text-align: right;\">   23</td><td style=\"text-align: right;\">      0</td><td style=\"text-align: right;\">     -1</td><td style=\"text-align: right;\">     -1</td><td style=\"text-align: right;\">      0</td><td style=\"text-align: right;\">      0</td><td style=\"text-align: right;\">     -1</td><td style=\"text-align: right;\">      11876</td><td style=\"text-align: right;\">        380</td><td style=\"text-align: right;\">        601</td><td style=\"text-align: right;\">        221</td><td style=\"text-align: right;\">       -159</td><td style=\"text-align: right;\">        567</td><td style=\"text-align: right;\">       380</td><td style=\"text-align: right;\">       601</td><td style=\"text-align: right;\">         0</td><td style=\"text-align: right;\">       581</td><td style=\"text-align: right;\">      1687</td><td style=\"text-align: right;\">      1542</td><td>False      </td></tr>\n",
       "<tr><td style=\"text-align: right;\">   9</td><td style=\"text-align: right;\">     140000</td><td style=\"text-align: right;\">    2</td><td style=\"text-align: right;\">          3</td><td style=\"text-align: right;\">         1</td><td style=\"text-align: right;\">   28</td><td style=\"text-align: right;\">      0</td><td style=\"text-align: right;\">      0</td><td style=\"text-align: right;\">      2</td><td style=\"text-align: right;\">      0</td><td style=\"text-align: right;\">      0</td><td style=\"text-align: right;\">      0</td><td style=\"text-align: right;\">      11285</td><td style=\"text-align: right;\">      14096</td><td style=\"text-align: right;\">      12108</td><td style=\"text-align: right;\">      12211</td><td style=\"text-align: right;\">      11793</td><td style=\"text-align: right;\">       3719</td><td style=\"text-align: right;\">      3329</td><td style=\"text-align: right;\">         0</td><td style=\"text-align: right;\">       432</td><td style=\"text-align: right;\">      1000</td><td style=\"text-align: right;\">      1000</td><td style=\"text-align: right;\">      1000</td><td>False      </td></tr>\n",
       "<tr><td style=\"text-align: right;\">  10</td><td style=\"text-align: right;\">      20000</td><td style=\"text-align: right;\">    1</td><td style=\"text-align: right;\">          3</td><td style=\"text-align: right;\">         2</td><td style=\"text-align: right;\">   35</td><td style=\"text-align: right;\">     -2</td><td style=\"text-align: right;\">     -2</td><td style=\"text-align: right;\">     -2</td><td style=\"text-align: right;\">     -2</td><td style=\"text-align: right;\">     -1</td><td style=\"text-align: right;\">     -1</td><td style=\"text-align: right;\">          0</td><td style=\"text-align: right;\">          0</td><td style=\"text-align: right;\">          0</td><td style=\"text-align: right;\">          0</td><td style=\"text-align: right;\">      13007</td><td style=\"text-align: right;\">      13912</td><td style=\"text-align: right;\">         0</td><td style=\"text-align: right;\">         0</td><td style=\"text-align: right;\">         0</td><td style=\"text-align: right;\">     13007</td><td style=\"text-align: right;\">      1122</td><td style=\"text-align: right;\">         0</td><td>False      </td></tr>\n",
       "<tr><td style=\"text-align: right;\">  11</td><td style=\"text-align: right;\">     200000</td><td style=\"text-align: right;\">    2</td><td style=\"text-align: right;\">          3</td><td style=\"text-align: right;\">         2</td><td style=\"text-align: right;\">   34</td><td style=\"text-align: right;\">      0</td><td style=\"text-align: right;\">      0</td><td style=\"text-align: right;\">      2</td><td style=\"text-align: right;\">      0</td><td style=\"text-align: right;\">      0</td><td style=\"text-align: right;\">     -1</td><td style=\"text-align: right;\">      11073</td><td style=\"text-align: right;\">       9787</td><td style=\"text-align: right;\">       5535</td><td style=\"text-align: right;\">       2513</td><td style=\"text-align: right;\">       1828</td><td style=\"text-align: right;\">       3731</td><td style=\"text-align: right;\">      2306</td><td style=\"text-align: right;\">        12</td><td style=\"text-align: right;\">        50</td><td style=\"text-align: right;\">       300</td><td style=\"text-align: right;\">      3738</td><td style=\"text-align: right;\">        66</td><td>False      </td></tr>\n",
       "</tbody>\n",
       "</table>"
      ],
      "text/plain": [
       "   ID |   LIMIT_BAL |   SEX |   EDUCATION |   MARRIAGE |   AGE |   PAY_0 |   PAY_2 |   PAY_3 |   PAY_4 |   PAY_5 |   PAY_6 |   BILL_AMT1 |   BILL_AMT2 |   BILL_AMT3 |   BILL_AMT4 |   BILL_AMT5 |   BILL_AMT6 |   PAY_AMT1 |   PAY_AMT2 |   PAY_AMT3 |   PAY_AMT4 |   PAY_AMT5 |   PAY_AMT6 | defaulted\n",
       "------+-------------+-------+-------------+------------+-------+---------+---------+---------+---------+---------+---------+-------------+-------------+-------------+-------------+-------------+-------------+------------+------------+------------+------------+------------+------------+-------------\n",
       "    1 |       20000 |     2 |           2 |          1 |    24 |       2 |       2 |      -1 |      -1 |      -2 |      -2 |        3913 |        3102 |         689 |           0 |           0 |           0 |          0 |        689 |          0 |          0 |          0 |          0 | True\n",
       "    3 |       90000 |     2 |           2 |          2 |    34 |       0 |       0 |       0 |       0 |       0 |       0 |       29239 |       14027 |       13559 |       14331 |       14948 |       15549 |       1518 |       1500 |       1000 |       1000 |       1000 |       5000 | False\n",
       "    4 |       50000 |     2 |           2 |          1 |    37 |       0 |       0 |       0 |       0 |       0 |       0 |       46990 |       48233 |       49291 |       28314 |       28959 |       29547 |       2000 |       2019 |       1200 |       1100 |       1069 |       1000 | False\n",
       "    5 |       50000 |     1 |           2 |          1 |    57 |      -1 |       0 |      -1 |       0 |       0 |       0 |        8617 |        5670 |       35835 |       20940 |       19146 |       19131 |       2000 |      36681 |      10000 |       9000 |        689 |        679 | False\n",
       "    6 |       50000 |     1 |           1 |          2 |    37 |       0 |       0 |       0 |       0 |       0 |       0 |       64400 |       57069 |       57608 |       19394 |       19619 |       20024 |       2500 |       1815 |        657 |       1000 |       1000 |        800 | False\n",
       "    7 |      500000 |     1 |           1 |          2 |    29 |       0 |       0 |       0 |       0 |       0 |       0 |      367965 |      412023 |      445007 |      542653 |      483003 |      473944 |      55000 |      40000 |      38000 |      20239 |      13750 |      13770 | False\n",
       "    8 |      100000 |     2 |           2 |          2 |    23 |       0 |      -1 |      -1 |       0 |       0 |      -1 |       11876 |         380 |         601 |         221 |        -159 |         567 |        380 |        601 |          0 |        581 |       1687 |       1542 | False\n",
       "    9 |      140000 |     2 |           3 |          1 |    28 |       0 |       0 |       2 |       0 |       0 |       0 |       11285 |       14096 |       12108 |       12211 |       11793 |        3719 |       3329 |          0 |        432 |       1000 |       1000 |       1000 | False\n",
       "   10 |       20000 |     1 |           3 |          2 |    35 |      -2 |      -2 |      -2 |      -2 |      -1 |      -1 |           0 |           0 |           0 |           0 |       13007 |       13912 |          0 |          0 |          0 |      13007 |       1122 |          0 | False\n",
       "   11 |      200000 |     2 |           3 |          2 |    34 |       0 |       0 |       2 |       0 |       0 |      -1 |       11073 |        9787 |        5535 |        2513 |        1828 |        3731 |       2306 |         12 |         50 |        300 |       3738 |         66 | False"
      ]
     },
     "execution_count": 36,
     "metadata": {},
     "output_type": "execute_result"
    }
   ],
   "source": [
    "credit_fraud.head(10)"
   ]
  },
  {
   "cell_type": "code",
   "execution_count": 37,
   "metadata": {},
   "outputs": [
    {
     "data": {
      "text/html": [
       "<table>\n",
       "<thead>\n",
       "<tr><th style=\"text-align: right;\">   ID</th><th style=\"text-align: right;\">  LIMIT_BAL</th><th style=\"text-align: right;\">  SEX</th><th style=\"text-align: right;\">  EDUCATION</th><th style=\"text-align: right;\">  MARRIAGE</th><th style=\"text-align: right;\">  AGE</th><th style=\"text-align: right;\">  PAY_0</th><th style=\"text-align: right;\">  PAY_2</th><th style=\"text-align: right;\">  PAY_3</th><th style=\"text-align: right;\">  PAY_4</th><th style=\"text-align: right;\">  PAY_5</th><th style=\"text-align: right;\">  PAY_6</th><th style=\"text-align: right;\">  BILL_AMT1</th><th style=\"text-align: right;\">  BILL_AMT2</th><th style=\"text-align: right;\">  BILL_AMT3</th><th style=\"text-align: right;\">  BILL_AMT4</th><th style=\"text-align: right;\">  BILL_AMT5</th><th style=\"text-align: right;\">  BILL_AMT6</th><th style=\"text-align: right;\">  PAY_AMT1</th><th style=\"text-align: right;\">  PAY_AMT2</th><th style=\"text-align: right;\">  PAY_AMT3</th><th style=\"text-align: right;\">  PAY_AMT4</th><th style=\"text-align: right;\">  PAY_AMT5</th><th style=\"text-align: right;\">  PAY_AMT6</th><th>defaulted  </th></tr>\n",
       "</thead>\n",
       "<tbody>\n",
       "<tr><td style=\"text-align: right;\">29993</td><td style=\"text-align: right;\">      10000</td><td style=\"text-align: right;\">    1</td><td style=\"text-align: right;\">          3</td><td style=\"text-align: right;\">         1</td><td style=\"text-align: right;\">   43</td><td style=\"text-align: right;\">      0</td><td style=\"text-align: right;\">      0</td><td style=\"text-align: right;\">      0</td><td style=\"text-align: right;\">     -2</td><td style=\"text-align: right;\">     -2</td><td style=\"text-align: right;\">     -2</td><td style=\"text-align: right;\">       8802</td><td style=\"text-align: right;\">      10400</td><td style=\"text-align: right;\">          0</td><td style=\"text-align: right;\">          0</td><td style=\"text-align: right;\">          0</td><td style=\"text-align: right;\">          0</td><td style=\"text-align: right;\">      2000</td><td style=\"text-align: right;\">         0</td><td style=\"text-align: right;\">         0</td><td style=\"text-align: right;\">         0</td><td style=\"text-align: right;\">         0</td><td style=\"text-align: right;\">         0</td><td>False      </td></tr>\n",
       "<tr><td style=\"text-align: right;\">29996</td><td style=\"text-align: right;\">     220000</td><td style=\"text-align: right;\">    1</td><td style=\"text-align: right;\">          3</td><td style=\"text-align: right;\">         1</td><td style=\"text-align: right;\">   39</td><td style=\"text-align: right;\">      0</td><td style=\"text-align: right;\">      0</td><td style=\"text-align: right;\">      0</td><td style=\"text-align: right;\">      0</td><td style=\"text-align: right;\">      0</td><td style=\"text-align: right;\">      0</td><td style=\"text-align: right;\">     188948</td><td style=\"text-align: right;\">     192815</td><td style=\"text-align: right;\">     208365</td><td style=\"text-align: right;\">      88004</td><td style=\"text-align: right;\">      31237</td><td style=\"text-align: right;\">      15980</td><td style=\"text-align: right;\">      8500</td><td style=\"text-align: right;\">     20000</td><td style=\"text-align: right;\">      5003</td><td style=\"text-align: right;\">      3047</td><td style=\"text-align: right;\">      5000</td><td style=\"text-align: right;\">      1000</td><td>False      </td></tr>\n",
       "<tr><td style=\"text-align: right;\">29998</td><td style=\"text-align: right;\">      30000</td><td style=\"text-align: right;\">    1</td><td style=\"text-align: right;\">          2</td><td style=\"text-align: right;\">         2</td><td style=\"text-align: right;\">   37</td><td style=\"text-align: right;\">      4</td><td style=\"text-align: right;\">      3</td><td style=\"text-align: right;\">      2</td><td style=\"text-align: right;\">     -1</td><td style=\"text-align: right;\">      0</td><td style=\"text-align: right;\">      0</td><td style=\"text-align: right;\">       3565</td><td style=\"text-align: right;\">       3356</td><td style=\"text-align: right;\">       2758</td><td style=\"text-align: right;\">      20878</td><td style=\"text-align: right;\">      20582</td><td style=\"text-align: right;\">      19357</td><td style=\"text-align: right;\">         0</td><td style=\"text-align: right;\">         0</td><td style=\"text-align: right;\">     22000</td><td style=\"text-align: right;\">      4200</td><td style=\"text-align: right;\">      2000</td><td style=\"text-align: right;\">      3100</td><td>True       </td></tr>\n",
       "<tr><td style=\"text-align: right;\">29999</td><td style=\"text-align: right;\">      80000</td><td style=\"text-align: right;\">    1</td><td style=\"text-align: right;\">          3</td><td style=\"text-align: right;\">         1</td><td style=\"text-align: right;\">   41</td><td style=\"text-align: right;\">      1</td><td style=\"text-align: right;\">     -1</td><td style=\"text-align: right;\">      0</td><td style=\"text-align: right;\">      0</td><td style=\"text-align: right;\">      0</td><td style=\"text-align: right;\">     -1</td><td style=\"text-align: right;\">      -1645</td><td style=\"text-align: right;\">      78379</td><td style=\"text-align: right;\">      76304</td><td style=\"text-align: right;\">      52774</td><td style=\"text-align: right;\">      11855</td><td style=\"text-align: right;\">      48944</td><td style=\"text-align: right;\">     85900</td><td style=\"text-align: right;\">      3409</td><td style=\"text-align: right;\">      1178</td><td style=\"text-align: right;\">      1926</td><td style=\"text-align: right;\">     52964</td><td style=\"text-align: right;\">      1804</td><td>True       </td></tr>\n",
       "<tr><td style=\"text-align: right;\">30000</td><td style=\"text-align: right;\">      50000</td><td style=\"text-align: right;\">    1</td><td style=\"text-align: right;\">          2</td><td style=\"text-align: right;\">         1</td><td style=\"text-align: right;\">   46</td><td style=\"text-align: right;\">      0</td><td style=\"text-align: right;\">      0</td><td style=\"text-align: right;\">      0</td><td style=\"text-align: right;\">      0</td><td style=\"text-align: right;\">      0</td><td style=\"text-align: right;\">      0</td><td style=\"text-align: right;\">      47929</td><td style=\"text-align: right;\">      48905</td><td style=\"text-align: right;\">      49764</td><td style=\"text-align: right;\">      36535</td><td style=\"text-align: right;\">      32428</td><td style=\"text-align: right;\">      15313</td><td style=\"text-align: right;\">      2078</td><td style=\"text-align: right;\">      1800</td><td style=\"text-align: right;\">      1430</td><td style=\"text-align: right;\">      1000</td><td style=\"text-align: right;\">      1000</td><td style=\"text-align: right;\">      1000</td><td>True       </td></tr>\n",
       "</tbody>\n",
       "</table>"
      ],
      "text/plain": [
       "    ID |   LIMIT_BAL |   SEX |   EDUCATION |   MARRIAGE |   AGE |   PAY_0 |   PAY_2 |   PAY_3 |   PAY_4 |   PAY_5 |   PAY_6 |   BILL_AMT1 |   BILL_AMT2 |   BILL_AMT3 |   BILL_AMT4 |   BILL_AMT5 |   BILL_AMT6 |   PAY_AMT1 |   PAY_AMT2 |   PAY_AMT3 |   PAY_AMT4 |   PAY_AMT5 |   PAY_AMT6 | defaulted\n",
       "-------+-------------+-------+-------------+------------+-------+---------+---------+---------+---------+---------+---------+-------------+-------------+-------------+-------------+-------------+-------------+------------+------------+------------+------------+------------+------------+-------------\n",
       " 29993 |       10000 |     1 |           3 |          1 |    43 |       0 |       0 |       0 |      -2 |      -2 |      -2 |        8802 |       10400 |           0 |           0 |           0 |           0 |       2000 |          0 |          0 |          0 |          0 |          0 | False\n",
       " 29996 |      220000 |     1 |           3 |          1 |    39 |       0 |       0 |       0 |       0 |       0 |       0 |      188948 |      192815 |      208365 |       88004 |       31237 |       15980 |       8500 |      20000 |       5003 |       3047 |       5000 |       1000 | False\n",
       " 29998 |       30000 |     1 |           2 |          2 |    37 |       4 |       3 |       2 |      -1 |       0 |       0 |        3565 |        3356 |        2758 |       20878 |       20582 |       19357 |          0 |          0 |      22000 |       4200 |       2000 |       3100 | True\n",
       " 29999 |       80000 |     1 |           3 |          1 |    41 |       1 |      -1 |       0 |       0 |       0 |      -1 |       -1645 |       78379 |       76304 |       52774 |       11855 |       48944 |      85900 |       3409 |       1178 |       1926 |      52964 |       1804 | True\n",
       " 30000 |       50000 |     1 |           2 |          1 |    46 |       0 |       0 |       0 |       0 |       0 |       0 |       47929 |       48905 |       49764 |       36535 |       32428 |       15313 |       2078 |       1800 |       1430 |       1000 |       1000 |       1000 | True"
      ]
     },
     "execution_count": 37,
     "metadata": {},
     "output_type": "execute_result"
    }
   ],
   "source": [
    "credit_fraud.tail()"
   ]
  },
  {
   "cell_type": "markdown",
   "metadata": {},
   "source": [
    "### Explore the Columns\n",
    "* View column summaries\n",
    "* Update the datatype to be used in modeling"
   ]
  },
  {
   "cell_type": "code",
   "execution_count": 38,
   "metadata": {},
   "outputs": [],
   "source": [
    "# View all column summaries\n",
    "# print(telco_churn.column_summaries())"
   ]
  },
  {
   "cell_type": "code",
   "execution_count": 39,
   "metadata": {},
   "outputs": [
    {
     "name": "stdout",
     "output_type": "stream",
     "text": [
      "--- LIMIT_BAL ---\n",
      "\n",
      " 1e+04|████████████████████\n",
      "      |█████████████\n",
      "      |████████\n",
      "      |████\n",
      "      |███\n",
      "      |\n",
      "      |\n",
      "      |\n",
      "      |\n",
      " 1e+06|\n",
      "\n",
      "Data Type: real\n",
      "Logical Types: []\n",
      "Datetime Format: \n",
      "Count: 24000\n",
      "Missing: 0\n",
      "Mean: 1.67e+05\n",
      "SD: 1.3e+05\n",
      "Min: 1e+04\n",
      "Max: 1e+06\n",
      "Unique: 80\n",
      "Freq: 2706\n",
      "--- AGE ---\n",
      "\n",
      " 21|██████████████\n",
      "   |████████████████████\n",
      "   |███████████████████\n",
      "   |████████████\n",
      "   |████████\n",
      "   |██████\n",
      "   |██\n",
      "   |█\n",
      "   |\n",
      " 75|\n",
      "\n",
      "Data Type: int\n",
      "Logical Types: []\n",
      "Datetime Format: \n",
      "Count: 24000\n",
      "Missing: 0\n",
      "Mean: 35.4\n",
      "SD: 9.2\n",
      "Min: 21\n",
      "Max: 75\n",
      "Unique: 55\n",
      "Freq: 1280\n",
      "--- MARRIAGE ---\n",
      "\n",
      " 0|\n",
      "  |█████████████████\n",
      "  |████████████████████\n",
      " 3|\n",
      "\n",
      "Data Type: int\n",
      "Logical Types: []\n",
      "Datetime Format: \n",
      "Count: 24000\n",
      "Missing: 0\n",
      "Mean: 1.55\n",
      "SD: 0.522\n",
      "Min: 0\n",
      "Max: 3\n",
      "Unique: 4\n",
      "Freq: 12806\n",
      "--- EDUCATION ---\n",
      "\n",
      " 0|\n",
      "  |███████████████\n",
      "  |████████████████████\n",
      "  |███████\n",
      "  |\n",
      "  |\n",
      " 6|\n",
      "\n",
      "Data Type: int\n",
      "Logical Types: []\n",
      "Datetime Format: \n",
      "Count: 24000\n",
      "Missing: 0\n",
      "Mean: 1.85\n",
      "SD: 0.792\n",
      "Min: 0\n",
      "Max: 6\n",
      "Unique: 7\n",
      "Freq: 11256\n",
      "--- defaulted ---\n",
      "\n",
      " 0|████████████████████\n",
      " 1|██████\n",
      "\n",
      "Data Type: bool\n",
      "Logical Types: []\n",
      "Datetime Format: \n",
      "Count: 24000\n",
      "Missing: 0\n",
      "Mean: 0.221\n",
      "SD: 0.415\n",
      "Min: 0\n",
      "Max: 1\n",
      "Unique: 2\n",
      "Freq: 5309\n",
      "\n"
     ]
    }
   ],
   "source": [
    "# View summaries of selected columns\n",
    "print(credit_fraud.column_summaries([\"LIMIT_BAL\",\"AGE\",\"MARRIAGE\",\"EDUCATION\",\"defaulted\"]))"
   ]
  },
  {
   "cell_type": "code",
   "execution_count": 40,
   "metadata": {},
   "outputs": [
    {
     "name": "stdout",
     "output_type": "stream",
     "text": [
      "--- MARRIAGE ---\n",
      "\n",
      " 0|\n",
      "  |█████████████████\n",
      "  |████████████████████\n",
      " 3|\n",
      "\n",
      "Data Type: int\n",
      "Logical Types: ['categorical']\n",
      "Datetime Format: \n",
      "Count: 24000\n",
      "Missing: 0\n",
      "Mean: 1.55\n",
      "SD: 0.522\n",
      "Min: 0\n",
      "Max: 3\n",
      "Unique: 4\n",
      "Freq: 12806\n"
     ]
    }
   ],
   "source": [
    "# Force a numeric column to only be used as a category\n",
    "credit_fraud.set_logical_types({'MARRIAGE': ['categorical']})\n",
    "print(credit_fraud.column_summaries()[\"MARRIAGE\"])"
   ]
  },
  {
   "cell_type": "markdown",
   "metadata": {},
   "source": [
    "### Split a Dataset\n",
    "The split function returns a dictionary of two datasets so you can easily pass them to the experiments"
   ]
  },
  {
   "cell_type": "code",
   "execution_count": 41,
   "metadata": {},
   "outputs": [
    {
     "name": "stdout",
     "output_type": "stream",
     "text": [
      "Complete\n"
     ]
    }
   ],
   "source": [
    "credit_fraud_split = credit_fraud.split_to_train_test(\n",
    "    train_size=0.8, \n",
    "    train_name='credit_fraud_train', \n",
    "    test_name='credit_fraud_test', \n",
    "    target_column= \"defaulted\", \n",
    "    seed=42\n",
    ")"
   ]
  },
  {
   "cell_type": "code",
   "execution_count": 42,
   "metadata": {},
   "outputs": [
    {
     "data": {
      "text/plain": [
       "{'train_dataset': <class 'Dataset'> aec990bc-720d-11f0-9da1-42e233be8464 credit_fraud_train,\n",
       " 'test_dataset': <class 'Dataset'> aec9dc02-720d-11f0-9da1-42e233be8464 credit_fraud_test}"
      ]
     },
     "execution_count": 42,
     "metadata": {},
     "output_type": "execute_result"
    }
   ],
   "source": [
    "credit_fraud_split"
   ]
  },
  {
   "cell_type": "code",
   "execution_count": 43,
   "metadata": {},
   "outputs": [],
   "source": [
    "#questions"
   ]
  },
  {
   "cell_type": "markdown",
   "metadata": {},
   "source": [
    "## Recipes\n",
    "Recipes are components of the ML pipeline such as algorithms, feature transformers, and scores. You can view all availabe recipes and upload new ones to your instance of DAI.\n",
    "\n",
    "* List all available models\n",
    "* List any custom transformers\n",
    "* List all scorers that can be used for binomial classification\n",
    "* Upload a custom recipe and save it to be tested later"
   ]
  },
  {
   "cell_type": "markdown",
   "metadata": {},
   "source": [
    "### Available Models"
   ]
  },
  {
   "cell_type": "code",
   "execution_count": 44,
   "metadata": {},
   "outputs": [
    {
     "data": {
      "text/plain": [
       "['Aggregator',\n",
       " 'Constant',\n",
       " 'DecisionTree',\n",
       " 'FTRL',\n",
       " 'GLM',\n",
       " 'ImageAuto',\n",
       " 'ImbalancedLightGBM',\n",
       " 'ImbalancedXGBoostGBM',\n",
       " 'IsolationForestAnomaly',\n",
       " 'KMeans',\n",
       " 'KMeansFreq',\n",
       " 'KMeansOHE',\n",
       " 'KNNCUML',\n",
       " 'LightGBM',\n",
       " 'LightGBMDask',\n",
       " 'RFCUML',\n",
       " 'RFCUMLDask',\n",
       " 'RuleFit',\n",
       " 'TensorFlow',\n",
       " 'TextALBERT',\n",
       " 'TextBERT',\n",
       " 'TextCamemBERT',\n",
       " 'TextDistilBERT',\n",
       " 'TextMultilingualBERT',\n",
       " 'TextRoBERTa',\n",
       " 'TextXLM',\n",
       " 'TextXLMRoberta',\n",
       " 'TextXLNET',\n",
       " 'TorchGrowNet',\n",
       " 'TruncSVD',\n",
       " 'Unsupervised',\n",
       " 'UnsupervisedGeneral',\n",
       " 'UnsupervisedOneAll',\n",
       " 'UnsupervisedOneOutput',\n",
       " 'XGBoostDart',\n",
       " 'XGBoostDartDask',\n",
       " 'XGBoostGBM',\n",
       " 'XGBoostGBMDask',\n",
       " 'XGBoostRF',\n",
       " 'XGBoostRFDask',\n",
       " 'ZeroInflatedLightGBM',\n",
       " 'ZeroInflatedXGBoost']"
      ]
     },
     "execution_count": 44,
     "metadata": {},
     "output_type": "execute_result"
    }
   ],
   "source": [
    "[m.name for m in dai.recipes.models.list()]"
   ]
  },
  {
   "cell_type": "markdown",
   "metadata": {},
   "source": [
    "### Available Feature Transformers"
   ]
  },
  {
   "cell_type": "code",
   "execution_count": 45,
   "metadata": {},
   "outputs": [
    {
     "data": {
      "text/plain": [
       "['AggregatorTransformer',\n",
       " 'AutovizRecommendationsTransformer',\n",
       " 'BERTTransformer',\n",
       " 'BinnerTransformer',\n",
       " 'CVCatNumEncodeTransformer',\n",
       " 'CVTECUMLTransformer',\n",
       " 'CVTargetEncodeTransformer',\n",
       " 'CatOriginalTransformer',\n",
       " 'CatTransformer',\n",
       " 'ClusterDistCUMLDaskTransformer',\n",
       " 'ClusterDistCUMLTransformer',\n",
       " 'ClusterDistTransformer',\n",
       " 'ClusterIdAllNumTransformer',\n",
       " 'ClusterTETransformer',\n",
       " 'DBSCANCUMLDaskTransformer',\n",
       " 'DBSCANCUMLTransformer',\n",
       " 'DateOriginalTransformer',\n",
       " 'DateTimeDiffTransformer',\n",
       " 'DateTimeOriginalTransformer',\n",
       " 'DatesTransformer',\n",
       " 'EwmaLagsTransformer',\n",
       " 'FrequentTransformer',\n",
       " 'ImageOriginalTransformer',\n",
       " 'ImageVectorizerTransformer',\n",
       " 'InteractionsTransformer',\n",
       " 'IsHolidayTransformer',\n",
       " 'IsolationForestAnomalyAllNumericTransformer',\n",
       " 'IsolationForestAnomalyNumCatAllColsTransformer',\n",
       " 'IsolationForestAnomalyNumCatTransformer',\n",
       " 'IsolationForestAnomalyNumericTransformer',\n",
       " 'LagsAggregatesTransformer',\n",
       " 'LagsInteractionTransformer',\n",
       " 'LagsTransformer',\n",
       " 'LexiLabelEncoderTransformer',\n",
       " 'MeanTargetTransformer',\n",
       " 'NumCatTETransformer',\n",
       " 'NumToCatTETransformer',\n",
       " 'NumToCatWoEMonotonicTransformer',\n",
       " 'NumToCatWoETransformer',\n",
       " 'OneHotEncodingLinearTransformer',\n",
       " 'OneHotEncodingTransformer',\n",
       " 'OneHotEncodingUnsupervisedTransformer',\n",
       " 'OriginalTransformer',\n",
       " 'RobustScalerTransformer',\n",
       " 'StandardScalerTransformer',\n",
       " 'StringConcatTransformer',\n",
       " 'TSNECUMLTransformer',\n",
       " 'TextBiGRUTransformer',\n",
       " 'TextCNNTransformer',\n",
       " 'TextCharCNNTransformer',\n",
       " 'TextLinModelTransformer',\n",
       " 'TextOriginalTransformer',\n",
       " 'TextTransformer',\n",
       " 'TimeSeriesTargetEncSimpleTransformer',\n",
       " 'TimeSeriesTargetEncTransformer',\n",
       " 'TruncSVDAllNumTransformer',\n",
       " 'TruncSVDCUMLDaskTransformer',\n",
       " 'TruncSVDCUMLTransformer',\n",
       " 'TruncSVDNumTransformer',\n",
       " 'UMAPCUMLDaskTransformer',\n",
       " 'UMAPCUMLTransformer',\n",
       " 'WeightOfEvidenceTransformer']"
      ]
     },
     "execution_count": 45,
     "metadata": {},
     "output_type": "execute_result"
    }
   ],
   "source": [
    "[t.name for t in dai.recipes.transformers.list()]"
   ]
  },
  {
   "cell_type": "markdown",
   "metadata": {},
   "source": [
    "### Available Scorer\n",
    "\n",
    "Can get the suggested scorers\n",
    "- for_multiclass\n",
    "- for_binomial\n",
    "- for_regression"
   ]
  },
  {
   "cell_type": "code",
   "execution_count": 46,
   "metadata": {},
   "outputs": [
    {
     "data": {
      "text/plain": [
       "['ACCURACY',\n",
       " 'AUC',\n",
       " 'AUCPR',\n",
       " 'F05',\n",
       " 'F1',\n",
       " 'F2',\n",
       " 'GINI',\n",
       " 'LOGLOSS',\n",
       " 'MACROAUC',\n",
       " 'MACROF1',\n",
       " 'MACROMCC',\n",
       " 'MCC']"
      ]
     },
     "execution_count": 46,
     "metadata": {},
     "output_type": "execute_result"
    }
   ],
   "source": [
    "[s.name for s in dai.recipes.scorers.list() if s.for_binomial]"
   ]
  },
  {
   "cell_type": "markdown",
   "metadata": {},
   "source": [
    "### Create a Custom Feature Recipe\n",
    "\n",
    "Follow this guide to create your own recipe: [How to Write a Feature Transformer Recipe](https://github.com/h2oai/driverlessai-recipes/tree/44a56788f6e9231bde12a4effad5b796754c73e3/how_to_write_a_recipe) \n",
    "\n",
    "[Sum Transformer](\"https://github.com/h2oai/driverlessai-recipes/blob/rel-1.8.6/transformers/numeric/sum.py\")\n"
   ]
  },
  {
   "cell_type": "code",
   "execution_count": 47,
   "metadata": {},
   "outputs": [
    {
     "name": "stdout",
     "output_type": "stream",
     "text": [
      "Complete 100.00%\n"
     ]
    },
    {
     "data": {
      "text/plain": [
       "<class 'TransformerRecipe'> SumTransformer"
      ]
     },
     "execution_count": 47,
     "metadata": {},
     "output_type": "execute_result"
    }
   ],
   "source": [
    "dai.recipes.create(\"https://github.com/h2oai/driverlessai-recipes/blob/rel-1.8.6/transformers/numeric/sum.py\")"
   ]
  },
  {
   "cell_type": "code",
   "execution_count": 48,
   "metadata": {},
   "outputs": [
    {
     "data": {
      "text/plain": [
       "['SumTransformer']"
      ]
     },
     "execution_count": 48,
     "metadata": {},
     "output_type": "execute_result"
    }
   ],
   "source": [
    "[t.name for t in dai.recipes.transformers.list() if t.is_custom]"
   ]
  },
  {
   "cell_type": "code",
   "execution_count": 49,
   "metadata": {},
   "outputs": [],
   "source": [
    "# Add \"Custom Created Sum Transformer\"\n",
    "transformers_to_use = [t for t in dai.recipes.transformers.list() if not t.is_custom or 'Sum' in t.name]"
   ]
  },
  {
   "cell_type": "code",
   "execution_count": 50,
   "metadata": {},
   "outputs": [],
   "source": [
    "#questions"
   ]
  },
  {
   "cell_type": "markdown",
   "metadata": {},
   "source": [
    "## Modeling\n",
    "**Notes:** Dictionaries allow you to easily use common settings in your experiments <br/>\n",
    "**Notes:** Experiments will be `sync` by default meaning they will lock the notebook until they are complete. You can also use `async` versions of the functions. With the `async` functions you can use included code below to monitor and experiment as it runs, see logs in real time, and stop it when it is \"good enough\"."
   ]
  },
  {
   "cell_type": "markdown",
   "metadata": {},
   "source": [
    "### List Existing Experiments"
   ]
  },
  {
   "cell_type": "code",
   "execution_count": 51,
   "metadata": {},
   "outputs": [
    {
     "data": {
      "text/plain": [
       "[]"
      ]
     },
     "execution_count": 51,
     "metadata": {},
     "output_type": "execute_result"
    }
   ],
   "source": [
    "[e.name for e in dai.experiments.list()]"
   ]
  },
  {
   "cell_type": "markdown",
   "metadata": {},
   "source": [
    "### Dictionary for a Use Case\n",
    "We might want to run several experiments with different dial and expert settings. All of these will likely have some things in common, namely details about this specific dataset. We will create a dictionary to use in many experiments."
   ]
  },
  {
   "cell_type": "code",
   "execution_count": 52,
   "metadata": {},
   "outputs": [],
   "source": [
    "credit_settings = {\n",
    "    **credit_fraud_split,\n",
    "    'task': 'classification',\n",
    "    'target_column': \"defaulted\",\n",
    "    'scorer': 'F1'\n",
    "}"
   ]
  },
  {
   "cell_type": "markdown",
   "metadata": {},
   "source": [
    "### Get Reccomended Dial Settings"
   ]
  },
  {
   "cell_type": "code",
   "execution_count": 53,
   "metadata": {},
   "outputs": [
    {
     "name": "stdout",
     "output_type": "stream",
     "text": [
      "INFO - \n",
      "ACCURACY [5/10]:\n",
      "- Training data size: *19,200 rows, 24 cols*\n",
      "- Feature evolution: *[Constant, GLM, LightGBM, XGBoostGBM]*, *3-fold CV*\n",
      "- Final pipeline: *Blend of up to 3 [Constant, GLM, LightGBM, XGBoostGBM] models, each averaged across 3-fold CV splits*\n",
      "\n",
      "TIME [3/10]:\n",
      "- Feature evolution: *4 individuals*, up to *30 iterations*\n",
      "- Early stopping: After *5* iterations of no improvement\n",
      "\n",
      "INTERPRETABILITY [7/10]:\n",
      "- Feature pre-pruning strategy: Permutation Importance FS\n",
      "- Monotonicity constraints: enabled\n",
      "- Feature engineering search space: [CVCatNumEncode, CVTargetEncode, CatOriginal, Cat, Frequent, Interactions, NumCatTE, NumToCatTE, NumToCatWoEMonotonic, NumToCatWoE, OneHotEncoding, Original, WeightOfEvidence]\n",
      "\n",
      "[Constant, GLM, LightGBM, XGBoostGBM] models to train:\n",
      "- Model and feature tuning: *48*\n",
      "- Feature evolution: *192*\n",
      "- Final pipeline: *9*\n",
      "\n",
      "Estimated runtime: *10 minutes*\n",
      "Estimated mojo_size: *100.0kB*\n",
      "Estimated max CPU memory usage: *1.0GB*\n",
      "Finish/Abort (if not done) in: *1 hour*/*7 days*\n"
     ]
    }
   ],
   "source": [
    "# Get experiment preview with our settings\n",
    "dai.experiments.preview(\n",
    "    **credit_settings\n",
    ")"
   ]
  },
  {
   "cell_type": "markdown",
   "metadata": {},
   "source": [
    "### Dictionary for Fast Experiments\n",
    "\n",
    "There may be several common types of experiments you want to run, and H2O.ai will be creating common experiment settings in dictionaries for easy use. The one below turns off all extra settings such as building pipelines or checking for leakage. It also uses the fastest experiment settings."
   ]
  },
  {
   "cell_type": "code",
   "execution_count": 54,
   "metadata": {},
   "outputs": [],
   "source": [
    "fast_settings = {\n",
    "    'accuracy': 1,\n",
    "    'time': 1,\n",
    "    'interpretability': 6,\n",
    "    'make_python_scoring_pipeline': 'off',\n",
    "    'make_mojo_scoring_pipeline': 'off',\n",
    "    'benchmark_mojo_latency': 'off',\n",
    "    'make_autoreport': False,\n",
    "    'check_leakage': 'off',\n",
    "    'check_distribution_shift': 'off'\n",
    "}"
   ]
  },
  {
   "cell_type": "markdown",
   "metadata": {},
   "source": [
    "### Search for Settings\n",
    "There are many expert settings available, you can use the serach functionality to look for names or keywords for settings you may want to use."
   ]
  },
  {
   "cell_type": "code",
   "execution_count": 55,
   "metadata": {},
   "outputs": [
    {
     "name": "stdout",
     "output_type": "stream",
     "text": [
      "aux_threshold_data_size_large | default_value: 10000000\n",
      "enable_lightgbm_multiclass_balancing | default_value: auto\n",
      "force_stratified_splits_for_imbalanced_threshold_binary | default_value: 0.01\n",
      "imbalance_sampling_method | default_value: off\n",
      "imbalance_sampling_threshold_min_rows_original | default_value: 100000\n",
      "imbalance_ratio_sampling_threshold | default_value: 5\n",
      "heavy_imbalance_ratio_sampling_threshold | default_value: 25\n",
      "imbalance_ratio_multiclass_threshold | default_value: 5\n",
      "heavy_imbalance_ratio_multiclass_threshold | default_value: 25\n",
      "imbalance_sampling_number_of_bags | default_value: -1\n",
      "imbalance_sampling_max_number_of_bags | default_value: 10\n",
      "imbalance_sampling_max_number_of_bags_feature_evolution | default_value: 3\n",
      "imbalance_sampling_max_multiple_data_size | default_value: 1.0\n",
      "imbalance_sampling_rank_averaging | default_value: auto\n",
      "imbalance_sampling_target_minority_fraction | default_value: -1.0\n",
      "imbalance_ratio_notification_threshold | default_value: 2.0\n"
     ]
    }
   ],
   "source": [
    "dai.experiments.search_expert_settings('imbalanced')"
   ]
  },
  {
   "cell_type": "code",
   "execution_count": 56,
   "metadata": {},
   "outputs": [
    {
     "name": "stdout",
     "output_type": "stream",
     "text": [
      "imbalance_sampling_method | default_value: off | Sampling method for imbalanced binary classification problems\n",
      "  Sampling method for imbalanced binary classification problems. Choices are: \"auto\": sample both classes as needed, depending on data \"over_under_sampling\": over-sample the minority class and under-sample the majority class, depending on data \"under_sampling\": under-sample the majority class to reach class balance \"off\": do not perform any sampling\n",
      "\n",
      "imbalance_sampling_threshold_min_rows_original | default_value: 100000 | Threshold for minimum number of rows in original training data to allow imbalanced sampling techniques. For smaller data, will disable imbalanced sampling, no matter what imbalance_sampling_method is set to.\n",
      "  For smaller data, there's no generally no benefit in using imbalanced sampling methods.\n",
      "\n",
      "imbalance_ratio_sampling_threshold | default_value: 5 | Ratio of majority to minority class for imbalanced binary classification to trigger special sampling techniques if enabled\n",
      "  For imbalanced binary classification: ratio of majority to minority class equal and above which to enable special imbalanced models with sampling techniques (specified by imbalance_sampling_method) to attempt to improve model performance.\n",
      "\n"
     ]
    }
   ],
   "source": [
    "dai.experiments.search_expert_settings('imbalance_sampling_method', show_description=True )"
   ]
  },
  {
   "cell_type": "code",
   "execution_count": 57,
   "metadata": {},
   "outputs": [],
   "source": [
    "#questions"
   ]
  },
  {
   "cell_type": "markdown",
   "metadata": {},
   "source": [
    "### Preview Using Our Custom Recipe\n",
    "Notice that `Sum` has been added to the `Feature engineering search space`"
   ]
  },
  {
   "cell_type": "code",
   "execution_count": 58,
   "metadata": {},
   "outputs": [
    {
     "name": "stdout",
     "output_type": "stream",
     "text": [
      "INFO - \n",
      "ACCURACY [5/10]:\n",
      "- Training data size: *19,200 rows, 24 cols*\n",
      "- Feature evolution: *[Constant, GLM, LightGBM, XGBoostGBM]*, *3-fold CV*\n",
      "- Final pipeline: *Blend of up to 3 [Constant, GLM, LightGBM, XGBoostGBM] models, each averaged across 3-fold CV splits*\n",
      "\n",
      "TIME [3/10]:\n",
      "- Feature evolution: *4 individuals*, up to *30 iterations*\n",
      "- Early stopping: After *5* iterations of no improvement\n",
      "\n",
      "INTERPRETABILITY [7/10]:\n",
      "- Feature pre-pruning strategy: Permutation Importance FS\n",
      "- Monotonicity constraints: enabled\n",
      "- Feature engineering search space: [CVCatNumEncode, CVTargetEncode, CatOriginal, Cat, Frequent, Interactions, NumCatTE, NumToCatTE, NumToCatWoEMonotonic, NumToCatWoE, OneHotEncoding, Original, Sum, WeightOfEvidence]\n",
      "\n",
      "[Constant, GLM, LightGBM, XGBoostGBM] models to train:\n",
      "- Model and feature tuning: *48*\n",
      "- Feature evolution: *192*\n",
      "- Final pipeline: *9*\n",
      "- Transformers without MOJO support: *['Sum']*\n",
      "\n",
      "Estimated runtime: *10 minutes*\n",
      "Estimated mojo_size: *100.0kB*\n",
      "Estimated max CPU memory usage: *1.0GB*\n",
      "Finish/Abort (if not done) in: *1 hour*/*7 days*\n"
     ]
    }
   ],
   "source": [
    "# Get experiment preview with our settings\n",
    "dai.experiments.preview(\n",
    "    **credit_settings\n",
    "    ,transformers=transformers_to_use\n",
    ")"
   ]
  },
  {
   "cell_type": "markdown",
   "metadata": {},
   "source": [
    "### Launch an Experiment\n",
    "We will start by running an async experiment which will immeadiatly free our notebook to run additional commands"
   ]
  },
  {
   "cell_type": "code",
   "execution_count": 59,
   "metadata": {},
   "outputs": [
    {
     "name": "stdout",
     "output_type": "stream",
     "text": [
      "INFO - Experiment launched at: https://enginemanager.internal.dedicated.h2o.ai/workspaces/4a110815-00e0-4ace-a9a1-3121aa75d12d/daiEngines/cb-training-final/#/experiment?key=d6069f6c-720d-11f0-9da1-42e233be8464\n"
     ]
    }
   ],
   "source": [
    "default_baseline = dai.experiments.create_async(\n",
    "    **credit_settings, \n",
    "    name='Fastest Settings credit demo v2', **fast_settings,\n",
    "    # name='Default Baseline', accuracy=7, time=2, interpretability=8\n",
    ")"
   ]
  },
  {
   "cell_type": "markdown",
   "metadata": {},
   "source": [
    "### Information on an Experiment"
   ]
  },
  {
   "cell_type": "code",
   "execution_count": 60,
   "metadata": {},
   "outputs": [
    {
     "name": "stdout",
     "output_type": "stream",
     "text": [
      "Name: Fastest Settings credit demo v2\n",
      "Datasets: {'train_dataset': <class 'Dataset'> aec990bc-720d-11f0-9da1-42e233be8464 credit_fraud_train, 'validation_dataset': None, 'test_dataset': <class 'Dataset'> aec9dc02-720d-11f0-9da1-42e233be8464 credit_fraud_test}\n",
      "Target: defaulted\n",
      "Scorer: F1\n",
      "Task: classification\n",
      "Status: Running 91.00% - Scoring on test set...\n",
      "Web Page: "
     ]
    },
    {
     "data": {
      "text/html": [
       "<pre><a href='https://enginemanager.internal.dedicated.h2o.ai/workspaces/4a110815-00e0-4ace-a9a1-3121aa75d12d/daiEngines/cb-training-final/#/experiment?key=d6069f6c-720d-11f0-9da1-42e233be8464' rel='noopener noreferrer' target='_blank'>https://enginemanager.internal.dedicated.h2o.ai/workspaces/4a110815-00e0-4ace-a9a1-3121aa75d12d/daiEngines/cb-training-final/#/experiment?key=d6069f6c-720d-11f0-9da1-42e233be8464</a></pre>"
      ],
      "text/plain": [
       "'https://enginemanager.internal.dedicated.h2o.ai/workspaces/4a110815-00e0-4ace-a9a1-3121aa75d12d/daiEngines/cb-training-final/#/experiment?key=d6069f6c-720d-11f0-9da1-42e233be8464'"
      ]
     },
     "execution_count": 60,
     "metadata": {},
     "output_type": "execute_result"
    }
   ],
   "source": [
    "print(\"Name:\", default_baseline.name)\n",
    "print(\"Datasets:\", default_baseline.datasets)\n",
    "print(\"Target:\", default_baseline.settings['target_column']) # beta users from before March 15th use target_col\n",
    "print(\"Scorer:\", default_baseline.metrics()['scorer'])\n",
    "print(\"Task:\", default_baseline.settings['task'])\n",
    "print(\"Status:\", default_baseline.status(verbose=2))\n",
    "print(\"Web Page: \", end='')\n",
    "default_baseline.gui()"
   ]
  },
  {
   "cell_type": "markdown",
   "metadata": {},
   "source": [
    "### Monitor and Finish the Model Early\n",
    "Example of how you may want to monitor a running experiment, this will print the currently logs and accuracy metrics. You can also finish a model early if it reaches a certain accuracy metric or run time."
   ]
  },
  {
   "cell_type": "code",
   "execution_count": 61,
   "metadata": {},
   "outputs": [
    {
     "name": "stdout",
     "output_type": "stream",
     "text": [
      "Running 98.00% - Building pipeline visualization... - Validation F1: 0.5429 +/- 0.0073\n",
      "\n",
      "\n",
      "Test F1: 0.5693\n"
     ]
    }
   ],
   "source": [
    "# Monitor the experiment and stop at a nice model\n",
    "import time\n",
    "from IPython.display import clear_output\n",
    "\n",
    "while default_baseline.is_running():\n",
    "    time.sleep(1)\n",
    "    \n",
    "    # grab experiment status\n",
    "    status = default_baseline.status(verbose=2)\n",
    "    \n",
    "    # grab current metrics\n",
    "    metrics = default_baseline.metrics()   \n",
    "    \n",
    "    # pretty print info\n",
    "    clear_output(wait=True)\n",
    "    print(status, \" - Validation \", metrics['scorer'], \": \", sep='', end='')\n",
    "    \n",
    "    if metrics['val_score'] is not None:\n",
    "        print(round(metrics['val_score'], 4), '+/-', round(metrics['val_score_sd'], 4))\n",
    "        if metrics['val_score'] > 0.9:\n",
    "            default_baseline.finish()\n",
    "    else:\n",
    "        print()\n",
    "    \n",
    "    print()\n",
    "    default_baseline.log.tail(3)\n",
    "    time.sleep(1)\n",
    "    \n",
    "print(\"\\nTest \", default_baseline.metrics()['scorer'], \": \", \n",
    "      round(default_baseline.metrics()['test_score'], 4), sep='')"
   ]
  },
  {
   "cell_type": "markdown",
   "metadata": {},
   "source": [
    "### View the Experiment Summary"
   ]
  },
  {
   "cell_type": "code",
   "execution_count": 62,
   "metadata": {},
   "outputs": [
    {
     "name": "stdout",
     "output_type": "stream",
     "text": [
      "Status: Complete\n",
      "Experiment: Fastest Settings credit demo v2 (d6069f6c-720d-11f0-9da1-42e233be8464)\n",
      "  Version: 1.11.1.1, 2025-08-05 15:08, Py client\n",
      "  Settings: 1/1/6, seed=144628289, GPUs disabled\n",
      "  Train data: credit_fraud_train (19200, 25)\n",
      "  Validation data: N/A\n",
      "  Test data: [Test] (4800, 24)\n",
      "  Target column: defaulted (binary, 22.120% target class)\n",
      "System specs: Linux, 15 GB, 8 CPU cores, 0/0 GPU\n",
      "  Max memory usage: 0.801 GB, 0 GB GPU, 0 GB MOJO\n",
      "Recipe: AutoDL (7 iterations, 2 individuals)\n",
      "  Validation scheme: stratified, 1 internal holdout\n",
      "  Feature engineering: 132 features scored (23 selected)\n",
      "Timing:\n",
      "  Data preparation: 6.59 secs\n",
      "  Shift/Leakage detection: 0.00 secs\n",
      "  Model and feature tuning: 17.86 secs (8 models trained)\n",
      "  Feature evolution: 1.17 secs (0 of 3 model trained)\n",
      "  Final pipeline training: 21.36 secs (7 models trained)\n",
      "  Python / MOJO scorer building: 0.00 secs / 16.56 secs\n",
      "Validation score: F1 = 0.3622638 (constant preds of -1.259)\n",
      "Validation score: F1 = 0.5346093 +/- 0.01172237 (baseline)\n",
      "Validation score: F1 = 0.5429395 +/- 0.007332966 (final pipeline)\n",
      "Test score:       F1 = 0.5693364 +/- 0.01004527 (final pipeline)\n"
     ]
    }
   ],
   "source": [
    "print(default_baseline.summary)"
   ]
  },
  {
   "cell_type": "code",
   "execution_count": 63,
   "metadata": {},
   "outputs": [],
   "source": [
    "#questions"
   ]
  },
  {
   "cell_type": "markdown",
   "metadata": {},
   "source": [
    "### Interact with Model Artifacts\n",
    "* See which are available\n",
    "* Create the AutoReport\n",
    "* Download the AutoReport\n",
    "* Open the AutoReport"
   ]
  },
  {
   "cell_type": "code",
   "execution_count": 64,
   "metadata": {},
   "outputs": [
    {
     "name": "stdout",
     "output_type": "stream",
     "text": [
      "Available artifacts: ['logs', 'summary', 'test_predictions', 'train_predictions']\n"
     ]
    }
   ],
   "source": [
    "print(\"Available artifacts:\", default_baseline.artifacts.list())"
   ]
  },
  {
   "cell_type": "code",
   "execution_count": 65,
   "metadata": {},
   "outputs": [
    {
     "name": "stdout",
     "output_type": "stream",
     "text": [
      "INFO - Generating autodoc...\n"
     ]
    }
   ],
   "source": [
    "default_baseline.artifacts.create('autoreport')"
   ]
  },
  {
   "cell_type": "code",
   "execution_count": 66,
   "metadata": {},
   "outputs": [
    {
     "name": "stdout",
     "output_type": "stream",
     "text": [
      "INFO - Downloaded 'artifacts/report.docx'\n"
     ]
    }
   ],
   "source": [
    "artifacts = default_baseline.artifacts.download(['autoreport'], download_location, overwrite=True)"
   ]
  },
  {
   "cell_type": "markdown",
   "metadata": {},
   "source": [
    "### View Final Model Performance"
   ]
  },
  {
   "cell_type": "code",
   "execution_count": 67,
   "metadata": {},
   "outputs": [
    {
     "data": {
      "text/plain": [
       "{'scorer': 'F1',\n",
       " 'val_score': 0.5429394812680115,\n",
       " 'val_score_sd': 0.0073329657839554295,\n",
       " 'val_roc_auc': 0.7790861330182189,\n",
       " 'val_pr_auc': 0.5474882143623236,\n",
       " 'test_score': 0.5693363844393593,\n",
       " 'test_score_sd': 0.010045266785585205,\n",
       " 'test_roc_auc': 0.7950957187293123,\n",
       " 'test_pr_auc': 0.5916059170466633}"
      ]
     },
     "execution_count": 67,
     "metadata": {},
     "output_type": "execute_result"
    }
   ],
   "source": [
    "default_baseline.metrics()"
   ]
  },
  {
   "cell_type": "code",
   "execution_count": 68,
   "metadata": {},
   "outputs": [
    {
     "name": "stdout",
     "output_type": "stream",
     "text": [
      "Validation F1 :\t 0.543\n",
      "Test F1 :\t 0.569\n"
     ]
    }
   ],
   "source": [
    "# Formatted Score Results\n",
    "print(\"Validation\", default_baseline.metrics()[\"scorer\"], \":\\t\",round(default_baseline.metrics()['val_score'], 3))\n",
    "print(\"Test\", default_baseline.metrics()[\"scorer\"], \":\\t\",round(default_baseline.metrics()['test_score'], 3))"
   ]
  },
  {
   "cell_type": "code",
   "execution_count": 69,
   "metadata": {},
   "outputs": [],
   "source": [
    "#questions"
   ]
  },
  {
   "cell_type": "markdown",
   "metadata": {},
   "source": [
    "### Variable Importance"
   ]
  },
  {
   "cell_type": "code",
   "execution_count": 70,
   "metadata": {
    "scrolled": true
   },
   "outputs": [
    {
     "data": {
      "text/html": [
       "<table>\n",
       "<thead>\n",
       "<tr><th style=\"text-align: right;\">     gain</th><th>interaction       </th><th>description                                                                                   </th></tr>\n",
       "</thead>\n",
       "<tbody>\n",
       "<tr><td style=\"text-align: right;\">1        </td><td>9_PAY_0           </td><td>PAY_0 (Original)                                                                              </td></tr>\n",
       "<tr><td style=\"text-align: right;\">0.32736  </td><td>10_PAY_2          </td><td>PAY_2 (Original)                                                                              </td></tr>\n",
       "<tr><td style=\"text-align: right;\">0.206537 </td><td>8_LIMIT_BAL       </td><td>LIMIT_BAL (Original)                                                                          </td></tr>\n",
       "<tr><td style=\"text-align: right;\">0.16044  </td><td>1_BILL_AMT1       </td><td>BILL_AMT1 (Original)                                                                          </td></tr>\n",
       "<tr><td style=\"text-align: right;\">0.141276 </td><td>15_PAY_AMT1       </td><td>PAY_AMT1 (Original)                                                                           </td></tr>\n",
       "<tr><td style=\"text-align: right;\">0.133158 </td><td>17_PAY_AMT3       </td><td>PAY_AMT3 (Original)                                                                           </td></tr>\n",
       "<tr><td style=\"text-align: right;\">0.126318 </td><td>0_AGE             </td><td>AGE (Original)                                                                                </td></tr>\n",
       "<tr><td style=\"text-align: right;\">0.111374 </td><td>16_PAY_AMT2       </td><td>PAY_AMT2 (Original)                                                                           </td></tr>\n",
       "<tr><td style=\"text-align: right;\">0.096522 </td><td>19_PAY_AMT5       </td><td>PAY_AMT5 (Original)                                                                           </td></tr>\n",
       "<tr><td style=\"text-align: right;\">0.0892073</td><td>22_CVTE:MARRIAGE.0</td><td>Out-of-fold mean of the response grouped by: [&#x27;MARRIAGE&#x27;] using 5 folds [internal:(10, 3, 10)]</td></tr>\n",
       "<tr><td style=\"text-align: right;\">0.0878464</td><td>11_PAY_3          </td><td>PAY_3 (Original)                                                                              </td></tr>\n",
       "<tr><td style=\"text-align: right;\">0.0850852</td><td>2_BILL_AMT2       </td><td>BILL_AMT2 (Original)                                                                          </td></tr>\n",
       "<tr><td style=\"text-align: right;\">0.0827871</td><td>20_PAY_AMT6       </td><td>PAY_AMT6 (Original)                                                                           </td></tr>\n",
       "<tr><td style=\"text-align: right;\">0.0818284</td><td>18_PAY_AMT4       </td><td>PAY_AMT4 (Original)                                                                           </td></tr>\n",
       "<tr><td style=\"text-align: right;\">0.0806506</td><td>4_BILL_AMT4       </td><td>BILL_AMT4 (Original)                                                                          </td></tr>\n",
       "<tr><td style=\"text-align: right;\">0.0721718</td><td>6_BILL_AMT6       </td><td>BILL_AMT6 (Original)                                                                          </td></tr>\n",
       "<tr><td style=\"text-align: right;\">0.0717886</td><td>5_BILL_AMT5       </td><td>BILL_AMT5 (Original)                                                                          </td></tr>\n",
       "<tr><td style=\"text-align: right;\">0.0667835</td><td>3_BILL_AMT3       </td><td>BILL_AMT3 (Original)                                                                          </td></tr>\n",
       "<tr><td style=\"text-align: right;\">0.0649161</td><td>13_PAY_5          </td><td>PAY_5 (Original)                                                                              </td></tr>\n",
       "<tr><td style=\"text-align: right;\">0.0579232</td><td>12_PAY_4          </td><td>PAY_4 (Original)                                                                              </td></tr>\n",
       "<tr><td style=\"text-align: right;\">0.0465844</td><td>7_EDUCATION       </td><td>EDUCATION (Original)                                                                          </td></tr>\n",
       "<tr><td style=\"text-align: right;\">0.0433084</td><td>14_PAY_6          </td><td>PAY_6 (Original)                                                                              </td></tr>\n",
       "<tr><td style=\"text-align: right;\">0.0197829</td><td>21_SEX            </td><td>SEX (Original)                                                                                </td></tr>\n",
       "</tbody>\n",
       "</table>"
      ],
      "text/plain": [
       "      gain | interaction        | description\n",
       "-----------+--------------------+------------------------------------------------------------------------------------------------\n",
       " 1         | 9_PAY_0            | PAY_0 (Original)\n",
       " 0.32736   | 10_PAY_2           | PAY_2 (Original)\n",
       " 0.206537  | 8_LIMIT_BAL        | LIMIT_BAL (Original)\n",
       " 0.16044   | 1_BILL_AMT1        | BILL_AMT1 (Original)\n",
       " 0.141276  | 15_PAY_AMT1        | PAY_AMT1 (Original)\n",
       " 0.133158  | 17_PAY_AMT3        | PAY_AMT3 (Original)\n",
       " 0.126318  | 0_AGE              | AGE (Original)\n",
       " 0.111374  | 16_PAY_AMT2        | PAY_AMT2 (Original)\n",
       " 0.096522  | 19_PAY_AMT5        | PAY_AMT5 (Original)\n",
       " 0.0892073 | 22_CVTE:MARRIAGE.0 | Out-of-fold mean of the response grouped by: ['MARRIAGE'] using 5 folds [internal:(10, 3, 10)]\n",
       " 0.0878464 | 11_PAY_3           | PAY_3 (Original)\n",
       " 0.0850852 | 2_BILL_AMT2        | BILL_AMT2 (Original)\n",
       " 0.0827871 | 20_PAY_AMT6        | PAY_AMT6 (Original)\n",
       " 0.0818284 | 18_PAY_AMT4        | PAY_AMT4 (Original)\n",
       " 0.0806506 | 4_BILL_AMT4        | BILL_AMT4 (Original)\n",
       " 0.0721718 | 6_BILL_AMT6        | BILL_AMT6 (Original)\n",
       " 0.0717886 | 5_BILL_AMT5        | BILL_AMT5 (Original)\n",
       " 0.0667835 | 3_BILL_AMT3        | BILL_AMT3 (Original)\n",
       " 0.0649161 | 13_PAY_5           | PAY_5 (Original)\n",
       " 0.0579232 | 12_PAY_4           | PAY_4 (Original)\n",
       " 0.0465844 | 7_EDUCATION        | EDUCATION (Original)\n",
       " 0.0433084 | 14_PAY_6           | PAY_6 (Original)\n",
       " 0.0197829 | 21_SEX             | SEX (Original)"
      ]
     },
     "execution_count": 70,
     "metadata": {},
     "output_type": "execute_result"
    }
   ],
   "source": [
    "default_baseline.variable_importance()"
   ]
  },
  {
   "cell_type": "markdown",
   "metadata": {},
   "source": [
    "### Retrain a Model for Production\n",
    "* Retrain the final model with the full dataset\n",
    "* Print the model metrics \n",
    "* Create and Download the MOJO"
   ]
  },
  {
   "cell_type": "code",
   "execution_count": 71,
   "metadata": {},
   "outputs": [
    {
     "name": "stdout",
     "output_type": "stream",
     "text": [
      "make_mojo_scoring_pipeline | default_value: auto | Make MOJO scoring pipeline\n",
      "  Whether to create the MOJO scoring pipeline at the end of each experiment. If set to \"auto\", will attempt to create it if possible (without dropping capabilities). If set to \"on\", might need to drop some models, transformers or custom recipes.\n",
      "\n",
      "make_triton_scoring_pipeline | default_value: off | Make Triton scoring pipeline\n",
      "  Whether to create a C++ MOJO based Triton scoring pipeline at the end of each experiment. If set to \"auto\", will attempt to create it if possible (without dropping capabilities). If set to \"on\", might need to drop some models, transformers or custom recipes. Requires make_mojo_scoring_pipeline != \"off\".\n",
      "\n",
      "make_mojo_scoring_pipeline_for_features_only | default_value: False | Create MOJO for feature engineering pipeline only (no predictions)\n",
      "  Create MOJO for feature engineering pipeline only (no predictions)\n",
      "\n",
      "mojo_replace_target_encoding_with_grouped_input_cols | default_value: False | Replaces target encoding features with concatenated input features.\n",
      "  Replaces target encoding features by their input columns. Instead of CVTE_Age:Income:Zip, this will create Age:Income:Zip. Only when make_mojo_scoring_pipeline_for_features_only is enabled.\n",
      "\n"
     ]
    }
   ],
   "source": [
    "# Search for mojo_scoring_pipeline\n",
    "dai.experiments.search_expert_settings(\"mojo_scoring\", show_description=True)"
   ]
  },
  {
   "cell_type": "code",
   "execution_count": 72,
   "metadata": {},
   "outputs": [
    {
     "name": "stdout",
     "output_type": "stream",
     "text": [
      "INFO - Experiment launched at: https://enginemanager.internal.dedicated.h2o.ai/workspaces/4a110815-00e0-4ace-a9a1-3121aa75d12d/daiEngines/cb-training-final/#/experiment?key=1afe45de-720e-11f0-9da1-42e233be8464\n",
      "Complete 100.00% - Status: Complete                               \n"
     ]
    }
   ],
   "source": [
    "# Retrain on all data for productionalizing\n",
    "full_model = default_baseline.retrain(final_pipeline_only=True, \n",
    "                                      train_dataset=credit_fraud,\n",
    "                                      test_dataset=\"\",\n",
    "                                      make_mojo_scoring_pipeline=\"on\")\n",
    "\n",
    "full_model = dai.experiments.get(full_model.key)"
   ]
  },
  {
   "cell_type": "code",
   "execution_count": 73,
   "metadata": {},
   "outputs": [
    {
     "data": {
      "text/plain": [
       "{'scorer': 'F1',\n",
       " 'val_score': 0.5446586412997727,\n",
       " 'val_score_sd': 0.00406218605384366,\n",
       " 'val_roc_auc': 0.7834897548001336,\n",
       " 'val_pr_auc': 0.5592130495330182,\n",
       " 'test_score': None,\n",
       " 'test_score_sd': None,\n",
       " 'test_roc_auc': None,\n",
       " 'test_pr_auc': None}"
      ]
     },
     "execution_count": 73,
     "metadata": {},
     "output_type": "execute_result"
    }
   ],
   "source": [
    "full_model.metrics()"
   ]
  },
  {
   "cell_type": "code",
   "execution_count": 74,
   "metadata": {},
   "outputs": [
    {
     "name": "stdout",
     "output_type": "stream",
     "text": [
      "INFO - Downloaded 'artifacts/mojo.zip'\n"
     ]
    }
   ],
   "source": [
    "artifacts = full_model.artifacts.download(\"mojo_pipeline\", download_location, overwrite=True)"
   ]
  },
  {
   "cell_type": "code",
   "execution_count": 75,
   "metadata": {},
   "outputs": [],
   "source": [
    "#questions"
   ]
  },
  {
   "cell_type": "markdown",
   "metadata": {},
   "source": [
    "### View the Pipeline"
   ]
  },
  {
   "cell_type": "code",
   "execution_count": 76,
   "metadata": {},
   "outputs": [
    {
     "name": "stdout",
     "output_type": "stream",
     "text": [
      "Archive:  artifacts/mojo.zip\n",
      "   creating: mojo-pipeline/\n",
      "  inflating: mojo-pipeline/mojo2-runtime-javadoc.jar\n",
      "  inflating: mojo-pipeline/XGBoostGBMModel.dot\n",
      "  inflating: mojo-pipeline/run_example.sh\n",
      "  inflating: mojo-pipeline/run_example.bat\n",
      "  inflating: mojo-pipeline/example.csv\n",
      "  inflating: mojo-pipeline/example.hex\n",
      "  inflating: mojo-pipeline/README.txt\n",
      "  inflating: mojo-pipeline/example.jay\n",
      "  inflating: mojo-pipeline/daimojo.jar\n",
      "  inflating: mojo-pipeline/mojo2-runtime.jar\n",
      "  inflating: mojo-pipeline/pipeline.dot\n",
      "  inflating: mojo-pipeline/example.py\n",
      "  inflating: mojo-pipeline/training_data_column_stats.json\n",
      "  inflating: mojo-pipeline/XGBoostGBMModel.png\n",
      "  inflating: mojo-pipeline/pipeline.mojo\n",
      "  inflating: mojo-pipeline/pipeline.png\n"
     ]
    }
   ],
   "source": [
    "# this is for a mac with unzip installed\n",
    "!unzip {artifacts[\"mojo_pipeline\"]} -d {download_location}"
   ]
  },
  {
   "cell_type": "code",
   "execution_count": 77,
   "metadata": {},
   "outputs": [
    {
     "data": {
      "image/png": "[encoded data removed]",
      "text/plain": [
       "<IPython.core.display.Image object>"
      ]
     },
     "execution_count": 77,
     "metadata": {},
     "output_type": "execute_result"
    }
   ],
   "source": [
    "from IPython.display import Image\n",
    "Image(filename=download_location + 'mojo-pipeline/pipeline.png') "
   ]
  },
  {
   "cell_type": "markdown",
   "metadata": {},
   "source": [
    "### Pause the DAI Engine"
   ]
  },
  {
   "cell_type": "code",
   "execution_count": 61,
   "metadata": {},
   "outputs": [
    {
     "name": "stdout",
     "output_type": "stream",
     "text": [
      "time: 512 ms (started: 2025-07-10 15:35:53 +00:00)\n"
     ]
    }
   ],
   "source": [
    "dai_engine.pause()"
   ]
  },
  {
   "cell_type": "code",
   "execution_count": null,
   "metadata": {},
   "outputs": [],
   "source": [
    "#questions"
   ]
  }
 ],
 "metadata": {
  "kernelspec": {
   "display_name": "Python",
   "language": "python",
   "name": "h2o-kernel-py"
  },
  "language_info": {
   "codemirror_mode": {
    "name": "ipython",
    "version": 3
   },
   "file_extension": ".py",
   "mimetype": "text/x-python",
   "name": "python",
   "nbconvert_exporter": "python",
   "pygments_lexer": "ipython3",
   "version": "3.13.3"
  },
  "toc": {
   "base_numbering": 1,
   "nav_menu": {},
   "number_sections": true,
   "sideBar": true,
   "skip_h1_title": true,
   "title_cell": "Table of Contents",
   "title_sidebar": "Contents",
   "toc_cell": true,
   "toc_position": {
    "height": "681px",
    "left": "37px",
    "top": "629px",
    "width": "336px"
   },
   "toc_section_display": true,
   "toc_window_display": true
  }
 },
 "nbformat": 4,
 "nbformat_minor": 4
}
