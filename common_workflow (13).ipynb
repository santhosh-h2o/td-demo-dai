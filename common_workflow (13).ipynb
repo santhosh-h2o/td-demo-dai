{
 "cells": [
  {
   "cell_type": "markdown",
   "metadata": {},
   "source": [
    "# Python Client for Driverless AI 1.11.X\n",
    "\n",
    "_This python client for Driverless AI will allow users to interact more intuitively with the product and will also allow scripts to run successfully after upgrades. We appreciate any feedback._\n",
    "\n",
    "**Note:** Use `Shift+Tab` to see the signature and doc string of any function while in Jupyter <br/>\n",
    "\n"
   ]
  },
  {
   "cell_type": "markdown",
   "metadata": {
    "toc": true
   },
   "source": [
    "<h1>Table of Contents<span class=\"tocSkip\"></span></h1>\n",
    "<div class=\"toc\">\n",
    "  <ul class=\"toc-item\">\n",
    "    <li><a href=\"#Connect-to-Driverless-AI\"><span class=\"toc-item-num\">1&nbsp;&nbsp;</span>Connect to Driverless AI</a></li>\n",
    "    <li><a href=\"#Documentation\"><span class=\"toc-item-num\">2&nbsp;&nbsp;</span>Documentation</a></li>\n",
    "    <li>\n",
    "      <a href=\"#Data\"><span class=\"toc-item-num\">3&nbsp;&nbsp;</span>Data</a>\n",
    "      <ul class=\"toc-item\">\n",
    "        <li><a href=\"#List-Available-Connectors\"><span class=\"toc-item-num\">3.1&nbsp;&nbsp;</span>List Available Connectors</a></li>\n",
    "        <li><a href=\"#List-Existing-Datasets\"><span class=\"toc-item-num\">3.2&nbsp;&nbsp;</span>List Existing Datasets</a></li>\n",
    "        <li><a href=\"#Upload-and-Download-Data\"><span class=\"toc-item-num\">3.3&nbsp;&nbsp;</span>Upload and Download Data</a></li>\n",
    "        <li><a href=\"#Explore-the-Dataset\"><span class=\"toc-item-num\">3.4&nbsp;&nbsp;</span>Explore the Dataset</a></li>\n",
    "        <li><a href=\"#Explore-the-Columns\"><span class=\"toc-item-num\">3.5&nbsp;&nbsp;</span>Explore the Columns</a></li>\n",
    "        <li><a href=\"#Split-a-Dataset\"><span class=\"toc-item-num\">3.6&nbsp;&nbsp;</span>Split a Dataset</a></li>\n",
    "      </ul>\n",
    "    </li>\n",
    "    <li><a href=\"#Recipes\"><span class=\"toc-item-num\">4&nbsp;&nbsp;</span>Recipes</a></li>\n",
    "    <li>\n",
    "      <a href=\"#Modeling\"><span class=\"toc-item-num\">5&nbsp;&nbsp;</span>Modeling</a>\n",
    "      <ul class=\"toc-item\">\n",
    "        <li><a href=\"#List-Existing-Experiments\"><span class=\"toc-item-num\">5.1&nbsp;&nbsp;</span>List Existing Experiments</a></li>\n",
    "        <li><a href=\"#Dictionary-for-a-Use-Case\"><span class=\"toc-item-num\">5.2&nbsp;&nbsp;</span>Dictionary for a Use Case</a></li>\n",
    "          <li><a href=\"#Get-Reccomended-Dial-Settings\"><span class=\"toc-item-num\">5.3&nbsp;&nbsp;</span>Get Reccomended Dial Settings</a></li>\n",
    "        <li><a href=\"#Dictionary-for-Fast-Experiments\"><span class=\"toc-item-num\">5.4&nbsp;&nbsp;</span>Dictionary for Fast Experiments</a></li>\n",
    "        <li><a href=\"#Search-for-Settings\"><span class=\"toc-item-num\">5.5&nbsp;&nbsp;</span>Search for Settings</a></li>\n",
    "        <li><a href=\"#Preview-Using-Our-Custom-Recipe\"><span class=\"toc-item-num\">5.6&nbsp;&nbsp;</span>Preview Using Our Custom Recipe</a></li>\n",
    "        <li><a href=\"#Launch-an-Experiment\"><span class=\"toc-item-num\">5.7&nbsp;&nbsp;</span>Launch an Experiment</a></li>\n",
    "        <li><a href=\"#Information-on-an-Experiment\"><span class=\"toc-item-num\">5.8&nbsp;&nbsp;</span>Information on an Experiment</a></li>\n",
    "        <li><a href=\"#Monitor-and-Finish-the-Model-Early\"><span class=\"toc-item-num\">5.9&nbsp;&nbsp;</span>Monitor and Finish the Model Early</a></li>\n",
    "        <li><a href=\"#View-the-Experiment-Summary\"><span class=\"toc-item-num\">5.10&nbsp;&nbsp;</span>View the Experiment Summary</a></li>\n",
    "        <li><a href=\"#Interact-with-Model-Artifacts\"><span class=\"toc-item-num\">5.11&nbsp;&nbsp;</span>Interact with Model Artifacts</a></li>\n",
    "        <li><a href=\"#View-Final-Model-Performance\"><span class=\"toc-item-num\">5.12&nbsp;&nbsp;</span>View Final Model Performance</a></li>\n",
    "        <li><a href=\"#Variable-Importance\"><span class=\"toc-item-num\">5.13&nbsp;&nbsp;</span>Variable Importance</a></li>\n",
    "        <li><a href=\"#Retrain-a-Model-for-Production\"><span class=\"toc-item-num\">5.14&nbsp;&nbsp;</span>Retrain a Model for Production</a></li>\n",
    "        <li><a href=\"#View-the-Pipeline\"><span class=\"toc-item-num\">5.15&nbsp;&nbsp;</span>View the Pipeline</a></li>\n",
    "      </ul>\n",
    "    </li>\n",
    "    <li><a href=\"#Pause the DAI Engine\"><span class=\"toc-item-num\">7&nbsp;&nbsp;</span>Pause the DAI Engine</a></li>\n",
    "  </ul>\n",
    "</div>\n"
   ]
  },
  {
   "cell_type": "code",
   "execution_count": null,
   "metadata": {},
   "outputs": [],
   "source": [
    "# Optional - Install the required packages\n",
    "\n",
    "# !pip install ipython-autotime\n",
    "# !pip install ipython\n",
    "# !pip install pandas\n",
    "# !pip install numpy\n",
    "# !pip install matplotlib\n",
    "# !pip install scikit-learn\n",
    "# !pip install \"h2o-authn~=1.0\"\n",
    "# !pip install h2o-engine-manager\n"
   ]
  },
  {
   "cell_type": "code",
   "execution_count": 24,
   "metadata": {},
   "outputs": [
    {
     "name": "stdout",
     "output_type": "stream",
     "text": [
      "time: 291 μs (started: 2025-07-10 02:04:53 +00:00)\n"
     ]
    }
   ],
   "source": [
    "# Setup the download location\n",
    "download_location = 'artifacts/' #pointing to the artifacts folder  "
   ]
  },
  {
   "cell_type": "code",
   "execution_count": 1,
   "metadata": {},
   "outputs": [
    {
     "name": "stdout",
     "output_type": "stream",
     "text": [
      "time: 111 μs (started: 2025-07-10 01:16:02 +00:00)\n"
     ]
    }
   ],
   "source": [
    "# Import the required packages\n",
    "\n",
    "import pandas as pd \n",
    "import numpy as np \n",
    "import h2o_authn \n",
    "import getpass \n",
    "import h2o_engine_manager \n",
    "\n",
    "# time each cell\n",
    "%load_ext autotime"
   ]
  },
  {
   "cell_type": "markdown",
   "metadata": {},
   "source": [
    "## Connect to Driverless AI\n",
    "\n",
    "To get started, we’ll connect to the H2O AI Engine Manager to manage Driverless AI.\n",
    "\n",
    "**Get Your API Token and Connect to Engine Manager**\n",
    "\n",
    "1. Go to [H2O AI Cloud](https://internal.dedicated.h2o.ai)\n",
    "2. Click on your **username** in the top-right corner\n",
    "3. Choose **\"CLI and API Access\"**\n",
    "4. Or directly visit this link to generate a token:  \n",
    "   [https://internal.dedicated.h2o.ai/auth/get-platform-token](https://internal.dedicated.h2o.ai/auth/get-platform-token)\n",
    "\n",
    "\n",
    "You can now list, create, and manage Driverless AI engines using `aiem`.  "
   ]
  },
  {
   "cell_type": "code",
   "execution_count": 2,
   "metadata": {},
   "outputs": [
    {
     "name": "stdout",
     "output_type": "stream",
     "text": [
      "Visit https://internal.dedicated.h2o.ai/auth/get-platform-token to get your platform token\n"
     ]
    },
    {
     "name": "stdin",
     "output_type": "stream",
     "text": [
      "Enter your platform token:  ········\n"
     ]
    },
    {
     "name": "stdout",
     "output_type": "stream",
     "text": [
      "time: 4.59 s (started: 2025-07-10 01:17:23 +00:00)\n"
     ]
    }
   ],
   "source": [
    "\n",
    "# Authenticate with your token\n",
    "\n",
    "print(f\"Visit https://internal.dedicated.h2o.ai/auth/get-platform-token to get your platform token\") \n",
    "token_provider = h2o_authn.TokenProvider(\n",
    "  refresh_token=getpass.getpass('Enter your platform token: '),\n",
    "  client_id=\"hac-platform-public\", \n",
    "  token_endpoint_url=\"https://auth.internal.dedicated.h2o.ai/auth/realms/hac/protocol/openid-connect/token\" \n",
    ")\n",
    "\n",
    "aiem = h2o_engine_manager.login(\n",
    "  environment=\"https://internal.dedicated.h2o.ai\", \n",
    "  token_provider=token_provider\n",
    ")\n"
   ]
  },
  {
   "cell_type": "code",
   "execution_count": 6,
   "metadata": {},
   "outputs": [
    {
     "name": "stdout",
     "output_type": "stream",
     "text": [
      "Available Engines:\n",
      "\n",
      "[0] New DAI Engine 690 (ID: new-dai-engine-690)\n"
     ]
    },
    {
     "name": "stdin",
     "output_type": "stream",
     "text": [
      "\n",
      "Select an engine by index:  0\n"
     ]
    },
    {
     "name": "stdout",
     "output_type": "stream",
     "text": [
      "\n",
      "Selected Engine: New DAI Engine 690 (ID: new-dai-engine-690)\n",
      "Refreshed Status: STATE_RUNNING\n",
      "time: 8.18 s (started: 2025-07-10 01:22:07 +00:00)\n"
     ]
    }
   ],
   "source": [
    "\n",
    "\n",
    "dai_engine_client = aiem.dai_engine_client\n",
    "\n",
    "# Get the list of engines\n",
    "engines = dai_engine_client.list_engines().engines\n",
    "\n",
    "# Display available engines\n",
    "if engines:\n",
    "    print(\"Available Engines:\\n\")\n",
    "    for idx, engine in enumerate(engines):\n",
    "        print(f\"[{idx}] {engine.display_name} (ID: {engine.engine_id})\")\n",
    "\n",
    "    # Prompt user to select one by index\n",
    "    selected_idx = int(input(\"\\nSelect an engine by index: \"))\n",
    "    selected_engine = engines[selected_idx]\n",
    "\n",
    "    # Extract selected engine info\n",
    "    engine_id = selected_engine.engine_id\n",
    "    display_name = selected_engine.display_name\n",
    "\n",
    "    print(f\"\\nSelected Engine: {display_name} (ID: {engine_id})\")\n",
    "    refreshed_engine = dai_engine_client.get_engine(engine_id=engine_id)\n",
    "    print(f\"Refreshed Status: {refreshed_engine.state.value}\")\n",
    "    \n",
    "else:\n",
    "    print(\"No engines available.\")\n",
    "\n"
   ]
  },
  {
   "cell_type": "code",
   "execution_count": 8,
   "metadata": {},
   "outputs": [
    {
     "name": "stdout",
     "output_type": "stream",
     "text": [
      "time: 3.9 s (started: 2025-07-10 01:22:39 +00:00)\n"
     ]
    }
   ],
   "source": [
    "# Find the DAI Engine using the Engine ID and connect\n",
    "dai_engine = dai_engine_client.get_engine(engine_id)\n",
    "\n",
    "# dai_engine.resume()\n",
    "# dai_engine.wait()\n",
    "\n",
    "dai = dai_engine.connect()"
   ]
  },
  {
   "cell_type": "code",
   "execution_count": 9,
   "metadata": {},
   "outputs": [
    {
     "data": {
      "text/plain": [
       "<Version('1.11.1.1')>"
      ]
     },
     "execution_count": 9,
     "metadata": {},
     "output_type": "execute_result"
    },
    {
     "name": "stdout",
     "output_type": "stream",
     "text": [
      "time: 3.36 ms (started: 2025-07-10 01:22:51 +00:00)\n"
     ]
    }
   ],
   "source": [
    "# Check DAI connection \n",
    "dai.server.version"
   ]
  },
  {
   "cell_type": "code",
   "execution_count": 10,
   "metadata": {},
   "outputs": [
    {
     "data": {
      "text/html": [
       "<pre><a href='https://enginemanager.internal.dedicated.h2o.ai/workspaces/4a110815-00e0-4ace-a9a1-3121aa75d12d/daiEngines/new-dai-engine-690' rel='noopener noreferrer' target='_blank'>https://enginemanager.internal.dedicated.h2o.ai/workspaces/4a110815-00e0-4ace-a9a1-3121aa75d12d/daiEngines/new-dai-engine-690</a></pre>"
      ],
      "text/plain": [
       "'https://enginemanager.internal.dedicated.h2o.ai/workspaces/4a110815-00e0-4ace-a9a1-3121aa75d12d/daiEngines/new-dai-engine-690'"
      ]
     },
     "execution_count": 10,
     "metadata": {},
     "output_type": "execute_result"
    },
    {
     "name": "stdout",
     "output_type": "stream",
     "text": [
      "time: 1.39 ms (started: 2025-07-10 01:23:00 +00:00)\n"
     ]
    }
   ],
   "source": [
    "# At any point - we could call the GUI method to get the link \n",
    "dai.server.gui()"
   ]
  },
  {
   "cell_type": "markdown",
   "metadata": {},
   "source": [
    "## Documentation\n",
    "You can get links to the home page and search the documentation from the python client any time you want to know more about a specific DAI functionality.\n",
    "\n"
   ]
  },
  {
   "cell_type": "code",
   "execution_count": 26,
   "metadata": {},
   "outputs": [
    {
     "data": {
      "text/html": [
       "<pre><a href='https://enginemanager.internal.dedicated.h2o.ai/workspaces/4a110815-00e0-4ace-a9a1-3121aa75d12d/daiEngines/new-dai-engine-690/docs/userguide/search.html?q=autoviz' rel='noopener noreferrer' target='_blank'>https://enginemanager.internal.dedicated.h2o.ai/workspaces/4a110815-00e0-4ace-a9a1-3121aa75d12d/daiEngines/new-dai-engine-690/docs/userguide/search.html?q=autoviz</a></pre>"
      ],
      "text/plain": [
       "'https://enginemanager.internal.dedicated.h2o.ai/workspaces/4a110815-00e0-4ace-a9a1-3121aa75d12d/daiEngines/new-dai-engine-690/docs/userguide/search.html?q=autoviz'"
      ]
     },
     "execution_count": 26,
     "metadata": {},
     "output_type": "execute_result"
    },
    {
     "name": "stdout",
     "output_type": "stream",
     "text": [
      "time: 1.5 ms (started: 2025-07-09 15:45:02 +00:00)\n"
     ]
    }
   ],
   "source": [
    "dai.server.docs(\"autoviz\")"
   ]
  },
  {
   "cell_type": "code",
   "execution_count": 95,
   "metadata": {},
   "outputs": [
    {
     "data": {
      "text/html": [
       "<pre><a href='https://enginemanager.internal.dedicated.h2o.ai/workspaces/4a110815-00e0-4ace-a9a1-3121aa75d12d/daiEngines/new-dai-engine-690/docs/userguide/search.html?q=dataset' rel='noopener noreferrer' target='_blank'>https://enginemanager.internal.dedicated.h2o.ai/workspaces/4a110815-00e0-4ace-a9a1-3121aa75d12d/daiEngines/new-dai-engine-690/docs/userguide/search.html?q=dataset</a></pre>"
      ],
      "text/plain": [
       "'https://enginemanager.internal.dedicated.h2o.ai/workspaces/4a110815-00e0-4ace-a9a1-3121aa75d12d/daiEngines/new-dai-engine-690/docs/userguide/search.html?q=dataset'"
      ]
     },
     "execution_count": 95,
     "metadata": {},
     "output_type": "execute_result"
    },
    {
     "name": "stdout",
     "output_type": "stream",
     "text": [
      "time: 1.82 ms (started: 2025-07-09 05:48:27 +00:00)\n"
     ]
    }
   ],
   "source": [
    "dai.server.docs(\"dataset\")"
   ]
  },
  {
   "cell_type": "markdown",
   "metadata": {},
   "source": [
    "## Data\n",
    "Various methods for loading, interacting with, and modifiying data within Driverless AI."
   ]
  },
  {
   "cell_type": "markdown",
   "metadata": {},
   "source": [
    "### List Available Connectors\n",
    "View all ways you are allowed to add data to DAI on this instace - to enable more connectors update the `config.toml` file <br/><br/>\n",
    "**Note:** Interactions with Data Recipes is not yet available so these connectors are not shown"
   ]
  },
  {
   "cell_type": "code",
   "execution_count": 13,
   "metadata": {},
   "outputs": [
    {
     "data": {
      "text/plain": [
       "['upload',\n",
       " 's3',\n",
       " 'snow',\n",
       " 'file',\n",
       " 'jdbc',\n",
       " 'gcs',\n",
       " 'gbq',\n",
       " 'azrbs',\n",
       " 'recipe_file',\n",
       " 'recipe_url',\n",
       " 'h2o_drive',\n",
       " 'upload']"
      ]
     },
     "execution_count": 13,
     "metadata": {},
     "output_type": "execute_result"
    },
    {
     "name": "stdout",
     "output_type": "stream",
     "text": [
      "time: 523 ms (started: 2025-07-10 02:01:15 +00:00)\n"
     ]
    }
   ],
   "source": [
    "dai.connectors.list()"
   ]
  },
  {
   "cell_type": "markdown",
   "metadata": {},
   "source": [
    "### List Existing Datasets"
   ]
  },
  {
   "cell_type": "code",
   "execution_count": 11,
   "metadata": {},
   "outputs": [
    {
     "data": {
      "text/html": [
       "<pre><a href='https://enginemanager.internal.dedicated.h2o.ai/workspaces/4a110815-00e0-4ace-a9a1-3121aa75d12d/daiEngines/new-dai-engine-690/#/datasets' rel='noopener noreferrer' target='_blank'>https://enginemanager.internal.dedicated.h2o.ai/workspaces/4a110815-00e0-4ace-a9a1-3121aa75d12d/daiEngines/new-dai-engine-690/#/datasets</a></pre>"
      ],
      "text/plain": [
       "'https://enginemanager.internal.dedicated.h2o.ai/workspaces/4a110815-00e0-4ace-a9a1-3121aa75d12d/daiEngines/new-dai-engine-690/#/datasets'"
      ]
     },
     "execution_count": 11,
     "metadata": {},
     "output_type": "execute_result"
    },
    {
     "name": "stdout",
     "output_type": "stream",
     "text": [
      "time: 1.86 ms (started: 2025-07-10 01:23:10 +00:00)\n"
     ]
    }
   ],
   "source": [
    "# Get a link to view all datasets in the UI\n",
    "dai.datasets.gui()"
   ]
  },
  {
   "cell_type": "code",
   "execution_count": 32,
   "metadata": {},
   "outputs": [
    {
     "name": "stdout",
     "output_type": "stream",
     "text": [
      "\n",
      "Existing Datasets\n",
      "\n",
      "    | Type    | Key                                  | Name\n",
      "----+---------+--------------------------------------+----------------------\n",
      "  0 | Dataset | 61c66096-5d32-11f0-80e2-eaa7f4f72b79 | credit_fraud_updated\n",
      "  1 | Dataset | ef3bc0c0-5d31-11f0-80e2-eaa7f4f72b79 | Telco_Churnv4\n",
      "  2 | Dataset | 71c96134-5ce0-11f0-9998-4a4fa12acc26 | telco_churn_test\n",
      "  3 | Dataset | 71c9262e-5ce0-11f0-9998-4a4fa12acc26 | telco_churn_train\n",
      "  4 | Dataset | 27b5a390-5cdc-11f0-9998-4a4fa12acc26 | Telco_Churnv3\n",
      "  5 | Dataset | 29da00a2-5c60-11f0-b283-06106caebdd7 | telco_churn_test\n",
      "  6 | Dataset | 29d9b76e-5c60-11f0-b283-06106caebdd7 | telco_churn_train\n",
      "  7 | Dataset | f5b350f0-5c4e-11f0-b283-06106caebdd7 | Telco_Churnv2\n",
      "  8 | Dataset | bccc268a-5c2c-11f0-a191-32096668f8c7 | telco_churn_test\n",
      "  9 | Dataset | bccbd84c-5c2c-11f0-a191-32096668f8c7 | telco_churn_train\n",
      " 10 | Dataset | 1ab27940-5c2b-11f0-a191-32096668f8c7 | Telco_Churn\n",
      " 11 | Dataset | 52d14c7e-515a-11f0-99e9-aa9a50ffaccd | onlinefraud.csv\n",
      "\n",
      "\n",
      "time: 230 ms (started: 2025-07-10 02:10:14 +00:00)\n"
     ]
    }
   ],
   "source": [
    "# List all the existing datasets\n",
    "\n",
    "print(\"\\nExisting Datasets\\n\")\n",
    "print(dai.datasets.list(start_index=0))\n",
    "print(\"\\n\")\n"
   ]
  },
  {
   "cell_type": "markdown",
   "metadata": {},
   "source": [
    "### Upload and Download Data\n",
    "You can upload data using any method that is enabled on your system. Here we will show:\n",
    "* Add data from a public s3 link\n",
    "* Download a dataset\n",
    "* Upload data from your local machine\n",
    "* Rename a dataset\n"
   ]
  },
  {
   "cell_type": "code",
   "execution_count": 16,
   "metadata": {},
   "outputs": [
    {
     "name": "stdout",
     "output_type": "stream",
     "text": [
      "Complete 100.00% - [4/4] Computed stats for column Churn?\n",
      "time: 3.97 s (started: 2025-07-10 02:02:29 +00:00)\n"
     ]
    }
   ],
   "source": [
    "# Add a dataset from S3 Bucket\n",
    "telco_churn = dai.datasets.create(data=\"https://h2o-internal-release.s3-us-west-2.amazonaws.com/data/Splunk/churn.csv\", \n",
    "                                  data_source=\"s3\", \n",
    "                                  name=\"Telco_Churnv4\")"
   ]
  },
  {
   "cell_type": "code",
   "execution_count": 25,
   "metadata": {},
   "outputs": [
    {
     "name": "stdout",
     "output_type": "stream",
     "text": [
      "INFO - Downloaded 'artifacts/churn.csv'\n",
      "File saved to: artifacts/churn.csv\n",
      "time: 870 ms (started: 2025-07-10 02:04:59 +00:00)\n"
     ]
    }
   ],
   "source": [
    "# Download a dataset\n",
    "local_file_path = telco_churn.download(download_location, dst_file=\"churn.csv\", overwrite=True)\n",
    "print(\"File saved to:\", local_file_path)\n"
   ]
  },
  {
   "cell_type": "code",
   "execution_count": 35,
   "metadata": {
    "scrolled": true
   },
   "outputs": [
    {
     "name": "stdout",
     "output_type": "stream",
     "text": [
      "Complete 100.00% - [4/4] Computed stats for column defaulted\n",
      "time: 4.8 s (started: 2025-07-10 02:12:24 +00:00)\n"
     ]
    }
   ],
   "source": [
    "# Create a dataset using standard upload\n",
    "credit_fraud = dai.datasets.create(\"data/credit_default_train.csv\", name=\"credit_fraud\")"
   ]
  },
  {
   "cell_type": "code",
   "execution_count": 36,
   "metadata": {},
   "outputs": [
    {
     "name": "stdout",
     "output_type": "stream",
     "text": [
      "Old Name: credit_fraud\n",
      "New Name: credit_fraud_updated\n",
      "time: 457 ms (started: 2025-07-10 02:12:40 +00:00)\n"
     ]
    }
   ],
   "source": [
    "# Rename a existing dataset \n",
    "print(\"Old Name:\", credit_fraud.name)\n",
    "\n",
    "credit_fraud.rename(\"credit_fraud_updated\")\n",
    "\n",
    "print(\"New Name:\", credit_fraud.name)"
   ]
  },
  {
   "cell_type": "markdown",
   "metadata": {},
   "source": [
    "### Explore the Dataset\n",
    "* View the column names\n",
    "* View the data shape\n",
    "* View the first and last rows"
   ]
  },
  {
   "cell_type": "code",
   "execution_count": 37,
   "metadata": {},
   "outputs": [
    {
     "name": "stdout",
     "output_type": "stream",
     "text": [
      "52a3b8a6-5d33-11f0-80e2-eaa7f4f72b79 | credit_fraud_updated\n",
      "\n",
      "Columns: ['ID', 'LIMIT_BAL', 'SEX', 'EDUCATION', 'MARRIAGE', 'AGE', 'PAY_0', 'PAY_2', 'PAY_3', 'PAY_4', 'PAY_5', 'PAY_6', 'BILL_AMT1', 'BILL_AMT2', 'BILL_AMT3', 'BILL_AMT4', 'BILL_AMT5', 'BILL_AMT6', 'PAY_AMT1', 'PAY_AMT2', 'PAY_AMT3', 'PAY_AMT4', 'PAY_AMT5', 'PAY_AMT6', 'defaulted']\n",
      "\n",
      "Shape: (24000, 25)\n",
      "time: 554 μs (started: 2025-07-10 02:12:44 +00:00)\n"
     ]
    }
   ],
   "source": [
    "print(credit_fraud.key, \"|\", credit_fraud.name)\n",
    "print(\"\\nColumns:\", credit_fraud.columns)\n",
    "print('\\nShape:', credit_fraud.shape)"
   ]
  },
  {
   "cell_type": "code",
   "execution_count": 38,
   "metadata": {},
   "outputs": [
    {
     "data": {
      "text/html": [
       "<table>\n",
       "<thead>\n",
       "<tr><th style=\"text-align: right;\">  ID</th><th style=\"text-align: right;\">  LIMIT_BAL</th><th style=\"text-align: right;\">  SEX</th><th style=\"text-align: right;\">  EDUCATION</th><th style=\"text-align: right;\">  MARRIAGE</th><th style=\"text-align: right;\">  AGE</th><th style=\"text-align: right;\">  PAY_0</th><th style=\"text-align: right;\">  PAY_2</th><th style=\"text-align: right;\">  PAY_3</th><th style=\"text-align: right;\">  PAY_4</th><th style=\"text-align: right;\">  PAY_5</th><th style=\"text-align: right;\">  PAY_6</th><th style=\"text-align: right;\">  BILL_AMT1</th><th style=\"text-align: right;\">  BILL_AMT2</th><th style=\"text-align: right;\">  BILL_AMT3</th><th style=\"text-align: right;\">  BILL_AMT4</th><th style=\"text-align: right;\">  BILL_AMT5</th><th style=\"text-align: right;\">  BILL_AMT6</th><th style=\"text-align: right;\">  PAY_AMT1</th><th style=\"text-align: right;\">  PAY_AMT2</th><th style=\"text-align: right;\">  PAY_AMT3</th><th style=\"text-align: right;\">  PAY_AMT4</th><th style=\"text-align: right;\">  PAY_AMT5</th><th style=\"text-align: right;\">  PAY_AMT6</th><th>defaulted  </th></tr>\n",
       "</thead>\n",
       "<tbody>\n",
       "<tr><td style=\"text-align: right;\">   1</td><td style=\"text-align: right;\">      20000</td><td style=\"text-align: right;\">    2</td><td style=\"text-align: right;\">          2</td><td style=\"text-align: right;\">         1</td><td style=\"text-align: right;\">   24</td><td style=\"text-align: right;\">      2</td><td style=\"text-align: right;\">      2</td><td style=\"text-align: right;\">     -1</td><td style=\"text-align: right;\">     -1</td><td style=\"text-align: right;\">     -2</td><td style=\"text-align: right;\">     -2</td><td style=\"text-align: right;\">       3913</td><td style=\"text-align: right;\">       3102</td><td style=\"text-align: right;\">        689</td><td style=\"text-align: right;\">          0</td><td style=\"text-align: right;\">          0</td><td style=\"text-align: right;\">          0</td><td style=\"text-align: right;\">         0</td><td style=\"text-align: right;\">       689</td><td style=\"text-align: right;\">         0</td><td style=\"text-align: right;\">         0</td><td style=\"text-align: right;\">         0</td><td style=\"text-align: right;\">         0</td><td>True       </td></tr>\n",
       "<tr><td style=\"text-align: right;\">   3</td><td style=\"text-align: right;\">      90000</td><td style=\"text-align: right;\">    2</td><td style=\"text-align: right;\">          2</td><td style=\"text-align: right;\">         2</td><td style=\"text-align: right;\">   34</td><td style=\"text-align: right;\">      0</td><td style=\"text-align: right;\">      0</td><td style=\"text-align: right;\">      0</td><td style=\"text-align: right;\">      0</td><td style=\"text-align: right;\">      0</td><td style=\"text-align: right;\">      0</td><td style=\"text-align: right;\">      29239</td><td style=\"text-align: right;\">      14027</td><td style=\"text-align: right;\">      13559</td><td style=\"text-align: right;\">      14331</td><td style=\"text-align: right;\">      14948</td><td style=\"text-align: right;\">      15549</td><td style=\"text-align: right;\">      1518</td><td style=\"text-align: right;\">      1500</td><td style=\"text-align: right;\">      1000</td><td style=\"text-align: right;\">      1000</td><td style=\"text-align: right;\">      1000</td><td style=\"text-align: right;\">      5000</td><td>False      </td></tr>\n",
       "<tr><td style=\"text-align: right;\">   4</td><td style=\"text-align: right;\">      50000</td><td style=\"text-align: right;\">    2</td><td style=\"text-align: right;\">          2</td><td style=\"text-align: right;\">         1</td><td style=\"text-align: right;\">   37</td><td style=\"text-align: right;\">      0</td><td style=\"text-align: right;\">      0</td><td style=\"text-align: right;\">      0</td><td style=\"text-align: right;\">      0</td><td style=\"text-align: right;\">      0</td><td style=\"text-align: right;\">      0</td><td style=\"text-align: right;\">      46990</td><td style=\"text-align: right;\">      48233</td><td style=\"text-align: right;\">      49291</td><td style=\"text-align: right;\">      28314</td><td style=\"text-align: right;\">      28959</td><td style=\"text-align: right;\">      29547</td><td style=\"text-align: right;\">      2000</td><td style=\"text-align: right;\">      2019</td><td style=\"text-align: right;\">      1200</td><td style=\"text-align: right;\">      1100</td><td style=\"text-align: right;\">      1069</td><td style=\"text-align: right;\">      1000</td><td>False      </td></tr>\n",
       "<tr><td style=\"text-align: right;\">   5</td><td style=\"text-align: right;\">      50000</td><td style=\"text-align: right;\">    1</td><td style=\"text-align: right;\">          2</td><td style=\"text-align: right;\">         1</td><td style=\"text-align: right;\">   57</td><td style=\"text-align: right;\">     -1</td><td style=\"text-align: right;\">      0</td><td style=\"text-align: right;\">     -1</td><td style=\"text-align: right;\">      0</td><td style=\"text-align: right;\">      0</td><td style=\"text-align: right;\">      0</td><td style=\"text-align: right;\">       8617</td><td style=\"text-align: right;\">       5670</td><td style=\"text-align: right;\">      35835</td><td style=\"text-align: right;\">      20940</td><td style=\"text-align: right;\">      19146</td><td style=\"text-align: right;\">      19131</td><td style=\"text-align: right;\">      2000</td><td style=\"text-align: right;\">     36681</td><td style=\"text-align: right;\">     10000</td><td style=\"text-align: right;\">      9000</td><td style=\"text-align: right;\">       689</td><td style=\"text-align: right;\">       679</td><td>False      </td></tr>\n",
       "<tr><td style=\"text-align: right;\">   6</td><td style=\"text-align: right;\">      50000</td><td style=\"text-align: right;\">    1</td><td style=\"text-align: right;\">          1</td><td style=\"text-align: right;\">         2</td><td style=\"text-align: right;\">   37</td><td style=\"text-align: right;\">      0</td><td style=\"text-align: right;\">      0</td><td style=\"text-align: right;\">      0</td><td style=\"text-align: right;\">      0</td><td style=\"text-align: right;\">      0</td><td style=\"text-align: right;\">      0</td><td style=\"text-align: right;\">      64400</td><td style=\"text-align: right;\">      57069</td><td style=\"text-align: right;\">      57608</td><td style=\"text-align: right;\">      19394</td><td style=\"text-align: right;\">      19619</td><td style=\"text-align: right;\">      20024</td><td style=\"text-align: right;\">      2500</td><td style=\"text-align: right;\">      1815</td><td style=\"text-align: right;\">       657</td><td style=\"text-align: right;\">      1000</td><td style=\"text-align: right;\">      1000</td><td style=\"text-align: right;\">       800</td><td>False      </td></tr>\n",
       "</tbody>\n",
       "</table>"
      ],
      "text/plain": [
       "   ID |   LIMIT_BAL |   SEX |   EDUCATION |   MARRIAGE |   AGE |   PAY_0 |   PAY_2 |   PAY_3 |   PAY_4 |   PAY_5 |   PAY_6 |   BILL_AMT1 |   BILL_AMT2 |   BILL_AMT3 |   BILL_AMT4 |   BILL_AMT5 |   BILL_AMT6 |   PAY_AMT1 |   PAY_AMT2 |   PAY_AMT3 |   PAY_AMT4 |   PAY_AMT5 |   PAY_AMT6 | defaulted\n",
       "------+-------------+-------+-------------+------------+-------+---------+---------+---------+---------+---------+---------+-------------+-------------+-------------+-------------+-------------+-------------+------------+------------+------------+------------+------------+------------+-------------\n",
       "    1 |       20000 |     2 |           2 |          1 |    24 |       2 |       2 |      -1 |      -1 |      -2 |      -2 |        3913 |        3102 |         689 |           0 |           0 |           0 |          0 |        689 |          0 |          0 |          0 |          0 | True\n",
       "    3 |       90000 |     2 |           2 |          2 |    34 |       0 |       0 |       0 |       0 |       0 |       0 |       29239 |       14027 |       13559 |       14331 |       14948 |       15549 |       1518 |       1500 |       1000 |       1000 |       1000 |       5000 | False\n",
       "    4 |       50000 |     2 |           2 |          1 |    37 |       0 |       0 |       0 |       0 |       0 |       0 |       46990 |       48233 |       49291 |       28314 |       28959 |       29547 |       2000 |       2019 |       1200 |       1100 |       1069 |       1000 | False\n",
       "    5 |       50000 |     1 |           2 |          1 |    57 |      -1 |       0 |      -1 |       0 |       0 |       0 |        8617 |        5670 |       35835 |       20940 |       19146 |       19131 |       2000 |      36681 |      10000 |       9000 |        689 |        679 | False\n",
       "    6 |       50000 |     1 |           1 |          2 |    37 |       0 |       0 |       0 |       0 |       0 |       0 |       64400 |       57069 |       57608 |       19394 |       19619 |       20024 |       2500 |       1815 |        657 |       1000 |       1000 |        800 | False"
      ]
     },
     "execution_count": 38,
     "metadata": {},
     "output_type": "execute_result"
    },
    {
     "name": "stdout",
     "output_type": "stream",
     "text": [
      "time: 227 ms (started: 2025-07-10 02:13:00 +00:00)\n"
     ]
    }
   ],
   "source": [
    "credit_fraud.head()"
   ]
  },
  {
   "cell_type": "code",
   "execution_count": 39,
   "metadata": {},
   "outputs": [
    {
     "data": {
      "text/html": [
       "<table>\n",
       "<thead>\n",
       "<tr><th style=\"text-align: right;\">   ID</th><th style=\"text-align: right;\">  LIMIT_BAL</th><th style=\"text-align: right;\">  SEX</th><th style=\"text-align: right;\">  EDUCATION</th><th style=\"text-align: right;\">  MARRIAGE</th><th style=\"text-align: right;\">  AGE</th><th style=\"text-align: right;\">  PAY_0</th><th style=\"text-align: right;\">  PAY_2</th><th style=\"text-align: right;\">  PAY_3</th><th style=\"text-align: right;\">  PAY_4</th><th style=\"text-align: right;\">  PAY_5</th><th style=\"text-align: right;\">  PAY_6</th><th style=\"text-align: right;\">  BILL_AMT1</th><th style=\"text-align: right;\">  BILL_AMT2</th><th style=\"text-align: right;\">  BILL_AMT3</th><th style=\"text-align: right;\">  BILL_AMT4</th><th style=\"text-align: right;\">  BILL_AMT5</th><th style=\"text-align: right;\">  BILL_AMT6</th><th style=\"text-align: right;\">  PAY_AMT1</th><th style=\"text-align: right;\">  PAY_AMT2</th><th style=\"text-align: right;\">  PAY_AMT3</th><th style=\"text-align: right;\">  PAY_AMT4</th><th style=\"text-align: right;\">  PAY_AMT5</th><th style=\"text-align: right;\">  PAY_AMT6</th><th>defaulted  </th></tr>\n",
       "</thead>\n",
       "<tbody>\n",
       "<tr><td style=\"text-align: right;\">29993</td><td style=\"text-align: right;\">      10000</td><td style=\"text-align: right;\">    1</td><td style=\"text-align: right;\">          3</td><td style=\"text-align: right;\">         1</td><td style=\"text-align: right;\">   43</td><td style=\"text-align: right;\">      0</td><td style=\"text-align: right;\">      0</td><td style=\"text-align: right;\">      0</td><td style=\"text-align: right;\">     -2</td><td style=\"text-align: right;\">     -2</td><td style=\"text-align: right;\">     -2</td><td style=\"text-align: right;\">       8802</td><td style=\"text-align: right;\">      10400</td><td style=\"text-align: right;\">          0</td><td style=\"text-align: right;\">          0</td><td style=\"text-align: right;\">          0</td><td style=\"text-align: right;\">          0</td><td style=\"text-align: right;\">      2000</td><td style=\"text-align: right;\">         0</td><td style=\"text-align: right;\">         0</td><td style=\"text-align: right;\">         0</td><td style=\"text-align: right;\">         0</td><td style=\"text-align: right;\">         0</td><td>False      </td></tr>\n",
       "<tr><td style=\"text-align: right;\">29996</td><td style=\"text-align: right;\">     220000</td><td style=\"text-align: right;\">    1</td><td style=\"text-align: right;\">          3</td><td style=\"text-align: right;\">         1</td><td style=\"text-align: right;\">   39</td><td style=\"text-align: right;\">      0</td><td style=\"text-align: right;\">      0</td><td style=\"text-align: right;\">      0</td><td style=\"text-align: right;\">      0</td><td style=\"text-align: right;\">      0</td><td style=\"text-align: right;\">      0</td><td style=\"text-align: right;\">     188948</td><td style=\"text-align: right;\">     192815</td><td style=\"text-align: right;\">     208365</td><td style=\"text-align: right;\">      88004</td><td style=\"text-align: right;\">      31237</td><td style=\"text-align: right;\">      15980</td><td style=\"text-align: right;\">      8500</td><td style=\"text-align: right;\">     20000</td><td style=\"text-align: right;\">      5003</td><td style=\"text-align: right;\">      3047</td><td style=\"text-align: right;\">      5000</td><td style=\"text-align: right;\">      1000</td><td>False      </td></tr>\n",
       "<tr><td style=\"text-align: right;\">29998</td><td style=\"text-align: right;\">      30000</td><td style=\"text-align: right;\">    1</td><td style=\"text-align: right;\">          2</td><td style=\"text-align: right;\">         2</td><td style=\"text-align: right;\">   37</td><td style=\"text-align: right;\">      4</td><td style=\"text-align: right;\">      3</td><td style=\"text-align: right;\">      2</td><td style=\"text-align: right;\">     -1</td><td style=\"text-align: right;\">      0</td><td style=\"text-align: right;\">      0</td><td style=\"text-align: right;\">       3565</td><td style=\"text-align: right;\">       3356</td><td style=\"text-align: right;\">       2758</td><td style=\"text-align: right;\">      20878</td><td style=\"text-align: right;\">      20582</td><td style=\"text-align: right;\">      19357</td><td style=\"text-align: right;\">         0</td><td style=\"text-align: right;\">         0</td><td style=\"text-align: right;\">     22000</td><td style=\"text-align: right;\">      4200</td><td style=\"text-align: right;\">      2000</td><td style=\"text-align: right;\">      3100</td><td>True       </td></tr>\n",
       "<tr><td style=\"text-align: right;\">29999</td><td style=\"text-align: right;\">      80000</td><td style=\"text-align: right;\">    1</td><td style=\"text-align: right;\">          3</td><td style=\"text-align: right;\">         1</td><td style=\"text-align: right;\">   41</td><td style=\"text-align: right;\">      1</td><td style=\"text-align: right;\">     -1</td><td style=\"text-align: right;\">      0</td><td style=\"text-align: right;\">      0</td><td style=\"text-align: right;\">      0</td><td style=\"text-align: right;\">     -1</td><td style=\"text-align: right;\">      -1645</td><td style=\"text-align: right;\">      78379</td><td style=\"text-align: right;\">      76304</td><td style=\"text-align: right;\">      52774</td><td style=\"text-align: right;\">      11855</td><td style=\"text-align: right;\">      48944</td><td style=\"text-align: right;\">     85900</td><td style=\"text-align: right;\">      3409</td><td style=\"text-align: right;\">      1178</td><td style=\"text-align: right;\">      1926</td><td style=\"text-align: right;\">     52964</td><td style=\"text-align: right;\">      1804</td><td>True       </td></tr>\n",
       "<tr><td style=\"text-align: right;\">30000</td><td style=\"text-align: right;\">      50000</td><td style=\"text-align: right;\">    1</td><td style=\"text-align: right;\">          2</td><td style=\"text-align: right;\">         1</td><td style=\"text-align: right;\">   46</td><td style=\"text-align: right;\">      0</td><td style=\"text-align: right;\">      0</td><td style=\"text-align: right;\">      0</td><td style=\"text-align: right;\">      0</td><td style=\"text-align: right;\">      0</td><td style=\"text-align: right;\">      0</td><td style=\"text-align: right;\">      47929</td><td style=\"text-align: right;\">      48905</td><td style=\"text-align: right;\">      49764</td><td style=\"text-align: right;\">      36535</td><td style=\"text-align: right;\">      32428</td><td style=\"text-align: right;\">      15313</td><td style=\"text-align: right;\">      2078</td><td style=\"text-align: right;\">      1800</td><td style=\"text-align: right;\">      1430</td><td style=\"text-align: right;\">      1000</td><td style=\"text-align: right;\">      1000</td><td style=\"text-align: right;\">      1000</td><td>True       </td></tr>\n",
       "</tbody>\n",
       "</table>"
      ],
      "text/plain": [
       "    ID |   LIMIT_BAL |   SEX |   EDUCATION |   MARRIAGE |   AGE |   PAY_0 |   PAY_2 |   PAY_3 |   PAY_4 |   PAY_5 |   PAY_6 |   BILL_AMT1 |   BILL_AMT2 |   BILL_AMT3 |   BILL_AMT4 |   BILL_AMT5 |   BILL_AMT6 |   PAY_AMT1 |   PAY_AMT2 |   PAY_AMT3 |   PAY_AMT4 |   PAY_AMT5 |   PAY_AMT6 | defaulted\n",
       "-------+-------------+-------+-------------+------------+-------+---------+---------+---------+---------+---------+---------+-------------+-------------+-------------+-------------+-------------+-------------+------------+------------+------------+------------+------------+------------+-------------\n",
       " 29993 |       10000 |     1 |           3 |          1 |    43 |       0 |       0 |       0 |      -2 |      -2 |      -2 |        8802 |       10400 |           0 |           0 |           0 |           0 |       2000 |          0 |          0 |          0 |          0 |          0 | False\n",
       " 29996 |      220000 |     1 |           3 |          1 |    39 |       0 |       0 |       0 |       0 |       0 |       0 |      188948 |      192815 |      208365 |       88004 |       31237 |       15980 |       8500 |      20000 |       5003 |       3047 |       5000 |       1000 | False\n",
       " 29998 |       30000 |     1 |           2 |          2 |    37 |       4 |       3 |       2 |      -1 |       0 |       0 |        3565 |        3356 |        2758 |       20878 |       20582 |       19357 |          0 |          0 |      22000 |       4200 |       2000 |       3100 | True\n",
       " 29999 |       80000 |     1 |           3 |          1 |    41 |       1 |      -1 |       0 |       0 |       0 |      -1 |       -1645 |       78379 |       76304 |       52774 |       11855 |       48944 |      85900 |       3409 |       1178 |       1926 |      52964 |       1804 | True\n",
       " 30000 |       50000 |     1 |           2 |          1 |    46 |       0 |       0 |       0 |       0 |       0 |       0 |       47929 |       48905 |       49764 |       36535 |       32428 |       15313 |       2078 |       1800 |       1430 |       1000 |       1000 |       1000 | True"
      ]
     },
     "execution_count": 39,
     "metadata": {},
     "output_type": "execute_result"
    },
    {
     "name": "stdout",
     "output_type": "stream",
     "text": [
      "time: 224 ms (started: 2025-07-10 02:13:08 +00:00)\n"
     ]
    }
   ],
   "source": [
    "credit_fraud.tail()"
   ]
  },
  {
   "cell_type": "markdown",
   "metadata": {},
   "source": [
    "### Explore the Columns\n",
    "* View column summaries\n",
    "* Update the datatype to be used in modeling"
   ]
  },
  {
   "cell_type": "code",
   "execution_count": 40,
   "metadata": {},
   "outputs": [
    {
     "name": "stdout",
     "output_type": "stream",
     "text": [
      "time: 202 μs (started: 2025-07-10 02:13:11 +00:00)\n"
     ]
    }
   ],
   "source": [
    "# View all column summaries\n",
    "# print(telco_churn.column_summaries())"
   ]
  },
  {
   "cell_type": "code",
   "execution_count": 42,
   "metadata": {},
   "outputs": [
    {
     "name": "stdout",
     "output_type": "stream",
     "text": [
      "--- LIMIT_BAL ---\n",
      "\n",
      " 1e+04|████████████████████\n",
      "      |█████████████\n",
      "      |████████\n",
      "      |████\n",
      "      |███\n",
      "      |\n",
      "      |\n",
      "      |\n",
      "      |\n",
      " 1e+06|\n",
      "\n",
      "Data Type: real\n",
      "Logical Types: []\n",
      "Datetime Format: \n",
      "Count: 24000\n",
      "Missing: 0\n",
      "Mean: 1.67e+05\n",
      "SD: 1.3e+05\n",
      "Min: 1e+04\n",
      "Max: 1e+06\n",
      "Unique: 80\n",
      "Freq: 2706\n",
      "--- AGE ---\n",
      "\n",
      " 21|██████████████\n",
      "   |████████████████████\n",
      "   |███████████████████\n",
      "   |████████████\n",
      "   |████████\n",
      "   |██████\n",
      "   |██\n",
      "   |█\n",
      "   |\n",
      " 75|\n",
      "\n",
      "Data Type: int\n",
      "Logical Types: []\n",
      "Datetime Format: \n",
      "Count: 24000\n",
      "Missing: 0\n",
      "Mean: 35.4\n",
      "SD: 9.2\n",
      "Min: 21\n",
      "Max: 75\n",
      "Unique: 55\n",
      "Freq: 1280\n",
      "--- MARRIAGE ---\n",
      "\n",
      " 0|\n",
      "  |█████████████████\n",
      "  |████████████████████\n",
      " 3|\n",
      "\n",
      "Data Type: int\n",
      "Logical Types: []\n",
      "Datetime Format: \n",
      "Count: 24000\n",
      "Missing: 0\n",
      "Mean: 1.55\n",
      "SD: 0.522\n",
      "Min: 0\n",
      "Max: 3\n",
      "Unique: 4\n",
      "Freq: 12806\n",
      "--- EDUCATION ---\n",
      "\n",
      " 0|\n",
      "  |███████████████\n",
      "  |████████████████████\n",
      "  |███████\n",
      "  |\n",
      "  |\n",
      " 6|\n",
      "\n",
      "Data Type: int\n",
      "Logical Types: []\n",
      "Datetime Format: \n",
      "Count: 24000\n",
      "Missing: 0\n",
      "Mean: 1.85\n",
      "SD: 0.792\n",
      "Min: 0\n",
      "Max: 6\n",
      "Unique: 7\n",
      "Freq: 11256\n",
      "--- defaulted ---\n",
      "\n",
      " 0|████████████████████\n",
      " 1|██████\n",
      "\n",
      "Data Type: bool\n",
      "Logical Types: []\n",
      "Datetime Format: \n",
      "Count: 24000\n",
      "Missing: 0\n",
      "Mean: 0.221\n",
      "SD: 0.415\n",
      "Min: 0\n",
      "Max: 1\n",
      "Unique: 2\n",
      "Freq: 5309\n",
      "\n",
      "time: 224 ms (started: 2025-07-10 02:14:37 +00:00)\n"
     ]
    }
   ],
   "source": [
    "# View summaries of selected columns\n",
    "print(credit_fraud.column_summaries([\"LIMIT_BAL\",\"AGE\",\"MARRIAGE\",\"EDUCATION\",\"defaulted\"]))"
   ]
  },
  {
   "cell_type": "code",
   "execution_count": 43,
   "metadata": {},
   "outputs": [
    {
     "name": "stdout",
     "output_type": "stream",
     "text": [
      "--- MARRIAGE ---\n",
      "\n",
      " 0|\n",
      "  |█████████████████\n",
      "  |████████████████████\n",
      " 3|\n",
      "\n",
      "Data Type: int\n",
      "Logical Types: ['categorical']\n",
      "Datetime Format: \n",
      "Count: 24000\n",
      "Missing: 0\n",
      "Mean: 1.55\n",
      "SD: 0.522\n",
      "Min: 0\n",
      "Max: 3\n",
      "Unique: 4\n",
      "Freq: 12806\n",
      "time: 882 ms (started: 2025-07-10 02:16:11 +00:00)\n"
     ]
    }
   ],
   "source": [
    "# Force a numeric column to only be used as a category\n",
    "credit_fraud.set_logical_types({'MARRIAGE': ['categorical']})\n",
    "print(credit_fraud.column_summaries()[\"MARRIAGE\"])"
   ]
  },
  {
   "cell_type": "markdown",
   "metadata": {},
   "source": [
    "### Split a Dataset\n",
    "The split function returns a dictionary of two datasets so you can easily pass them to the experiments"
   ]
  },
  {
   "cell_type": "code",
   "execution_count": 45,
   "metadata": {},
   "outputs": [
    {
     "name": "stdout",
     "output_type": "stream",
     "text": [
      "Complete\n",
      "time: 3.13 s (started: 2025-07-10 02:22:23 +00:00)\n"
     ]
    }
   ],
   "source": [
    "credit_fraud_split = credit_fraud.split_to_train_test(\n",
    "    train_size=0.8, \n",
    "    train_name='credit_fraud_train', \n",
    "    test_name='credit_fraud_test', \n",
    "    target_column= \"defaulted\", \n",
    "    seed=42\n",
    ")"
   ]
  },
  {
   "cell_type": "code",
   "execution_count": 51,
   "metadata": {},
   "outputs": [
    {
     "data": {
      "text/plain": [
       "{'train_dataset': <class 'Dataset'> b72b1c3c-5d34-11f0-80e2-eaa7f4f72b79 credit_fraud_train,\n",
       " 'test_dataset': <class 'Dataset'> b72b691c-5d34-11f0-80e2-eaa7f4f72b79 credit_fraud_test}"
      ]
     },
     "execution_count": 51,
     "metadata": {},
     "output_type": "execute_result"
    },
    {
     "name": "stdout",
     "output_type": "stream",
     "text": [
      "time: 1.87 ms (started: 2025-07-10 02:23:49 +00:00)\n"
     ]
    }
   ],
   "source": [
    "credit_fraud_split"
   ]
  },
  {
   "cell_type": "markdown",
   "metadata": {},
   "source": [
    "## Recipes\n",
    "Recipes are components of the ML pipeline such as algorithms, feature transformers, and scores. You can view all availabe recipes and upload new ones to your instance of DAI.\n",
    "\n",
    "* List all available models\n",
    "* List any custom transformers\n",
    "* List all scorers that can be used for binomial classification\n",
    "* Upload a custom recipe and save it to be tested later"
   ]
  },
  {
   "cell_type": "markdown",
   "metadata": {},
   "source": [
    "### Available Models"
   ]
  },
  {
   "cell_type": "code",
   "execution_count": 53,
   "metadata": {},
   "outputs": [
    {
     "data": {
      "text/plain": [
       "['Aggregator',\n",
       " 'Constant',\n",
       " 'DecisionTree',\n",
       " 'FTRL',\n",
       " 'GLM',\n",
       " 'ImageAuto',\n",
       " 'ImbalancedLightGBM',\n",
       " 'ImbalancedXGBoostGBM',\n",
       " 'IsolationForestAnomaly',\n",
       " 'KMeans',\n",
       " 'KMeansFreq',\n",
       " 'KMeansOHE',\n",
       " 'KNNCUML',\n",
       " 'LightGBM',\n",
       " 'LightGBMDask',\n",
       " 'RFCUML',\n",
       " 'RFCUMLDask',\n",
       " 'RuleFit',\n",
       " 'TensorFlow',\n",
       " 'TextALBERT',\n",
       " 'TextBERT',\n",
       " 'TextCamemBERT',\n",
       " 'TextDistilBERT',\n",
       " 'TextMultilingualBERT',\n",
       " 'TextRoBERTa',\n",
       " 'TextXLM',\n",
       " 'TextXLMRoberta',\n",
       " 'TextXLNET',\n",
       " 'TorchGrowNet',\n",
       " 'TruncSVD',\n",
       " 'Unsupervised',\n",
       " 'UnsupervisedGeneral',\n",
       " 'UnsupervisedOneAll',\n",
       " 'UnsupervisedOneOutput',\n",
       " 'XGBoostDart',\n",
       " 'XGBoostDartDask',\n",
       " 'XGBoostGBM',\n",
       " 'XGBoostGBMDask',\n",
       " 'XGBoostRF',\n",
       " 'XGBoostRFDask',\n",
       " 'ZeroInflatedLightGBM',\n",
       " 'ZeroInflatedXGBoost']"
      ]
     },
     "execution_count": 53,
     "metadata": {},
     "output_type": "execute_result"
    },
    {
     "name": "stdout",
     "output_type": "stream",
     "text": [
      "time: 797 ms (started: 2025-07-10 02:28:49 +00:00)\n"
     ]
    }
   ],
   "source": [
    "[m.name for m in dai.recipes.models.list()]"
   ]
  },
  {
   "cell_type": "markdown",
   "metadata": {},
   "source": [
    "### Available Feature Transformers"
   ]
  },
  {
   "cell_type": "code",
   "execution_count": 64,
   "metadata": {},
   "outputs": [
    {
     "data": {
      "text/plain": [
       "['AggregatorTransformer',\n",
       " 'AutovizRecommendationsTransformer',\n",
       " 'BERTTransformer',\n",
       " 'BinnerTransformer',\n",
       " 'CVCatNumEncodeTransformer',\n",
       " 'CVTECUMLTransformer',\n",
       " 'CVTargetEncodeTransformer',\n",
       " 'CatOriginalTransformer',\n",
       " 'CatTransformer',\n",
       " 'ClusterDistCUMLDaskTransformer',\n",
       " 'ClusterDistCUMLTransformer',\n",
       " 'ClusterDistTransformer',\n",
       " 'ClusterIdAllNumTransformer',\n",
       " 'ClusterTETransformer',\n",
       " 'DBSCANCUMLDaskTransformer',\n",
       " 'DBSCANCUMLTransformer',\n",
       " 'DateOriginalTransformer',\n",
       " 'DateTimeDiffTransformer',\n",
       " 'DateTimeOriginalTransformer',\n",
       " 'DatesTransformer',\n",
       " 'EwmaLagsTransformer',\n",
       " 'FrequentTransformer',\n",
       " 'ImageOriginalTransformer',\n",
       " 'ImageVectorizerTransformer',\n",
       " 'InteractionsTransformer',\n",
       " 'IsHolidayTransformer',\n",
       " 'IsolationForestAnomalyAllNumericTransformer',\n",
       " 'IsolationForestAnomalyNumCatAllColsTransformer',\n",
       " 'IsolationForestAnomalyNumCatTransformer',\n",
       " 'IsolationForestAnomalyNumericTransformer',\n",
       " 'LagsAggregatesTransformer',\n",
       " 'LagsInteractionTransformer',\n",
       " 'LagsTransformer',\n",
       " 'LexiLabelEncoderTransformer',\n",
       " 'MeanTargetTransformer',\n",
       " 'NumCatTETransformer',\n",
       " 'NumToCatTETransformer',\n",
       " 'NumToCatWoEMonotonicTransformer',\n",
       " 'NumToCatWoETransformer',\n",
       " 'OneHotEncodingLinearTransformer',\n",
       " 'OneHotEncodingTransformer',\n",
       " 'OneHotEncodingUnsupervisedTransformer',\n",
       " 'OriginalTransformer',\n",
       " 'RobustScalerTransformer',\n",
       " 'StandardScalerTransformer',\n",
       " 'StringConcatTransformer',\n",
       " 'TSNECUMLTransformer',\n",
       " 'TextBiGRUTransformer',\n",
       " 'TextCNNTransformer',\n",
       " 'TextCharCNNTransformer',\n",
       " 'TextLinModelTransformer',\n",
       " 'TextOriginalTransformer',\n",
       " 'TextTransformer',\n",
       " 'TimeSeriesTargetEncSimpleTransformer',\n",
       " 'TimeSeriesTargetEncTransformer',\n",
       " 'TruncSVDAllNumTransformer',\n",
       " 'TruncSVDCUMLDaskTransformer',\n",
       " 'TruncSVDCUMLTransformer',\n",
       " 'TruncSVDNumTransformer',\n",
       " 'UMAPCUMLDaskTransformer',\n",
       " 'UMAPCUMLTransformer',\n",
       " 'WeightOfEvidenceTransformer',\n",
       " 'SumTransformer']"
      ]
     },
     "execution_count": 64,
     "metadata": {},
     "output_type": "execute_result"
    },
    {
     "name": "stdout",
     "output_type": "stream",
     "text": [
      "time: 534 ms (started: 2025-07-10 02:35:53 +00:00)\n"
     ]
    }
   ],
   "source": [
    "[t.name for t in dai.recipes.transformers.list()]"
   ]
  },
  {
   "cell_type": "markdown",
   "metadata": {},
   "source": [
    "### Available Scorer\n",
    "\n",
    "Can get the suggested scorers\n",
    "- for_multiclass\n",
    "- for_binomial\n",
    "- for_regression"
   ]
  },
  {
   "cell_type": "code",
   "execution_count": 61,
   "metadata": {},
   "outputs": [
    {
     "data": {
      "text/plain": [
       "['ACCURACY',\n",
       " 'AUC',\n",
       " 'AUCPR',\n",
       " 'F05',\n",
       " 'F1',\n",
       " 'F2',\n",
       " 'GINI',\n",
       " 'LOGLOSS',\n",
       " 'MACROAUC',\n",
       " 'MACROF1',\n",
       " 'MACROMCC',\n",
       " 'MCC']"
      ]
     },
     "execution_count": 61,
     "metadata": {},
     "output_type": "execute_result"
    },
    {
     "name": "stdout",
     "output_type": "stream",
     "text": [
      "time: 520 ms (started: 2025-07-10 02:35:24 +00:00)\n"
     ]
    }
   ],
   "source": [
    "[s.name for s in dai.recipes.scorers.list() if s.for_multiclass]"
   ]
  },
  {
   "cell_type": "markdown",
   "metadata": {},
   "source": [
    "### Create a Custom Feature Recipe\n",
    "\n",
    "Follow this guide to create your own recipe: [How to Write a Recipe](https://github.com/h2oai/driverlessai-recipes/tree/44a56788f6e9231bde12a4effad5b796754c73e3/how_to_write_a_recipe) \n"
   ]
  },
  {
   "cell_type": "code",
   "execution_count": 37,
   "metadata": {},
   "outputs": [
    {
     "name": "stdout",
     "output_type": "stream",
     "text": [
      "Complete 100.00%\n"
     ]
    },
    {
     "data": {
      "text/plain": [
       "<class 'TransformerRecipe'> SumTransformer"
      ]
     },
     "execution_count": 37,
     "metadata": {},
     "output_type": "execute_result"
    },
    {
     "name": "stdout",
     "output_type": "stream",
     "text": [
      "time: 2.16 s (started: 2025-07-09 01:00:57 +00:00)\n"
     ]
    }
   ],
   "source": [
    "dai.recipes.create(\"https://github.com/h2oai/driverlessai-recipes/blob/rel-1.8.6/transformers/numeric/sum.py\")"
   ]
  },
  {
   "cell_type": "code",
   "execution_count": 69,
   "metadata": {},
   "outputs": [
    {
     "data": {
      "text/plain": [
       "['SumTransformer']"
      ]
     },
     "execution_count": 69,
     "metadata": {},
     "output_type": "execute_result"
    },
    {
     "name": "stdout",
     "output_type": "stream",
     "text": [
      "time: 914 ms (started: 2025-07-10 02:56:53 +00:00)\n"
     ]
    }
   ],
   "source": [
    "[t.name for t in dai.recipes.transformers.list() if t.is_custom]"
   ]
  },
  {
   "cell_type": "code",
   "execution_count": 80,
   "metadata": {},
   "outputs": [
    {
     "name": "stdout",
     "output_type": "stream",
     "text": [
      "time: 540 ms (started: 2025-07-10 03:48:55 +00:00)\n"
     ]
    }
   ],
   "source": [
    "# Add \"Custom Created Sum Transformer\"\n",
    "transformers_to_use = [t for t in dai.recipes.transformers.list() if not t.is_custom or 'Sum' in t.name]"
   ]
  },
  {
   "cell_type": "markdown",
   "metadata": {},
   "source": [
    "## Modeling\n",
    "**Notes:** Dictionaries allow you to easily use common settings in your experiments <br/>\n",
    "**Notes:** Experiments will be `sync` by default meaning they will lock the notebook until they are complete. You can also use `async` versions of the functions. With the `async` functions you can use included code below to monitor and experiment as it runs, see logs in real time, and stop it when it is \"good enough\"."
   ]
  },
  {
   "cell_type": "markdown",
   "metadata": {},
   "source": [
    "### List Existing Experiments"
   ]
  },
  {
   "cell_type": "code",
   "execution_count": 73,
   "metadata": {},
   "outputs": [
    {
     "data": {
      "text/plain": [
       "['korenaki',\n",
       " 'Fastest Settings deletev2',\n",
       " 'cenetimo',\n",
       " 'Fastest Settings delete',\n",
       " 'bobunifo',\n",
       " 'Fastest Settings',\n",
       " 'robaduki',\n",
       " 'gewisoci',\n",
       " 'del',\n",
       " 'fraud_final_1',\n",
       " ' fraud_final',\n",
       " '1.vidawofo_with_time',\n",
       " 'vidawofo']"
      ]
     },
     "execution_count": 73,
     "metadata": {},
     "output_type": "execute_result"
    },
    {
     "name": "stdout",
     "output_type": "stream",
     "text": [
      "time: 948 ms (started: 2025-07-10 03:23:19 +00:00)\n"
     ]
    }
   ],
   "source": [
    "[e.name for e in dai.experiments.list()]"
   ]
  },
  {
   "cell_type": "markdown",
   "metadata": {},
   "source": [
    "### Dictionary for a Use Case\n",
    "We might want to run several experiments with different dial and expert settings. All of these will likely have some things in common, namely details about this specific dataset. We will create a dictionary to use in many experiments."
   ]
  },
  {
   "cell_type": "code",
   "execution_count": 74,
   "metadata": {},
   "outputs": [
    {
     "name": "stdout",
     "output_type": "stream",
     "text": [
      "time: 350 μs (started: 2025-07-10 03:46:01 +00:00)\n"
     ]
    }
   ],
   "source": [
    "credit_settings = {\n",
    "    **credit_fraud_split,\n",
    "    'task': 'classification',\n",
    "    'target_column': \"defaulted\",\n",
    "    'scorer': 'F1'\n",
    "}"
   ]
  },
  {
   "cell_type": "markdown",
   "metadata": {},
   "source": [
    "### Get Reccomended Dial Settings"
   ]
  },
  {
   "cell_type": "code",
   "execution_count": 76,
   "metadata": {},
   "outputs": [
    {
     "name": "stdout",
     "output_type": "stream",
     "text": [
      "INFO - \n",
      "ACCURACY [5/10]:\n",
      "- Training data size: *19,200 rows, 24 cols*\n",
      "- Feature evolution: *[Constant, GLM, LightGBM, XGBoostGBM]*, *3-fold CV*\n",
      "- Final pipeline: *Blend of up to 3 [Constant, GLM, LightGBM, XGBoostGBM] models, each averaged across 3-fold CV splits*\n",
      "\n",
      "TIME [3/10]:\n",
      "- Feature evolution: *4 individuals*, up to *30 iterations*\n",
      "- Early stopping: After *5* iterations of no improvement\n",
      "\n",
      "INTERPRETABILITY [7/10]:\n",
      "- Feature pre-pruning strategy: Permutation Importance FS\n",
      "- Monotonicity constraints: enabled\n",
      "- Feature engineering search space: [CVCatNumEncode, CVTargetEncode, CatOriginal, Cat, Frequent, Interactions, NumCatTE, NumToCatTE, NumToCatWoEMonotonic, NumToCatWoE, OneHotEncoding, Original, WeightOfEvidence]\n",
      "\n",
      "[Constant, GLM, LightGBM, XGBoostGBM] models to train:\n",
      "- Model and feature tuning: *48*\n",
      "- Feature evolution: *192*\n",
      "- Final pipeline: *9*\n",
      "\n",
      "Estimated runtime: *10 minutes*\n",
      "Estimated mojo_size: *100.0kB*\n",
      "Estimated max CPU memory usage: *1.0GB*\n",
      "Finish/Abort (if not done) in: *1 hour*/*7 days*\n",
      "time: 3.6 s (started: 2025-07-10 03:46:07 +00:00)\n"
     ]
    }
   ],
   "source": [
    "# Get experiment preview with our settings\n",
    "dai.experiments.preview(\n",
    "    **credit_settings\n",
    ")"
   ]
  },
  {
   "cell_type": "markdown",
   "metadata": {},
   "source": [
    "### Dictionary for Fast Experiments\n",
    "\n",
    "There may be several common types of experiments you want to run, and H2O.ai will be creating common experiment settings in dictionaries for easy use. The one below turns off all extra settings such as building pipelines or checking for leakage. It also uses the fastest experiment settings."
   ]
  },
  {
   "cell_type": "code",
   "execution_count": 77,
   "metadata": {},
   "outputs": [
    {
     "name": "stdout",
     "output_type": "stream",
     "text": [
      "time: 409 μs (started: 2025-07-10 03:47:13 +00:00)\n"
     ]
    }
   ],
   "source": [
    "fast_settings = {\n",
    "    'accuracy': 1,\n",
    "    'time': 1,\n",
    "    'interpretability': 6,\n",
    "    'make_python_scoring_pipeline': 'off',\n",
    "    'make_mojo_scoring_pipeline': 'off',\n",
    "    'benchmark_mojo_latency': 'off',\n",
    "    'make_autoreport': False,\n",
    "    'check_leakage': 'off',\n",
    "    'check_distribution_shift': 'off'\n",
    "}"
   ]
  },
  {
   "cell_type": "markdown",
   "metadata": {},
   "source": [
    "### Search for Settings\n",
    "There are many expert settings available, you can use the serach functionality to look for names or keywords for settings you may want to use."
   ]
  },
  {
   "cell_type": "code",
   "execution_count": 53,
   "metadata": {},
   "outputs": [
    {
     "name": "stdout",
     "output_type": "stream",
     "text": [
      "aux_threshold_data_size_large | default_value: 10000000\n",
      "enable_lightgbm_multiclass_balancing | default_value: auto\n",
      "force_stratified_splits_for_imbalanced_threshold_binary | default_value: 0.01\n",
      "imbalance_sampling_method | default_value: off\n",
      "imbalance_sampling_threshold_min_rows_original | default_value: 100000\n",
      "imbalance_ratio_sampling_threshold | default_value: 5\n",
      "heavy_imbalance_ratio_sampling_threshold | default_value: 25\n",
      "imbalance_ratio_multiclass_threshold | default_value: 5\n",
      "heavy_imbalance_ratio_multiclass_threshold | default_value: 25\n",
      "imbalance_sampling_number_of_bags | default_value: -1\n",
      "imbalance_sampling_max_number_of_bags | default_value: 10\n",
      "imbalance_sampling_max_number_of_bags_feature_evolution | default_value: 3\n",
      "imbalance_sampling_max_multiple_data_size | default_value: 1.0\n",
      "imbalance_sampling_rank_averaging | default_value: auto\n",
      "imbalance_sampling_target_minority_fraction | default_value: -1.0\n",
      "imbalance_ratio_notification_threshold | default_value: 2.0\n",
      "time: 362 ms (started: 2025-07-09 16:15:59 +00:00)\n"
     ]
    }
   ],
   "source": [
    "dai.experiments.search_expert_settings('imbalanced')"
   ]
  },
  {
   "cell_type": "code",
   "execution_count": 78,
   "metadata": {},
   "outputs": [
    {
     "name": "stdout",
     "output_type": "stream",
     "text": [
      "imbalance_sampling_method | default_value: off | Sampling method for imbalanced binary classification problems\n",
      "  Sampling method for imbalanced binary classification problems. Choices are: \"auto\": sample both classes as needed, depending on data \"over_under_sampling\": over-sample the minority class and under-sample the majority class, depending on data \"under_sampling\": under-sample the majority class to reach class balance \"off\": do not perform any sampling\n",
      "\n",
      "imbalance_sampling_threshold_min_rows_original | default_value: 100000 | Threshold for minimum number of rows in original training data to allow imbalanced sampling techniques. For smaller data, will disable imbalanced sampling, no matter what imbalance_sampling_method is set to.\n",
      "  For smaller data, there's no generally no benefit in using imbalanced sampling methods.\n",
      "\n",
      "imbalance_ratio_sampling_threshold | default_value: 5 | Ratio of majority to minority class for imbalanced binary classification to trigger special sampling techniques if enabled\n",
      "  For imbalanced binary classification: ratio of majority to minority class equal and above which to enable special imbalanced models with sampling techniques (specified by imbalance_sampling_method) to attempt to improve model performance.\n",
      "\n",
      "time: 872 ms (started: 2025-07-10 03:48:06 +00:00)\n"
     ]
    }
   ],
   "source": [
    "dai.experiments.search_expert_settings('imbalance_sampling_method', show_description=True )"
   ]
  },
  {
   "cell_type": "markdown",
   "metadata": {},
   "source": [
    "### Preview Using Our Custom Recipe\n",
    "Notice that `Sum` has been added to the `Feature engineering search space`"
   ]
  },
  {
   "cell_type": "code",
   "execution_count": 81,
   "metadata": {},
   "outputs": [
    {
     "name": "stdout",
     "output_type": "stream",
     "text": [
      "INFO - \n",
      "ACCURACY [5/10]:\n",
      "- Training data size: *19,200 rows, 24 cols*\n",
      "- Feature evolution: *[Constant, GLM, LightGBM, XGBoostGBM]*, *3-fold CV*\n",
      "- Final pipeline: *Blend of up to 3 [Constant, GLM, LightGBM, XGBoostGBM] models, each averaged across 3-fold CV splits*\n",
      "\n",
      "TIME [3/10]:\n",
      "- Feature evolution: *4 individuals*, up to *30 iterations*\n",
      "- Early stopping: After *5* iterations of no improvement\n",
      "\n",
      "INTERPRETABILITY [7/10]:\n",
      "- Feature pre-pruning strategy: Permutation Importance FS\n",
      "- Monotonicity constraints: enabled\n",
      "- Feature engineering search space: [CVCatNumEncode, CVTargetEncode, CatOriginal, Cat, Frequent, Interactions, NumCatTE, NumToCatTE, NumToCatWoEMonotonic, NumToCatWoE, OneHotEncoding, Original, Sum, WeightOfEvidence]\n",
      "\n",
      "[Constant, GLM, LightGBM, XGBoostGBM] models to train:\n",
      "- Model and feature tuning: *48*\n",
      "- Feature evolution: *192*\n",
      "- Final pipeline: *9*\n",
      "- Transformers without MOJO support: *['Sum']*\n",
      "\n",
      "Estimated runtime: *10 minutes*\n",
      "Estimated mojo_size: *100.0kB*\n",
      "Estimated max CPU memory usage: *1.0GB*\n",
      "Finish/Abort (if not done) in: *1 hour*/*7 days*\n",
      "time: 3.29 s (started: 2025-07-10 03:49:06 +00:00)\n"
     ]
    }
   ],
   "source": [
    "# Get experiment preview with our settings\n",
    "dai.experiments.preview(\n",
    "    **credit_settings\n",
    "    ,transformers=transformers_to_use\n",
    ")"
   ]
  },
  {
   "cell_type": "markdown",
   "metadata": {},
   "source": [
    "### Launch an Experiment\n",
    "We will start by running an async experiment which will immeadiatly free our notebook to run additional commands"
   ]
  },
  {
   "cell_type": "code",
   "execution_count": 83,
   "metadata": {},
   "outputs": [
    {
     "name": "stdout",
     "output_type": "stream",
     "text": [
      "INFO - Experiment launched at: https://enginemanager.internal.dedicated.h2o.ai/workspaces/4a110815-00e0-4ace-a9a1-3121aa75d12d/daiEngines/new-dai-engine-690/#/experiment?key=4e2e82b6-5d41-11f0-80e2-eaa7f4f72b79\n",
      "time: 2.29 s (started: 2025-07-10 03:52:29 +00:00)\n"
     ]
    }
   ],
   "source": [
    "default_baseline = dai.experiments.create_async(\n",
    "    **credit_settings, \n",
    "    name='Fastest Settings credit delete', **fast_settings,\n",
    "    # name='Default Baseline', accuracy=7, time=2, interpretability=8\n",
    ")"
   ]
  },
  {
   "cell_type": "markdown",
   "metadata": {},
   "source": [
    "### Information on an Experiment"
   ]
  },
  {
   "cell_type": "code",
   "execution_count": 84,
   "metadata": {},
   "outputs": [
    {
     "name": "stdout",
     "output_type": "stream",
     "text": [
      "Name: Fastest Settings credit delete\n",
      "Datasets: {'train_dataset': <class 'Dataset'> b72b1c3c-5d34-11f0-80e2-eaa7f4f72b79 credit_fraud_train, 'validation_dataset': None, 'test_dataset': <class 'Dataset'> b72b691c-5d34-11f0-80e2-eaa7f4f72b79 credit_fraud_test}\n",
      "Target: defaulted\n",
      "Scorer: F1\n",
      "Task: classification\n",
      "Status: Complete 100.00% - Status: Complete\n",
      "Web Page: "
     ]
    },
    {
     "data": {
      "text/html": [
       "<pre><a href='https://enginemanager.internal.dedicated.h2o.ai/workspaces/4a110815-00e0-4ace-a9a1-3121aa75d12d/daiEngines/new-dai-engine-690/#/experiment?key=4e2e82b6-5d41-11f0-80e2-eaa7f4f72b79' rel='noopener noreferrer' target='_blank'>https://enginemanager.internal.dedicated.h2o.ai/workspaces/4a110815-00e0-4ace-a9a1-3121aa75d12d/daiEngines/new-dai-engine-690/#/experiment?key=4e2e82b6-5d41-11f0-80e2-eaa7f4f72b79</a></pre>"
      ],
      "text/plain": [
       "'https://enginemanager.internal.dedicated.h2o.ai/workspaces/4a110815-00e0-4ace-a9a1-3121aa75d12d/daiEngines/new-dai-engine-690/#/experiment?key=4e2e82b6-5d41-11f0-80e2-eaa7f4f72b79'"
      ]
     },
     "execution_count": 84,
     "metadata": {},
     "output_type": "execute_result"
    },
    {
     "name": "stdout",
     "output_type": "stream",
     "text": [
      "time: 1.81 s (started: 2025-07-10 03:53:38 +00:00)\n"
     ]
    }
   ],
   "source": [
    "print(\"Name:\", default_baseline.name)\n",
    "print(\"Datasets:\", default_baseline.datasets)\n",
    "print(\"Target:\", default_baseline.settings['target_column']) # beta users from before March 15th use target_col\n",
    "print(\"Scorer:\", default_baseline.metrics()['scorer'])\n",
    "print(\"Task:\", default_baseline.settings['task'])\n",
    "print(\"Status:\", default_baseline.status(verbose=2))\n",
    "print(\"Web Page: \", end='')\n",
    "default_baseline.gui()"
   ]
  },
  {
   "cell_type": "markdown",
   "metadata": {},
   "source": [
    "### Monitor and Finish the Model Early\n",
    "Example of how you may want to monitor a running experiment, this will print the currently logs and accuracy metrics. You can also finish a model early if it reaches a certain accuracy metric or run time."
   ]
  },
  {
   "cell_type": "code",
   "execution_count": 53,
   "metadata": {},
   "outputs": [
    {
     "name": "stdout",
     "output_type": "stream",
     "text": [
      "Running 96.00% - Building pipeline visualization... - Validation F1: 0.8618 +/- 0.024\n",
      "\n",
      "\n",
      "Test F1: 0.8249\n",
      "time: 60 s (started: 2025-07-09 01:02:30 +00:00)\n"
     ]
    }
   ],
   "source": [
    "# Monitor the experiment and stop at a nice model\n",
    "import time\n",
    "from IPython.display import clear_output\n",
    "\n",
    "while default_baseline.is_running():\n",
    "    time.sleep(1)\n",
    "    \n",
    "    # grab experiment status\n",
    "    status = default_baseline.status(verbose=2)\n",
    "    \n",
    "    # grab current metrics\n",
    "    metrics = default_baseline.metrics()   \n",
    "    \n",
    "    # pretty print info\n",
    "    clear_output(wait=True)\n",
    "    print(status, \" - Validation \", metrics['scorer'], \": \", sep='', end='')\n",
    "    \n",
    "    if metrics['val_score'] is not None:\n",
    "        print(round(metrics['val_score'], 4), '+/-', round(metrics['val_score_sd'], 4))\n",
    "        if metrics['val_score'] > 0.9:\n",
    "            default_baseline.finish()\n",
    "    else:\n",
    "        print()\n",
    "    \n",
    "    print()\n",
    "    default_baseline.log.tail(3)\n",
    "    time.sleep(1)\n",
    "    \n",
    "print(\"\\nTest \", default_baseline.metrics()['scorer'], \": \", \n",
    "      round(default_baseline.metrics()['test_score'], 4), sep='')"
   ]
  },
  {
   "cell_type": "markdown",
   "metadata": {},
   "source": [
    "### View the Experiment Summary"
   ]
  },
  {
   "cell_type": "code",
   "execution_count": 85,
   "metadata": {},
   "outputs": [
    {
     "name": "stdout",
     "output_type": "stream",
     "text": [
      "Status: Complete\n",
      "Experiment: Fastest Settings credit delete (4e2e82b6-5d41-11f0-80e2-eaa7f4f72b79)\n",
      "  Version: 1.11.1.1, 2025-07-10 03:53, Py client\n",
      "  Settings: 1/1/6, seed=979736099, GPUs disabled\n",
      "  Train data: credit_fraud_train (19200, 25)\n",
      "  Validation data: N/A\n",
      "  Test data: [Test] (4800, 24)\n",
      "  Target column: defaulted (binary, 22.120% target class)\n",
      "System specs: Linux, 31 GB, 8 CPU cores, 0/0 GPU\n",
      "  Max memory usage: 1.13 GB, 0 GB GPU, 0 GB MOJO\n",
      "Recipe: AutoDL (7 iterations, 2 individuals)\n",
      "  Validation scheme: stratified, 1 internal holdout\n",
      "  Feature engineering: 127 features scored (71 selected)\n",
      "Timing:\n",
      "  Data preparation: 4.61 secs\n",
      "  Shift/Leakage detection: 0.01 secs\n",
      "  Model and feature tuning: 15.90 secs (8 models trained)\n",
      "  Feature evolution: 0.91 secs (0 of 3 model trained)\n",
      "  Final pipeline training: 23.97 secs (7 models trained)\n",
      "  Python / MOJO scorer building: 0.00 secs / 15.59 secs\n",
      "Validation score: F1 = 0.3622638 (constant preds of -1.259)\n",
      "Validation score: F1 = 0.5421687 +/- 0.01207758 (baseline)\n",
      "Validation score: F1 = 0.540763 +/- 0.004755494 (final pipeline)\n",
      "Test score:       F1 = 0.5695364 +/- 0.01168471 (final pipeline)\n",
      "time: 226 ms (started: 2025-07-10 03:54:29 +00:00)\n"
     ]
    }
   ],
   "source": [
    "print(default_baseline.summary)"
   ]
  },
  {
   "cell_type": "markdown",
   "metadata": {},
   "source": [
    "### Interact with Model Artifacts\n",
    "* See which are available\n",
    "* Create the AutoReport\n",
    "* Download the AutoReport\n",
    "* Open the AutoReport"
   ]
  },
  {
   "cell_type": "code",
   "execution_count": 56,
   "metadata": {},
   "outputs": [
    {
     "name": "stdout",
     "output_type": "stream",
     "text": [
      "Available artifacts: ['logs', 'summary', 'test_predictions', 'train_predictions']\n",
      "time: 108 ms (started: 2025-07-09 01:18:05 +00:00)\n"
     ]
    }
   ],
   "source": [
    "print(\"Available artifacts:\", default_baseline.artifacts.list())"
   ]
  },
  {
   "cell_type": "code",
   "execution_count": 86,
   "metadata": {},
   "outputs": [
    {
     "data": {
      "text/plain": [
       "['__class__',\n",
       " '__delattr__',\n",
       " '__dict__',\n",
       " '__dir__',\n",
       " '__doc__',\n",
       " '__eq__',\n",
       " '__firstlineno__',\n",
       " '__format__',\n",
       " '__ge__',\n",
       " '__getattribute__',\n",
       " '__getstate__',\n",
       " '__gt__',\n",
       " '__hash__',\n",
       " '__init__',\n",
       " '__init_subclass__',\n",
       " '__le__',\n",
       " '__lt__',\n",
       " '__module__',\n",
       " '__ne__',\n",
       " '__new__',\n",
       " '__reduce__',\n",
       " '__reduce_ex__',\n",
       " '__repr__',\n",
       " '__setattr__',\n",
       " '__sizeof__',\n",
       " '__static_attributes__',\n",
       " '__str__',\n",
       " '__subclasshook__',\n",
       " '__weakref__',\n",
       " '_experiment',\n",
       " '_get_path',\n",
       " '_model_ready',\n",
       " '_paths',\n",
       " '_prediction_dataset_type',\n",
       " '_update',\n",
       " 'create',\n",
       " 'download',\n",
       " 'export',\n",
       " 'file_paths',\n",
       " 'list']"
      ]
     },
     "execution_count": 86,
     "metadata": {},
     "output_type": "execute_result"
    },
    {
     "name": "stdout",
     "output_type": "stream",
     "text": [
      "time: 1.63 ms (started: 2025-07-10 03:55:58 +00:00)\n"
     ]
    }
   ],
   "source": [
    "dir(default_baseline.artifacts)"
   ]
  },
  {
   "cell_type": "code",
   "execution_count": 87,
   "metadata": {},
   "outputs": [
    {
     "name": "stdout",
     "output_type": "stream",
     "text": [
      "INFO - Generating autodoc...\n",
      "time: 57.8 s (started: 2025-07-10 03:56:40 +00:00)\n"
     ]
    }
   ],
   "source": [
    "default_baseline.artifacts.create('autoreport')"
   ]
  },
  {
   "cell_type": "code",
   "execution_count": 88,
   "metadata": {},
   "outputs": [
    {
     "name": "stdout",
     "output_type": "stream",
     "text": [
      "INFO - Downloaded 'artifacts/report.docx'\n",
      "time: 863 ms (started: 2025-07-10 03:57:38 +00:00)\n"
     ]
    }
   ],
   "source": [
    "artifacts = default_baseline.artifacts.download(['autoreport'], download_location, overwrite=True)"
   ]
  },
  {
   "cell_type": "markdown",
   "metadata": {},
   "source": [
    "### View Final Model Performance"
   ]
  },
  {
   "cell_type": "code",
   "execution_count": 90,
   "metadata": {},
   "outputs": [
    {
     "data": {
      "text/plain": [
       "{'scorer': 'F1',\n",
       " 'val_score': 0.5407629852074296,\n",
       " 'val_score_sd': 0.0047554943697719,\n",
       " 'val_roc_auc': 0.7785155672846736,\n",
       " 'val_pr_auc': 0.5497541876581336,\n",
       " 'test_score': 0.5695364238410596,\n",
       " 'test_score_sd': 0.011684705435773136,\n",
       " 'test_roc_auc': 0.7983240027850578,\n",
       " 'test_pr_auc': 0.5983388628643111}"
      ]
     },
     "execution_count": 90,
     "metadata": {},
     "output_type": "execute_result"
    },
    {
     "name": "stdout",
     "output_type": "stream",
     "text": [
      "time: 225 ms (started: 2025-07-10 04:00:10 +00:00)\n"
     ]
    }
   ],
   "source": [
    "default_baseline.metrics()"
   ]
  },
  {
   "cell_type": "code",
   "execution_count": 91,
   "metadata": {},
   "outputs": [
    {
     "name": "stdout",
     "output_type": "stream",
     "text": [
      "Validation F1 :\t 0.541\n",
      "Test F1 :\t 0.57\n",
      "time: 895 ms (started: 2025-07-10 04:00:13 +00:00)\n"
     ]
    }
   ],
   "source": [
    "# Formatted Score Results\n",
    "print(\"Validation\", default_baseline.metrics()[\"scorer\"], \":\\t\",round(default_baseline.metrics()['val_score'], 3))\n",
    "print(\"Test\", default_baseline.metrics()[\"scorer\"], \":\\t\",round(default_baseline.metrics()['test_score'], 3))"
   ]
  },
  {
   "cell_type": "markdown",
   "metadata": {},
   "source": [
    "### Variable Importance"
   ]
  },
  {
   "cell_type": "code",
   "execution_count": 108,
   "metadata": {
    "scrolled": true
   },
   "outputs": [
    {
     "data": {
      "text/html": [
       "<table>\n",
       "<thead>\n",
       "<tr><th style=\"text-align: right;\">       gain</th><th>interaction      </th><th>description                                                                                                                              </th></tr>\n",
       "</thead>\n",
       "<tbody>\n",
       "<tr><td style=\"text-align: right;\">1          </td><td>2_OHE:PAY_0.5    </td><td>One-hot encoding for column(s) [&#x27;PAY_0&#x27;] binned into 11 bins (sorting order - lexical). Bin # 5 with levels [&#x27;2.0&#x27;] [internal:lexical]   </td></tr>\n",
       "<tr><td style=\"text-align: right;\">0.315281   </td><td>3_OHE:PAY_2.5    </td><td>One-hot encoding for column(s) [&#x27;PAY_2&#x27;] binned into 11 bins (sorting order - lexical). Bin # 5 with levels [&#x27;2.0&#x27;] [internal:lexical]   </td></tr>\n",
       "<tr><td style=\"text-align: right;\">0.277619   </td><td>15_LIMIT_BAL     </td><td>LIMIT_BAL (Original)                                                                                                                     </td></tr>\n",
       "<tr><td style=\"text-align: right;\">0.19993    </td><td>16_PAY_AMT1      </td><td>PAY_AMT1 (Original)                                                                                                                      </td></tr>\n",
       "<tr><td style=\"text-align: right;\">0.173714   </td><td>17_PAY_AMT2      </td><td>PAY_AMT2 (Original)                                                                                                                      </td></tr>\n",
       "<tr><td style=\"text-align: right;\">0.163345   </td><td>9_BILL_AMT1      </td><td>BILL_AMT1 (Original)                                                                                                                     </td></tr>\n",
       "<tr><td style=\"text-align: right;\">0.154135   </td><td>8_AGE            </td><td>AGE (Original)                                                                                                                           </td></tr>\n",
       "<tr><td style=\"text-align: right;\">0.129801   </td><td>18_PAY_AMT3      </td><td>PAY_AMT3 (Original)                                                                                                                      </td></tr>\n",
       "<tr><td style=\"text-align: right;\">0.123324   </td><td>4_OHE:PAY_3.5    </td><td>One-hot encoding for column(s) [&#x27;PAY_3&#x27;] binned into 11 bins (sorting order - lexical). Bin # 5 with levels [&#x27;2.0&#x27;] [internal:lexical]   </td></tr>\n",
       "<tr><td style=\"text-align: right;\">0.122025   </td><td>21_PAY_AMT6      </td><td>PAY_AMT6 (Original)                                                                                                                      </td></tr>\n",
       "<tr><td style=\"text-align: right;\">0.11076    </td><td>10_BILL_AMT2     </td><td>BILL_AMT2 (Original)                                                                                                                     </td></tr>\n",
       "<tr><td style=\"text-align: right;\">0.0936816  </td><td>20_PAY_AMT5      </td><td>PAY_AMT5 (Original)                                                                                                                      </td></tr>\n",
       "<tr><td style=\"text-align: right;\">0.092811   </td><td>19_PAY_AMT4      </td><td>PAY_AMT4 (Original)                                                                                                                      </td></tr>\n",
       "<tr><td style=\"text-align: right;\">0.0848811  </td><td>6_OHE:PAY_5.4    </td><td>One-hot encoding for column(s) [&#x27;PAY_5&#x27;] binned into 10 bins (sorting order - lexical). Bin # 4 with levels [&#x27;2.0&#x27;] [internal:lexical]   </td></tr>\n",
       "<tr><td style=\"text-align: right;\">0.0842622  </td><td>12_BILL_AMT4     </td><td>BILL_AMT4 (Original)                                                                                                                     </td></tr>\n",
       "<tr><td style=\"text-align: right;\">0.0827634  </td><td>11_BILL_AMT3     </td><td>BILL_AMT3 (Original)                                                                                                                     </td></tr>\n",
       "<tr><td style=\"text-align: right;\">0.0705739  </td><td>13_BILL_AMT5     </td><td>BILL_AMT5 (Original)                                                                                                                     </td></tr>\n",
       "<tr><td style=\"text-align: right;\">0.0678552  </td><td>14_BILL_AMT6     </td><td>BILL_AMT6 (Original)                                                                                                                     </td></tr>\n",
       "<tr><td style=\"text-align: right;\">0.0622403  </td><td>5_OHE:PAY_4.5    </td><td>One-hot encoding for column(s) [&#x27;PAY_4&#x27;] binned into 11 bins (sorting order - lexical). Bin # 5 with levels [&#x27;2.0&#x27;] [internal:lexical]   </td></tr>\n",
       "<tr><td style=\"text-align: right;\">0.0513484  </td><td>2_OHE:PAY_0.6    </td><td>One-hot encoding for column(s) [&#x27;PAY_0&#x27;] binned into 11 bins (sorting order - lexical). Bin # 6 with levels [&#x27;3.0&#x27;] [internal:lexical]   </td></tr>\n",
       "<tr><td style=\"text-align: right;\">0.0456846  </td><td>2_OHE:PAY_0.3    </td><td>One-hot encoding for column(s) [&#x27;PAY_0&#x27;] binned into 11 bins (sorting order - lexical). Bin # 3 with levels [&#x27;0.0&#x27;] [internal:lexical]   </td></tr>\n",
       "<tr><td style=\"text-align: right;\">0.0414198  </td><td>2_OHE:PAY_0.4    </td><td>One-hot encoding for column(s) [&#x27;PAY_0&#x27;] binned into 11 bins (sorting order - lexical). Bin # 4 with levels [&#x27;1.0&#x27;] [internal:lexical]   </td></tr>\n",
       "<tr><td style=\"text-align: right;\">0.0333833  </td><td>3_OHE:PAY_2.6    </td><td>One-hot encoding for column(s) [&#x27;PAY_2&#x27;] binned into 11 bins (sorting order - lexical). Bin # 6 with levels [&#x27;3.0&#x27;] [internal:lexical]   </td></tr>\n",
       "<tr><td style=\"text-align: right;\">0.025831   </td><td>7_OHE:PAY_6.4    </td><td>One-hot encoding for column(s) [&#x27;PAY_6&#x27;] binned into 10 bins (sorting order - lexical). Bin # 4 with levels [&#x27;2.0&#x27;] [internal:lexical]   </td></tr>\n",
       "<tr><td style=\"text-align: right;\">0.0215646  </td><td>0_OHE:EDUCATION.2</td><td>One-hot encoding for column(s) [&#x27;EDUCATION&#x27;] binned into 7 bins (sorting order - lexical). Bin # 2 with levels [&#x27;1.0&#x27;] [internal:lexical]</td></tr>\n",
       "<tr><td style=\"text-align: right;\">0.0181904  </td><td>22_SEX           </td><td>SEX (Original)                                                                                                                           </td></tr>\n",
       "<tr><td style=\"text-align: right;\">0.0178262  </td><td>4_OHE:PAY_3.1    </td><td>One-hot encoding for column(s) [&#x27;PAY_3&#x27;] binned into 11 bins (sorting order - lexical). Bin # 1 with levels [&#x27;-1.0&#x27;] [internal:lexical]  </td></tr>\n",
       "<tr><td style=\"text-align: right;\">0.0155405  </td><td>0_OHE:EDUCATION.3</td><td>One-hot encoding for column(s) [&#x27;EDUCATION&#x27;] binned into 7 bins (sorting order - lexical). Bin # 3 with levels [&#x27;2.0&#x27;] [internal:lexical]</td></tr>\n",
       "<tr><td style=\"text-align: right;\">0.0153186  </td><td>1_OHE:MARRIAGE.2 </td><td>One-hot encoding for column(s) [&#x27;MARRIAGE&#x27;] binned into 4 bins (sorting order - lexical). Bin # 2 with levels [&#x27;1.0&#x27;] [internal:lexical] </td></tr>\n",
       "<tr><td style=\"text-align: right;\">0.014737   </td><td>0_OHE:EDUCATION.6</td><td>One-hot encoding for column(s) [&#x27;EDUCATION&#x27;] binned into 7 bins (sorting order - lexical). Bin # 6 with levels [&#x27;5.0&#x27;] [internal:lexical]</td></tr>\n",
       "<tr><td style=\"text-align: right;\">0.0144864  </td><td>2_OHE:PAY_0.2    </td><td>One-hot encoding for column(s) [&#x27;PAY_0&#x27;] binned into 11 bins (sorting order - lexical). Bin # 2 with levels [&#x27;-2.0&#x27;] [internal:lexical]  </td></tr>\n",
       "<tr><td style=\"text-align: right;\">0.0132204  </td><td>7_OHE:PAY_6.1    </td><td>One-hot encoding for column(s) [&#x27;PAY_6&#x27;] binned into 10 bins (sorting order - lexical). Bin # 1 with levels [&#x27;-1.0&#x27;] [internal:lexical]  </td></tr>\n",
       "<tr><td style=\"text-align: right;\">0.0122896  </td><td>2_OHE:PAY_0.1    </td><td>One-hot encoding for column(s) [&#x27;PAY_0&#x27;] binned into 11 bins (sorting order - lexical). Bin # 1 with levels [&#x27;-1.0&#x27;] [internal:lexical]  </td></tr>\n",
       "<tr><td style=\"text-align: right;\">0.0115973  </td><td>1_OHE:MARRIAGE.3 </td><td>One-hot encoding for column(s) [&#x27;MARRIAGE&#x27;] binned into 4 bins (sorting order - lexical). Bin # 3 with levels [&#x27;2.0&#x27;] [internal:lexical] </td></tr>\n",
       "<tr><td style=\"text-align: right;\">0.0115696  </td><td>7_OHE:PAY_6.3    </td><td>One-hot encoding for column(s) [&#x27;PAY_6&#x27;] binned into 10 bins (sorting order - lexical). Bin # 3 with levels [&#x27;0.0&#x27;] [internal:lexical]   </td></tr>\n",
       "<tr><td style=\"text-align: right;\">0.0109524  </td><td>6_OHE:PAY_5.1    </td><td>One-hot encoding for column(s) [&#x27;PAY_5&#x27;] binned into 10 bins (sorting order - lexical). Bin # 1 with levels [&#x27;-1.0&#x27;] [internal:lexical]  </td></tr>\n",
       "<tr><td style=\"text-align: right;\">0.00990022 </td><td>6_OHE:PAY_5.3    </td><td>One-hot encoding for column(s) [&#x27;PAY_5&#x27;] binned into 10 bins (sorting order - lexical). Bin # 3 with levels [&#x27;0.0&#x27;] [internal:lexical]   </td></tr>\n",
       "<tr><td style=\"text-align: right;\">0.00900579 </td><td>5_OHE:PAY_4.3    </td><td>One-hot encoding for column(s) [&#x27;PAY_4&#x27;] binned into 11 bins (sorting order - lexical). Bin # 3 with levels [&#x27;0.0&#x27;] [internal:lexical]   </td></tr>\n",
       "<tr><td style=\"text-align: right;\">0.0083712  </td><td>3_OHE:PAY_2.1    </td><td>One-hot encoding for column(s) [&#x27;PAY_2&#x27;] binned into 11 bins (sorting order - lexical). Bin # 1 with levels [&#x27;-1.0&#x27;] [internal:lexical]  </td></tr>\n",
       "<tr><td style=\"text-align: right;\">0.00655561 </td><td>0_OHE:EDUCATION.4</td><td>One-hot encoding for column(s) [&#x27;EDUCATION&#x27;] binned into 7 bins (sorting order - lexical). Bin # 4 with levels [&#x27;3.0&#x27;] [internal:lexical]</td></tr>\n",
       "<tr><td style=\"text-align: right;\">0.00649144 </td><td>4_OHE:PAY_3.6    </td><td>One-hot encoding for column(s) [&#x27;PAY_3&#x27;] binned into 11 bins (sorting order - lexical). Bin # 6 with levels [&#x27;3.0&#x27;] [internal:lexical]   </td></tr>\n",
       "<tr><td style=\"text-align: right;\">0.00630151 </td><td>5_OHE:PAY_4.2    </td><td>One-hot encoding for column(s) [&#x27;PAY_4&#x27;] binned into 11 bins (sorting order - lexical). Bin # 2 with levels [&#x27;-2.0&#x27;] [internal:lexical]  </td></tr>\n",
       "<tr><td style=\"text-align: right;\">0.00619978 </td><td>2_OHE:PAY_0.7    </td><td>One-hot encoding for column(s) [&#x27;PAY_0&#x27;] binned into 11 bins (sorting order - lexical). Bin # 7 with levels [&#x27;4.0&#x27;] [internal:lexical]   </td></tr>\n",
       "<tr><td style=\"text-align: right;\">0.00576046 </td><td>5_OHE:PAY_4.1    </td><td>One-hot encoding for column(s) [&#x27;PAY_4&#x27;] binned into 11 bins (sorting order - lexical). Bin # 1 with levels [&#x27;-1.0&#x27;] [internal:lexical]  </td></tr>\n",
       "<tr><td style=\"text-align: right;\">0.00565401 </td><td>5_OHE:PAY_4.7    </td><td>One-hot encoding for column(s) [&#x27;PAY_4&#x27;] binned into 11 bins (sorting order - lexical). Bin # 7 with levels [&#x27;4.0&#x27;] [internal:lexical]   </td></tr>\n",
       "<tr><td style=\"text-align: right;\">0.0053688  </td><td>3_OHE:PAY_2.3    </td><td>One-hot encoding for column(s) [&#x27;PAY_2&#x27;] binned into 11 bins (sorting order - lexical). Bin # 3 with levels [&#x27;0.0&#x27;] [internal:lexical]   </td></tr>\n",
       "<tr><td style=\"text-align: right;\">0.00527107 </td><td>4_OHE:PAY_3.3    </td><td>One-hot encoding for column(s) [&#x27;PAY_3&#x27;] binned into 11 bins (sorting order - lexical). Bin # 3 with levels [&#x27;0.0&#x27;] [internal:lexical]   </td></tr>\n",
       "<tr><td style=\"text-align: right;\">0.00459588 </td><td>7_OHE:PAY_6.2    </td><td>One-hot encoding for column(s) [&#x27;PAY_6&#x27;] binned into 10 bins (sorting order - lexical). Bin # 2 with levels [&#x27;-2.0&#x27;] [internal:lexical]  </td></tr>\n",
       "<tr><td style=\"text-align: right;\">0.0045651  </td><td>6_OHE:PAY_5.5    </td><td>One-hot encoding for column(s) [&#x27;PAY_5&#x27;] binned into 10 bins (sorting order - lexical). Bin # 5 with levels [&#x27;3.0&#x27;] [internal:lexical]   </td></tr>\n",
       "<tr><td style=\"text-align: right;\">0.00430093 </td><td>1_OHE:MARRIAGE.4 </td><td>One-hot encoding for column(s) [&#x27;MARRIAGE&#x27;] binned into 4 bins (sorting order - lexical). Bin # 4 with levels [&#x27;3.0&#x27;] [internal:lexical] </td></tr>\n",
       "<tr><td style=\"text-align: right;\">0.00420558 </td><td>7_OHE:PAY_6.5    </td><td>One-hot encoding for column(s) [&#x27;PAY_6&#x27;] binned into 10 bins (sorting order - lexical). Bin # 5 with levels [&#x27;3.0&#x27;] [internal:lexical]   </td></tr>\n",
       "<tr><td style=\"text-align: right;\">0.00382394 </td><td>5_OHE:PAY_4.6    </td><td>One-hot encoding for column(s) [&#x27;PAY_4&#x27;] binned into 11 bins (sorting order - lexical). Bin # 6 with levels [&#x27;3.0&#x27;] [internal:lexical]   </td></tr>\n",
       "<tr><td style=\"text-align: right;\">0.00309005 </td><td>6_OHE:PAY_5.2    </td><td>One-hot encoding for column(s) [&#x27;PAY_5&#x27;] binned into 10 bins (sorting order - lexical). Bin # 2 with levels [&#x27;-2.0&#x27;] [internal:lexical]  </td></tr>\n",
       "<tr><td style=\"text-align: right;\">0.00308349 </td><td>6_OHE:PAY_5.6    </td><td>One-hot encoding for column(s) [&#x27;PAY_5&#x27;] binned into 10 bins (sorting order - lexical). Bin # 6 with levels [&#x27;4.0&#x27;] [internal:lexical]   </td></tr>\n",
       "<tr><td style=\"text-align: right;\">0.00281213 </td><td>7_OHE:PAY_6.6    </td><td>One-hot encoding for column(s) [&#x27;PAY_6&#x27;] binned into 10 bins (sorting order - lexical). Bin # 6 with levels [&#x27;4.0&#x27;] [internal:lexical]   </td></tr>\n",
       "<tr><td style=\"text-align: right;\">0.0027849  </td><td>3_OHE:PAY_2.7    </td><td>One-hot encoding for column(s) [&#x27;PAY_2&#x27;] binned into 11 bins (sorting order - lexical). Bin # 7 with levels [&#x27;4.0&#x27;] [internal:lexical]   </td></tr>\n",
       "<tr><td style=\"text-align: right;\">0.0023864  </td><td>3_OHE:PAY_2.2    </td><td>One-hot encoding for column(s) [&#x27;PAY_2&#x27;] binned into 11 bins (sorting order - lexical). Bin # 2 with levels [&#x27;-2.0&#x27;] [internal:lexical]  </td></tr>\n",
       "<tr><td style=\"text-align: right;\">0.00188715 </td><td>4_OHE:PAY_3.2    </td><td>One-hot encoding for column(s) [&#x27;PAY_3&#x27;] binned into 11 bins (sorting order - lexical). Bin # 2 with levels [&#x27;-2.0&#x27;] [internal:lexical]  </td></tr>\n",
       "<tr><td style=\"text-align: right;\">0.00155261 </td><td>4_OHE:PAY_3.7    </td><td>One-hot encoding for column(s) [&#x27;PAY_3&#x27;] binned into 11 bins (sorting order - lexical). Bin # 7 with levels [&#x27;4.0&#x27;] [internal:lexical]   </td></tr>\n",
       "<tr><td style=\"text-align: right;\">0.00102293 </td><td>0_OHE:EDUCATION.5</td><td>One-hot encoding for column(s) [&#x27;EDUCATION&#x27;] binned into 7 bins (sorting order - lexical). Bin # 5 with levels [&#x27;4.0&#x27;] [internal:lexical]</td></tr>\n",
       "<tr><td style=\"text-align: right;\">0.000749418</td><td>5_OHE:PAY_4.10   </td><td>One-hot encoding for column(s) [&#x27;PAY_4&#x27;] binned into 11 bins (sorting order - lexical). Bin # 10 with levels [&#x27;7.0&#x27;] [internal:lexical]  </td></tr>\n",
       "<tr><td style=\"text-align: right;\">0.000367471</td><td>1_OHE:MARRIAGE.1 </td><td>One-hot encoding for column(s) [&#x27;MARRIAGE&#x27;] binned into 4 bins (sorting order - lexical). Bin # 1 with levels [&#x27;0.0&#x27;] [internal:lexical] </td></tr>\n",
       "<tr><td style=\"text-align: right;\">0          </td><td>0_OHE:EDUCATION.7</td><td>One-hot encoding for column(s) [&#x27;EDUCATION&#x27;] binned into 7 bins (sorting order - lexical). Bin # 7 with levels [&#x27;6.0&#x27;] [internal:lexical]</td></tr>\n",
       "<tr><td style=\"text-align: right;\">0          </td><td>3_OHE:PAY_2.8    </td><td>One-hot encoding for column(s) [&#x27;PAY_2&#x27;] binned into 11 bins (sorting order - lexical). Bin # 8 with levels [&#x27;5.0&#x27;] [internal:lexical]   </td></tr>\n",
       "<tr><td style=\"text-align: right;\">0          </td><td>4_OHE:PAY_3.10   </td><td>One-hot encoding for column(s) [&#x27;PAY_3&#x27;] binned into 11 bins (sorting order - lexical). Bin # 10 with levels [&#x27;7.0&#x27;] [internal:lexical]  </td></tr>\n",
       "<tr><td style=\"text-align: right;\">0          </td><td>4_OHE:PAY_3.11   </td><td>One-hot encoding for column(s) [&#x27;PAY_3&#x27;] binned into 11 bins (sorting order - lexical). Bin # 11 with levels [&#x27;8.0&#x27;] [internal:lexical]  </td></tr>\n",
       "<tr><td style=\"text-align: right;\">0          </td><td>5_OHE:PAY_4.11   </td><td>One-hot encoding for column(s) [&#x27;PAY_4&#x27;] binned into 11 bins (sorting order - lexical). Bin # 11 with levels [&#x27;8.0&#x27;] [internal:lexical]  </td></tr>\n",
       "<tr><td style=\"text-align: right;\">0          </td><td>5_OHE:PAY_4.4    </td><td>One-hot encoding for column(s) [&#x27;PAY_4&#x27;] binned into 11 bins (sorting order - lexical). Bin # 4 with levels [&#x27;1.0&#x27;] [internal:lexical]   </td></tr>\n",
       "<tr><td style=\"text-align: right;\">0          </td><td>5_OHE:PAY_4.9    </td><td>One-hot encoding for column(s) [&#x27;PAY_4&#x27;] binned into 11 bins (sorting order - lexical). Bin # 9 with levels [&#x27;6.0&#x27;] [internal:lexical]   </td></tr>\n",
       "<tr><td style=\"text-align: right;\">0          </td><td>6_OHE:PAY_5.10   </td><td>One-hot encoding for column(s) [&#x27;PAY_5&#x27;] binned into 10 bins (sorting order - lexical). Bin # 10 with levels [&#x27;8.0&#x27;] [internal:lexical]  </td></tr>\n",
       "<tr><td style=\"text-align: right;\">0          </td><td>7_OHE:PAY_6.10   </td><td>One-hot encoding for column(s) [&#x27;PAY_6&#x27;] binned into 10 bins (sorting order - lexical). Bin # 10 with levels [&#x27;8.0&#x27;] [internal:lexical]  </td></tr>\n",
       "</tbody>\n",
       "</table>"
      ],
      "text/plain": [
       "        gain | interaction       | description\n",
       "-------------+-------------------+-------------------------------------------------------------------------------------------------------------------------------------------\n",
       " 1           | 2_OHE:PAY_0.5     | One-hot encoding for column(s) ['PAY_0'] binned into 11 bins (sorting order - lexical). Bin # 5 with levels ['2.0'] [internal:lexical]\n",
       " 0.315281    | 3_OHE:PAY_2.5     | One-hot encoding for column(s) ['PAY_2'] binned into 11 bins (sorting order - lexical). Bin # 5 with levels ['2.0'] [internal:lexical]\n",
       " 0.277619    | 15_LIMIT_BAL      | LIMIT_BAL (Original)\n",
       " 0.19993     | 16_PAY_AMT1       | PAY_AMT1 (Original)\n",
       " 0.173714    | 17_PAY_AMT2       | PAY_AMT2 (Original)\n",
       " 0.163345    | 9_BILL_AMT1       | BILL_AMT1 (Original)\n",
       " 0.154135    | 8_AGE             | AGE (Original)\n",
       " 0.129801    | 18_PAY_AMT3       | PAY_AMT3 (Original)\n",
       " 0.123324    | 4_OHE:PAY_3.5     | One-hot encoding for column(s) ['PAY_3'] binned into 11 bins (sorting order - lexical). Bin # 5 with levels ['2.0'] [internal:lexical]\n",
       " 0.122025    | 21_PAY_AMT6       | PAY_AMT6 (Original)\n",
       " 0.11076     | 10_BILL_AMT2      | BILL_AMT2 (Original)\n",
       " 0.0936816   | 20_PAY_AMT5       | PAY_AMT5 (Original)\n",
       " 0.092811    | 19_PAY_AMT4       | PAY_AMT4 (Original)\n",
       " 0.0848811   | 6_OHE:PAY_5.4     | One-hot encoding for column(s) ['PAY_5'] binned into 10 bins (sorting order - lexical). Bin # 4 with levels ['2.0'] [internal:lexical]\n",
       " 0.0842622   | 12_BILL_AMT4      | BILL_AMT4 (Original)\n",
       " 0.0827634   | 11_BILL_AMT3      | BILL_AMT3 (Original)\n",
       " 0.0705739   | 13_BILL_AMT5      | BILL_AMT5 (Original)\n",
       " 0.0678552   | 14_BILL_AMT6      | BILL_AMT6 (Original)\n",
       " 0.0622403   | 5_OHE:PAY_4.5     | One-hot encoding for column(s) ['PAY_4'] binned into 11 bins (sorting order - lexical). Bin # 5 with levels ['2.0'] [internal:lexical]\n",
       " 0.0513484   | 2_OHE:PAY_0.6     | One-hot encoding for column(s) ['PAY_0'] binned into 11 bins (sorting order - lexical). Bin # 6 with levels ['3.0'] [internal:lexical]\n",
       " 0.0456846   | 2_OHE:PAY_0.3     | One-hot encoding for column(s) ['PAY_0'] binned into 11 bins (sorting order - lexical). Bin # 3 with levels ['0.0'] [internal:lexical]\n",
       " 0.0414198   | 2_OHE:PAY_0.4     | One-hot encoding for column(s) ['PAY_0'] binned into 11 bins (sorting order - lexical). Bin # 4 with levels ['1.0'] [internal:lexical]\n",
       " 0.0333833   | 3_OHE:PAY_2.6     | One-hot encoding for column(s) ['PAY_2'] binned into 11 bins (sorting order - lexical). Bin # 6 with levels ['3.0'] [internal:lexical]\n",
       " 0.025831    | 7_OHE:PAY_6.4     | One-hot encoding for column(s) ['PAY_6'] binned into 10 bins (sorting order - lexical). Bin # 4 with levels ['2.0'] [internal:lexical]\n",
       " 0.0215646   | 0_OHE:EDUCATION.2 | One-hot encoding for column(s) ['EDUCATION'] binned into 7 bins (sorting order - lexical). Bin # 2 with levels ['1.0'] [internal:lexical]\n",
       " 0.0181904   | 22_SEX            | SEX (Original)\n",
       " 0.0178262   | 4_OHE:PAY_3.1     | One-hot encoding for column(s) ['PAY_3'] binned into 11 bins (sorting order - lexical). Bin # 1 with levels ['-1.0'] [internal:lexical]\n",
       " 0.0155405   | 0_OHE:EDUCATION.3 | One-hot encoding for column(s) ['EDUCATION'] binned into 7 bins (sorting order - lexical). Bin # 3 with levels ['2.0'] [internal:lexical]\n",
       " 0.0153186   | 1_OHE:MARRIAGE.2  | One-hot encoding for column(s) ['MARRIAGE'] binned into 4 bins (sorting order - lexical). Bin # 2 with levels ['1.0'] [internal:lexical]\n",
       " 0.014737    | 0_OHE:EDUCATION.6 | One-hot encoding for column(s) ['EDUCATION'] binned into 7 bins (sorting order - lexical). Bin # 6 with levels ['5.0'] [internal:lexical]\n",
       " 0.0144864   | 2_OHE:PAY_0.2     | One-hot encoding for column(s) ['PAY_0'] binned into 11 bins (sorting order - lexical). Bin # 2 with levels ['-2.0'] [internal:lexical]\n",
       " 0.0132204   | 7_OHE:PAY_6.1     | One-hot encoding for column(s) ['PAY_6'] binned into 10 bins (sorting order - lexical). Bin # 1 with levels ['-1.0'] [internal:lexical]\n",
       " 0.0122896   | 2_OHE:PAY_0.1     | One-hot encoding for column(s) ['PAY_0'] binned into 11 bins (sorting order - lexical). Bin # 1 with levels ['-1.0'] [internal:lexical]\n",
       " 0.0115973   | 1_OHE:MARRIAGE.3  | One-hot encoding for column(s) ['MARRIAGE'] binned into 4 bins (sorting order - lexical). Bin # 3 with levels ['2.0'] [internal:lexical]\n",
       " 0.0115696   | 7_OHE:PAY_6.3     | One-hot encoding for column(s) ['PAY_6'] binned into 10 bins (sorting order - lexical). Bin # 3 with levels ['0.0'] [internal:lexical]\n",
       " 0.0109524   | 6_OHE:PAY_5.1     | One-hot encoding for column(s) ['PAY_5'] binned into 10 bins (sorting order - lexical). Bin # 1 with levels ['-1.0'] [internal:lexical]\n",
       " 0.00990022  | 6_OHE:PAY_5.3     | One-hot encoding for column(s) ['PAY_5'] binned into 10 bins (sorting order - lexical). Bin # 3 with levels ['0.0'] [internal:lexical]\n",
       " 0.00900579  | 5_OHE:PAY_4.3     | One-hot encoding for column(s) ['PAY_4'] binned into 11 bins (sorting order - lexical). Bin # 3 with levels ['0.0'] [internal:lexical]\n",
       " 0.0083712   | 3_OHE:PAY_2.1     | One-hot encoding for column(s) ['PAY_2'] binned into 11 bins (sorting order - lexical). Bin # 1 with levels ['-1.0'] [internal:lexical]\n",
       " 0.00655561  | 0_OHE:EDUCATION.4 | One-hot encoding for column(s) ['EDUCATION'] binned into 7 bins (sorting order - lexical). Bin # 4 with levels ['3.0'] [internal:lexical]\n",
       " 0.00649144  | 4_OHE:PAY_3.6     | One-hot encoding for column(s) ['PAY_3'] binned into 11 bins (sorting order - lexical). Bin # 6 with levels ['3.0'] [internal:lexical]\n",
       " 0.00630151  | 5_OHE:PAY_4.2     | One-hot encoding for column(s) ['PAY_4'] binned into 11 bins (sorting order - lexical). Bin # 2 with levels ['-2.0'] [internal:lexical]\n",
       " 0.00619978  | 2_OHE:PAY_0.7     | One-hot encoding for column(s) ['PAY_0'] binned into 11 bins (sorting order - lexical). Bin # 7 with levels ['4.0'] [internal:lexical]\n",
       " 0.00576046  | 5_OHE:PAY_4.1     | One-hot encoding for column(s) ['PAY_4'] binned into 11 bins (sorting order - lexical). Bin # 1 with levels ['-1.0'] [internal:lexical]\n",
       " 0.00565401  | 5_OHE:PAY_4.7     | One-hot encoding for column(s) ['PAY_4'] binned into 11 bins (sorting order - lexical). Bin # 7 with levels ['4.0'] [internal:lexical]\n",
       " 0.0053688   | 3_OHE:PAY_2.3     | One-hot encoding for column(s) ['PAY_2'] binned into 11 bins (sorting order - lexical). Bin # 3 with levels ['0.0'] [internal:lexical]\n",
       " 0.00527107  | 4_OHE:PAY_3.3     | One-hot encoding for column(s) ['PAY_3'] binned into 11 bins (sorting order - lexical). Bin # 3 with levels ['0.0'] [internal:lexical]\n",
       " 0.00459588  | 7_OHE:PAY_6.2     | One-hot encoding for column(s) ['PAY_6'] binned into 10 bins (sorting order - lexical). Bin # 2 with levels ['-2.0'] [internal:lexical]\n",
       " 0.0045651   | 6_OHE:PAY_5.5     | One-hot encoding for column(s) ['PAY_5'] binned into 10 bins (sorting order - lexical). Bin # 5 with levels ['3.0'] [internal:lexical]\n",
       " 0.00430093  | 1_OHE:MARRIAGE.4  | One-hot encoding for column(s) ['MARRIAGE'] binned into 4 bins (sorting order - lexical). Bin # 4 with levels ['3.0'] [internal:lexical]\n",
       " 0.00420558  | 7_OHE:PAY_6.5     | One-hot encoding for column(s) ['PAY_6'] binned into 10 bins (sorting order - lexical). Bin # 5 with levels ['3.0'] [internal:lexical]\n",
       " 0.00382394  | 5_OHE:PAY_4.6     | One-hot encoding for column(s) ['PAY_4'] binned into 11 bins (sorting order - lexical). Bin # 6 with levels ['3.0'] [internal:lexical]\n",
       " 0.00309005  | 6_OHE:PAY_5.2     | One-hot encoding for column(s) ['PAY_5'] binned into 10 bins (sorting order - lexical). Bin # 2 with levels ['-2.0'] [internal:lexical]\n",
       " 0.00308349  | 6_OHE:PAY_5.6     | One-hot encoding for column(s) ['PAY_5'] binned into 10 bins (sorting order - lexical). Bin # 6 with levels ['4.0'] [internal:lexical]\n",
       " 0.00281213  | 7_OHE:PAY_6.6     | One-hot encoding for column(s) ['PAY_6'] binned into 10 bins (sorting order - lexical). Bin # 6 with levels ['4.0'] [internal:lexical]\n",
       " 0.0027849   | 3_OHE:PAY_2.7     | One-hot encoding for column(s) ['PAY_2'] binned into 11 bins (sorting order - lexical). Bin # 7 with levels ['4.0'] [internal:lexical]\n",
       " 0.0023864   | 3_OHE:PAY_2.2     | One-hot encoding for column(s) ['PAY_2'] binned into 11 bins (sorting order - lexical). Bin # 2 with levels ['-2.0'] [internal:lexical]\n",
       " 0.00188715  | 4_OHE:PAY_3.2     | One-hot encoding for column(s) ['PAY_3'] binned into 11 bins (sorting order - lexical). Bin # 2 with levels ['-2.0'] [internal:lexical]\n",
       " 0.00155261  | 4_OHE:PAY_3.7     | One-hot encoding for column(s) ['PAY_3'] binned into 11 bins (sorting order - lexical). Bin # 7 with levels ['4.0'] [internal:lexical]\n",
       " 0.00102293  | 0_OHE:EDUCATION.5 | One-hot encoding for column(s) ['EDUCATION'] binned into 7 bins (sorting order - lexical). Bin # 5 with levels ['4.0'] [internal:lexical]\n",
       " 0.000749418 | 5_OHE:PAY_4.10    | One-hot encoding for column(s) ['PAY_4'] binned into 11 bins (sorting order - lexical). Bin # 10 with levels ['7.0'] [internal:lexical]\n",
       " 0.000367471 | 1_OHE:MARRIAGE.1  | One-hot encoding for column(s) ['MARRIAGE'] binned into 4 bins (sorting order - lexical). Bin # 1 with levels ['0.0'] [internal:lexical]\n",
       " 0           | 0_OHE:EDUCATION.7 | One-hot encoding for column(s) ['EDUCATION'] binned into 7 bins (sorting order - lexical). Bin # 7 with levels ['6.0'] [internal:lexical]\n",
       " 0           | 3_OHE:PAY_2.8     | One-hot encoding for column(s) ['PAY_2'] binned into 11 bins (sorting order - lexical). Bin # 8 with levels ['5.0'] [internal:lexical]\n",
       " 0           | 4_OHE:PAY_3.10    | One-hot encoding for column(s) ['PAY_3'] binned into 11 bins (sorting order - lexical). Bin # 10 with levels ['7.0'] [internal:lexical]\n",
       " 0           | 4_OHE:PAY_3.11    | One-hot encoding for column(s) ['PAY_3'] binned into 11 bins (sorting order - lexical). Bin # 11 with levels ['8.0'] [internal:lexical]\n",
       " 0           | 5_OHE:PAY_4.11    | One-hot encoding for column(s) ['PAY_4'] binned into 11 bins (sorting order - lexical). Bin # 11 with levels ['8.0'] [internal:lexical]\n",
       " 0           | 5_OHE:PAY_4.4     | One-hot encoding for column(s) ['PAY_4'] binned into 11 bins (sorting order - lexical). Bin # 4 with levels ['1.0'] [internal:lexical]\n",
       " 0           | 5_OHE:PAY_4.9     | One-hot encoding for column(s) ['PAY_4'] binned into 11 bins (sorting order - lexical). Bin # 9 with levels ['6.0'] [internal:lexical]\n",
       " 0           | 6_OHE:PAY_5.10    | One-hot encoding for column(s) ['PAY_5'] binned into 10 bins (sorting order - lexical). Bin # 10 with levels ['8.0'] [internal:lexical]\n",
       " 0           | 7_OHE:PAY_6.10    | One-hot encoding for column(s) ['PAY_6'] binned into 10 bins (sorting order - lexical). Bin # 10 with levels ['8.0'] [internal:lexical]"
      ]
     },
     "execution_count": 108,
     "metadata": {},
     "output_type": "execute_result"
    },
    {
     "name": "stdout",
     "output_type": "stream",
     "text": [
      "time: 798 ms (started: 2025-07-10 06:18:30 +00:00)\n"
     ]
    }
   ],
   "source": [
    "default_baseline.variable_importance()"
   ]
  },
  {
   "cell_type": "markdown",
   "metadata": {},
   "source": [
    "### Retrain a Model for Production\n",
    "* Retrain the final model with the full dataset\n",
    "* Print the model metrics \n",
    "* Create and Download the MOJO"
   ]
  },
  {
   "cell_type": "code",
   "execution_count": 93,
   "metadata": {},
   "outputs": [
    {
     "name": "stdout",
     "output_type": "stream",
     "text": [
      "make_mojo_scoring_pipeline | default_value: auto | Make MOJO scoring pipeline\n",
      "  Whether to create the MOJO scoring pipeline at the end of each experiment. If set to \"auto\", will attempt to create it if possible (without dropping capabilities). If set to \"on\", might need to drop some models, transformers or custom recipes.\n",
      "\n",
      "make_triton_scoring_pipeline | default_value: off | Make Triton scoring pipeline\n",
      "  Whether to create a C++ MOJO based Triton scoring pipeline at the end of each experiment. If set to \"auto\", will attempt to create it if possible (without dropping capabilities). If set to \"on\", might need to drop some models, transformers or custom recipes. Requires make_mojo_scoring_pipeline != \"off\".\n",
      "\n",
      "make_mojo_scoring_pipeline_for_features_only | default_value: False | Create MOJO for feature engineering pipeline only (no predictions)\n",
      "  Create MOJO for feature engineering pipeline only (no predictions)\n",
      "\n",
      "mojo_replace_target_encoding_with_grouped_input_cols | default_value: False | Replaces target encoding features with concatenated input features.\n",
      "  Replaces target encoding features by their input columns. Instead of CVTE_Age:Income:Zip, this will create Age:Income:Zip. Only when make_mojo_scoring_pipeline_for_features_only is enabled.\n",
      "\n",
      "time: 1.16 s (started: 2025-07-10 04:08:11 +00:00)\n"
     ]
    }
   ],
   "source": [
    "# Search for mojo_scoring_pipeline\n",
    "dai.experiments.search_expert_settings(\"mojo_scoring\", show_description=True)"
   ]
  },
  {
   "cell_type": "code",
   "execution_count": 104,
   "metadata": {},
   "outputs": [
    {
     "name": "stdout",
     "output_type": "stream",
     "text": [
      "INFO - Experiment launched at: https://enginemanager.internal.dedicated.h2o.ai/workspaces/4a110815-00e0-4ace-a9a1-3121aa75d12d/daiEngines/new-dai-engine-690/#/experiment?key=6ff3408e-5d4c-11f0-80e2-eaa7f4f72b79\n",
      "Complete 100.00% - Status: Complete                               \n",
      "time: 58.2 s (started: 2025-07-10 05:12:10 +00:00)\n"
     ]
    }
   ],
   "source": [
    "# Retrain on all data for productionalizing\n",
    "full_model = default_baseline.retrain(final_pipeline_only=True, \n",
    "                                      train_dataset=credit_fraud,\n",
    "                                      test_dataset=\"\",\n",
    "                                      make_mojo_scoring_pipeline=\"on\")\n",
    "\n",
    "full_model = dai.experiments.get(full_model.key)"
   ]
  },
  {
   "cell_type": "code",
   "execution_count": 105,
   "metadata": {},
   "outputs": [
    {
     "data": {
      "text/plain": [
       "{'scorer': 'F1',\n",
       " 'val_score': 0.5437079731027857,\n",
       " 'val_score_sd': 0.004916314303224701,\n",
       " 'val_roc_auc': 0.7842147686439088,\n",
       " 'val_pr_auc': 0.5605956118473947,\n",
       " 'test_score': None,\n",
       " 'test_score_sd': None,\n",
       " 'test_roc_auc': None,\n",
       " 'test_pr_auc': None}"
      ]
     },
     "execution_count": 105,
     "metadata": {},
     "output_type": "execute_result"
    },
    {
     "name": "stdout",
     "output_type": "stream",
     "text": [
      "time: 217 ms (started: 2025-07-10 05:13:08 +00:00)\n"
     ]
    }
   ],
   "source": [
    "full_model.metrics()"
   ]
  },
  {
   "cell_type": "code",
   "execution_count": 84,
   "metadata": {},
   "outputs": [
    {
     "name": "stdout",
     "output_type": "stream",
     "text": [
      "INFO - Downloaded 'mojo.zip'\n",
      "time: 6.25 s (started: 2025-07-09 03:26:08 +00:00)\n"
     ]
    }
   ],
   "source": [
    "artifacts = full_model.artifacts.download(\"mojo_pipeline\", download_location, overwrite=True)"
   ]
  },
  {
   "cell_type": "markdown",
   "metadata": {},
   "source": [
    "### View the Pipeline"
   ]
  },
  {
   "cell_type": "code",
   "execution_count": null,
   "metadata": {},
   "outputs": [],
   "source": [
    "# this is for a mac with unzip installed\n",
    "!unzip {artifacts[\"mojo_pipeline\"]} -d {download_location}"
   ]
  },
  {
   "cell_type": "code",
   "execution_count": 106,
   "metadata": {},
   "outputs": [
    {
     "data": {
      "image/png": "[encoded data removed]",
      "text/plain": [
       "<IPython.core.display.Image object>"
      ]
     },
     "execution_count": 106,
     "metadata": {},
     "output_type": "execute_result"
    },
    {
     "name": "stdout",
     "output_type": "stream",
     "text": [
      "time: 3.56 ms (started: 2025-07-10 05:13:09 +00:00)\n"
     ]
    }
   ],
   "source": [
    "from IPython.display import Image\n",
    "Image(filename=download_location + 'mojo-pipeline/pipeline.png') "
   ]
  },
  {
   "cell_type": "code",
   "execution_count": null,
   "metadata": {},
   "outputs": [],
   "source": []
  },
  {
   "cell_type": "markdown",
   "metadata": {},
   "source": [
    "### Pause the DAI Engine"
   ]
  },
  {
   "cell_type": "code",
   "execution_count": null,
   "metadata": {},
   "outputs": [],
   "source": [
    "dai_engine.pause()"
   ]
  },
  {
   "cell_type": "code",
   "execution_count": null,
   "metadata": {},
   "outputs": [],
   "source": []
  }
 ],
 "metadata": {
  "kernelspec": {
   "display_name": "Python",
   "language": "python",
   "name": "h2o-kernel-py"
  },
  "language_info": {
   "codemirror_mode": {
    "name": "ipython",
    "version": 3
   },
   "file_extension": ".py",
   "mimetype": "text/x-python",
   "name": "python",
   "nbconvert_exporter": "python",
   "pygments_lexer": "ipython3",
   "version": "3.13.3"
  },
  "toc": {
   "base_numbering": 1,
   "nav_menu": {},
   "number_sections": true,
   "sideBar": true,
   "skip_h1_title": true,
   "title_cell": "Table of Contents",
   "title_sidebar": "Contents",
   "toc_cell": true,
   "toc_position": {
    "height": "681px",
    "left": "37px",
    "top": "629px",
    "width": "336px"
   },
   "toc_section_display": true,
   "toc_window_display": true
  }
 },
 "nbformat": 4,
 "nbformat_minor": 4
}
