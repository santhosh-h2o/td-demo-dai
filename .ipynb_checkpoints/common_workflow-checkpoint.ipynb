{
 "cells": [
  {
   "cell_type": "markdown",
   "metadata": {},
   "source": [
    "# Python Client for Driverless AI 1.11.X\n",
    "\n",
    "_This python client for Driverless AI will allow users to interact more intuitively with the product and will also allow scripts to run successfully after upgrades. We appreciate any feedback._\n",
    "\n",
    "**Note:** Use `Shift+Tab` to see the signature and doc string of any function while in Jupyter <br/>\n",
    "**Note:** Some items, like MLI, are still being developed. These will be at the end of the notebook in the old python client <br/>\n",
    "\n"
   ]
  },
  {
   "cell_type": "markdown",
   "metadata": {
    "toc": true
   },
   "source": [
    "<h1>Table of Contents<span class=\"tocSkip\"></span></h1>\n",
    "<div class=\"toc\"><ul class=\"toc-item\"><li><span><a href=\"#Connect-to-Driverless-AI\" data-toc-modified-id=\"Connect-to-Driverless-AI-1\"><span class=\"toc-item-num\">1&nbsp;&nbsp;</span>Connect to Driverless AI</a></span></li><li><span><a href=\"#Documentation\" data-toc-modified-id=\"Documentation-2\"><span class=\"toc-item-num\">2&nbsp;&nbsp;</span>Documentation</a></span></li><li><span><a href=\"#Data\" data-toc-modified-id=\"Data-3\"><span class=\"toc-item-num\">3&nbsp;&nbsp;</span>Data</a></span><ul class=\"toc-item\"><li><span><a href=\"#List-Available-Connectors\" data-toc-modified-id=\"List-Available-Connectors-3.1\"><span class=\"toc-item-num\">3.1&nbsp;&nbsp;</span>List Available Connectors</a></span></li><li><span><a href=\"#List-Existing-Datasets\" data-toc-modified-id=\"List-Existing-Datasets-3.2\"><span class=\"toc-item-num\">3.2&nbsp;&nbsp;</span>List Existing Datasets</a></span></li><li><span><a href=\"#Upload-and-Download-Data\" data-toc-modified-id=\"Upload-and-Download-Data-3.3\"><span class=\"toc-item-num\">3.3&nbsp;&nbsp;</span>Upload and Download Data</a></span></li><li><span><a href=\"#Explore-the-Dataset\" data-toc-modified-id=\"Explore-the-Dataset-3.4\"><span class=\"toc-item-num\">3.4&nbsp;&nbsp;</span>Explore the Dataset</a></span></li><li><span><a href=\"#Explore-the-Columns\" data-toc-modified-id=\"Explore-the-Columns-3.5\"><span class=\"toc-item-num\">3.5&nbsp;&nbsp;</span>Explore the Columns</a></span></li><li><span><a href=\"#Split-a-Dataset\" data-toc-modified-id=\"Split-a-Dataset-3.6\"><span class=\"toc-item-num\">3.6&nbsp;&nbsp;</span>Split a Dataset</a></span></li></ul></li><li><span><a href=\"#Recipes\" data-toc-modified-id=\"Recipes-4\"><span class=\"toc-item-num\">4&nbsp;&nbsp;</span>Recipes</a></span></li><li><span><a href=\"#Modeling\" data-toc-modified-id=\"Modeling-5\"><span class=\"toc-item-num\">5&nbsp;&nbsp;</span>Modeling</a></span><ul class=\"toc-item\"><li><span><a href=\"#List-Existing-Experiments\" data-toc-modified-id=\"List-Existing-Experiments-5.1\"><span class=\"toc-item-num\">5.1&nbsp;&nbsp;</span>List Existing Experiments</a></span></li><li><span><a href=\"#Dictionary-for-a-Use-Case\" data-toc-modified-id=\"Dictionary-for-a-Use-Case-5.2\"><span class=\"toc-item-num\">5.2&nbsp;&nbsp;</span>Dictionary for a Use Case</a></span></li><li><span><a href=\"#Dictionary-for-Fast-Experiments\" data-toc-modified-id=\"Dictionary-for-Fast-Experiments-5.3\"><span class=\"toc-item-num\">5.3&nbsp;&nbsp;</span>Dictionary for Fast Experiments</a></span></li><li><span><a href=\"#Search-for-Settings\" data-toc-modified-id=\"Search-for-Settings-5.4\"><span class=\"toc-item-num\">5.4&nbsp;&nbsp;</span>Search for Settings</a></span></li><li><span><a href=\"#Get-Reccomended-Dial-Settings\" data-toc-modified-id=\"Get-Reccomended-Dial-Settings-5.5\"><span class=\"toc-item-num\">5.5&nbsp;&nbsp;</span>Get Reccomended Dial Settings</a></span></li><li><span><a href=\"#Preview-Using-Our-Custom-Recipe\" data-toc-modified-id=\"Preview-Using-Our-Custom-Recipe-5.6\"><span class=\"toc-item-num\">5.6&nbsp;&nbsp;</span>Preview Using Our Custom Recipe</a></span></li><li><span><a href=\"#Launch-an-Experiment\" data-toc-modified-id=\"Launch-an-Experiment-5.7\"><span class=\"toc-item-num\">5.7&nbsp;&nbsp;</span>Launch an Experiment</a></span></li><li><span><a href=\"#Information-on-an-Experiment\" data-toc-modified-id=\"Information-on-an-Experiment-5.8\"><span class=\"toc-item-num\">5.8&nbsp;&nbsp;</span>Information on an Experiment</a></span></li><li><span><a href=\"#Monitor-and-Finish-the-Model-Early\" data-toc-modified-id=\"Monitor-and-Finish-the-Model-Early-5.9\"><span class=\"toc-item-num\">5.9&nbsp;&nbsp;</span>Monitor and Finish the Model Early</a></span></li><li><span><a href=\"#View-the-Experiment-Summary\" data-toc-modified-id=\"View-the-Experiment-Summary-5.10\"><span class=\"toc-item-num\">5.10&nbsp;&nbsp;</span>View the Experiment Summary</a></span></li><li><span><a href=\"#Interact-with-Model-Artifacts\" data-toc-modified-id=\"Interact-with-Model-Artifacts-5.11\"><span class=\"toc-item-num\">5.11&nbsp;&nbsp;</span>Interact with Model Artifacts</a></span></li><li><span><a href=\"#View-Final-Model-Performance\" data-toc-modified-id=\"View-Final-Model-Performance-5.12\"><span class=\"toc-item-num\">5.12&nbsp;&nbsp;</span>View Final Model Performance</a></span></li><li><span><a href=\"#Download-the-Test-Set-Predictions\" data-toc-modified-id=\"Download-the-Test-Set-Predictions-5.13\"><span class=\"toc-item-num\">5.13&nbsp;&nbsp;</span>Download the Test Set Predictions</a></span></li><li><span><a href=\"#Plot-ROC-curve\" data-toc-modified-id=\"Plot-ROC-curve-5.14\"><span class=\"toc-item-num\">5.14&nbsp;&nbsp;</span>Plot ROC curve</a></span></li><li><span><a href=\"#Variable-Importance\" data-toc-modified-id=\"Variable-Importance-5.15\"><span class=\"toc-item-num\">5.15&nbsp;&nbsp;</span>Variable Importance</a></span></li><li><span><a href=\"#Retrain-a-Model-for-Production\" data-toc-modified-id=\"Retrain-a-Model-for-Production-5.16\"><span class=\"toc-item-num\">5.16&nbsp;&nbsp;</span>Retrain a Model for Production</a></span></li><li><span><a href=\"#View-the-Pipeline\" data-toc-modified-id=\"View-the-Pipeline-5.17\"><span class=\"toc-item-num\">5.17&nbsp;&nbsp;</span>View the Pipeline</a></span></li></ul></li><li><span><a href=\"#Launching-Machine-Learning-Interpretability\" data-toc-modified-id=\"Launching-Machine-Learning-Interpretability-6\"><span class=\"toc-item-num\">6&nbsp;&nbsp;</span>Launching Machine Learning Interpretability</a></span></li><li><span><a href=\"#Disconnect\" data-toc-modified-id=\"Disconnect-7\"><span class=\"toc-item-num\">7&nbsp;&nbsp;</span>Disconnect</a></span></li></ul></div>"
   ]
  },
  {
   "cell_type": "code",
   "execution_count": null,
   "metadata": {},
   "outputs": [],
   "source": [
    "# Optional - Install the required packages\n",
    "\n",
    "# !pip install ipython-autotime\n",
    "# !pip install pandas\n",
    "# !pip install numpy\n",
    "# !pip install matplotlib\n",
    "# !pip install scikit-learn\n",
    "# !pip install \"h2o-authn~=1.0\"\n",
    "# !pip install h2o-engine-manager\n"
   ]
  },
  {
   "cell_type": "code",
   "execution_count": 3,
   "metadata": {},
   "outputs": [],
   "source": [
    "# Setup the download location\n",
    "download_location = '/artifacts' #pointing to the artifacts folder  "
   ]
  },
  {
   "cell_type": "code",
   "execution_count": 5,
   "metadata": {},
   "outputs": [
    {
     "name": "stdout",
     "output_type": "stream",
     "text": [
      "The autotime extension is already loaded. To reload it, use:\n",
      "  %reload_ext autotime\n",
      "time: 137 ms (started: 2025-07-09 15:28:01 +00:00)\n"
     ]
    }
   ],
   "source": [
    "# Import the required packages\n",
    "\n",
    "import pandas as pd \n",
    "import numpy as np \n",
    "import h2o_authn \n",
    "import getpass \n",
    "import h2o_engine_manager \n",
    "\n",
    "# time each cell\n",
    "%load_ext autotime"
   ]
  },
  {
   "cell_type": "markdown",
   "metadata": {},
   "source": [
    "## Connect to Driverless AI\n",
    "\n",
    "To get started, we’ll connect to the H2O AI Engine Manager to manage Driverless AI.\n",
    "\n",
    "**Get Your API Token and Connect to Engine Manager**\n",
    "\n",
    "1. Go to [H2O AI Cloud](https://internal.dedicated.h2o.ai)\n",
    "2. Click on your **username** in the top-right corner\n",
    "3. Choose **\"CLI and API Access\"**\n",
    "4. Or directly visit this link to generate a token:  \n",
    "   [https://internal.dedicated.h2o.ai/auth/get-platform-token](https://internal.dedicated.h2o.ai/auth/get-platform-token)\n",
    "\n",
    "\n",
    "You can now list, create, and manage Driverless AI engines using `aiem`.  "
   ]
  },
  {
   "cell_type": "code",
   "execution_count": 7,
   "metadata": {},
   "outputs": [
    {
     "name": "stdout",
     "output_type": "stream",
     "text": [
      "Visit https://internal.dedicated.h2o.ai/auth/get-platform-token to get your platform token\n"
     ]
    },
    {
     "name": "stdin",
     "output_type": "stream",
     "text": [
      "Enter your platform token:  ········\n"
     ]
    },
    {
     "name": "stdout",
     "output_type": "stream",
     "text": [
      "time: 32.9 s (started: 2025-07-09 15:30:40 +00:00)\n"
     ]
    }
   ],
   "source": [
    "\n",
    "# Authenticate with your token\n",
    "\n",
    "print(f\"Visit https://internal.dedicated.h2o.ai/auth/get-platform-token to get your platform token\") \n",
    "token_provider = h2o_authn.TokenProvider(\n",
    "  refresh_token=getpass.getpass('Enter your platform token: '),\n",
    "  client_id=\"hac-platform-public\", \n",
    "  token_endpoint_url=\"https://auth.internal.dedicated.h2o.ai/auth/realms/hac/protocol/openid-connect/token\" \n",
    ")\n",
    "\n",
    "aiem = h2o_engine_manager.login(\n",
    "  environment=\"https://internal.dedicated.h2o.ai\", \n",
    "  token_provider=token_provider\n",
    ")\n"
   ]
  },
  {
   "cell_type": "code",
   "execution_count": 13,
   "metadata": {},
   "outputs": [
    {
     "name": "stdout",
     "output_type": "stream",
     "text": [
      "Available Engines:\n",
      "\n",
      "[0] New DAI Engine 690 (ID: new-dai-engine-690)\n"
     ]
    },
    {
     "name": "stdin",
     "output_type": "stream",
     "text": [
      "\n",
      "Select an engine by index:  0\n"
     ]
    },
    {
     "name": "stdout",
     "output_type": "stream",
     "text": [
      "\n",
      "Selected Engine: New DAI Engine 690 (ID: new-dai-engine-690)\n",
      "Refreshed Status: STATE_PAUSED\n",
      "time: 3.04 s (started: 2025-07-09 15:36:22 +00:00)\n"
     ]
    }
   ],
   "source": [
    "\n",
    "\n",
    "dai_engine_client = aiem.dai_engine_client\n",
    "\n",
    "# Get the list of engines\n",
    "engines = dai_engine_client.list_engines().engines\n",
    "\n",
    "# Display available engines\n",
    "if engines:\n",
    "    print(\"Available Engines:\\n\")\n",
    "    for idx, engine in enumerate(engines):\n",
    "        print(f\"[{idx}] {engine.display_name} (ID: {engine.engine_id})\")\n",
    "\n",
    "    # Prompt user to select one by index\n",
    "    selected_idx = int(input(\"\\nSelect an engine by index: \"))\n",
    "    selected_engine = engines[selected_idx]\n",
    "\n",
    "    # Extract selected engine info\n",
    "    engine_id = selected_engine.engine_id\n",
    "    display_name = selected_engine.display_name\n",
    "\n",
    "    print(f\"\\nSelected Engine: {display_name} (ID: {engine_id})\")\n",
    "    refreshed_engine = dai_engine_client.get_engine(engine_id=engine_id)\n",
    "    print(f\"Refreshed Status: {refreshed_engine.state.value}\")\n",
    "    \n",
    "else:\n",
    "    print(\"No engines available.\")\n",
    "\n"
   ]
  },
  {
   "cell_type": "code",
   "execution_count": 21,
   "metadata": {},
   "outputs": [
    {
     "name": "stdout",
     "output_type": "stream",
     "text": [
      "time: 1.68 s (started: 2025-07-09 15:44:14 +00:00)\n"
     ]
    }
   ],
   "source": [
    "# Find the DAI Engine using the Engine ID and connect\n",
    "dai_engine_1 = dai_engine_client.get_engine(engine_id)\n",
    "dai = dai_engine_1.connect()"
   ]
  },
  {
   "cell_type": "code",
   "execution_count": 119,
   "metadata": {},
   "outputs": [
    {
     "data": {
      "text/plain": [
       "['_DAIEngine__get_or_none_if_not_found',\n",
       " '_DAIEngine__is_api_engine_in_final_state',\n",
       " '_DAIEngine__is_in_final_state_and_update',\n",
       " '_DAIEngine__is_in_final_state_and_update_exc',\n",
       " '_DAIEngine__update_data',\n",
       " '__class__',\n",
       " '__delattr__',\n",
       " '__dict__',\n",
       " '__dir__',\n",
       " '__doc__',\n",
       " '__eq__',\n",
       " '__firstlineno__',\n",
       " '__format__',\n",
       " '__ge__',\n",
       " '__getattribute__',\n",
       " '__getstate__',\n",
       " '__gt__',\n",
       " '__hash__',\n",
       " '__init__',\n",
       " '__init_subclass__',\n",
       " '__le__',\n",
       " '__lt__',\n",
       " '__module__',\n",
       " '__ne__',\n",
       " '__new__',\n",
       " '__reduce__',\n",
       " '__reduce_ex__',\n",
       " '__repr__',\n",
       " '__setattr__',\n",
       " '__sizeof__',\n",
       " '__static_attributes__',\n",
       " '__str__',\n",
       " '__subclasshook__',\n",
       " '__weakref__',\n",
       " 'annotations',\n",
       " 'api_url',\n",
       " 'client_info',\n",
       " 'config',\n",
       " 'connect',\n",
       " 'cpu',\n",
       " 'create_time',\n",
       " 'creator',\n",
       " 'creator_display_name',\n",
       " 'current_idle_duration',\n",
       " 'current_running_duration',\n",
       " 'dai_engine_version',\n",
       " 'dai_engine_version_info',\n",
       " 'data_directory_storage_class',\n",
       " 'delete',\n",
       " 'delete_time',\n",
       " 'display_name',\n",
       " 'download_logs',\n",
       " 'engine_id',\n",
       " 'free_disk_size_bytes',\n",
       " 'gpu',\n",
       " 'login_url',\n",
       " 'max_idle_duration',\n",
       " 'max_running_duration',\n",
       " 'memory_bytes',\n",
       " 'migrate_creator',\n",
       " 'name',\n",
       " 'pause',\n",
       " 'profile',\n",
       " 'profile_info',\n",
       " 'reconciling',\n",
       " 'resize_storage',\n",
       " 'resume',\n",
       " 'resume_time',\n",
       " 'state',\n",
       " 'storage_bytes',\n",
       " 'storage_resizing',\n",
       " 'to_api_object',\n",
       " 'to_dai_engine_resource',\n",
       " 'total_disk_size_bytes',\n",
       " 'uid',\n",
       " 'update',\n",
       " 'update_time',\n",
       " 'upgrade_available',\n",
       " 'upgrade_dai_engine_version',\n",
       " 'wait',\n",
       " 'wait_async',\n",
       " 'workspace_id']"
      ]
     },
     "execution_count": 119,
     "metadata": {},
     "output_type": "execute_result"
    },
    {
     "name": "stdout",
     "output_type": "stream",
     "text": [
      "time: 2.29 ms (started: 2025-07-09 18:04:52 +00:00)\n"
     ]
    }
   ],
   "source": [
    "dir(dai_engine_1) # add resume and pause here - (resume - wait and connect)"
   ]
  },
  {
   "cell_type": "code",
   "execution_count": 22,
   "metadata": {},
   "outputs": [
    {
     "data": {
      "text/plain": [
       "<Version('1.11.1.1')>"
      ]
     },
     "execution_count": 22,
     "metadata": {},
     "output_type": "execute_result"
    },
    {
     "name": "stdout",
     "output_type": "stream",
     "text": [
      "time: 3.58 ms (started: 2025-07-09 15:44:18 +00:00)\n"
     ]
    }
   ],
   "source": [
    "# Check DAI connection \n",
    "dai.server.version"
   ]
  },
  {
   "cell_type": "code",
   "execution_count": 23,
   "metadata": {},
   "outputs": [
    {
     "data": {
      "text/html": [
       "<pre><a href='https://enginemanager.internal.dedicated.h2o.ai/workspaces/4a110815-00e0-4ace-a9a1-3121aa75d12d/daiEngines/new-dai-engine-690' rel='noopener noreferrer' target='_blank'>https://enginemanager.internal.dedicated.h2o.ai/workspaces/4a110815-00e0-4ace-a9a1-3121aa75d12d/daiEngines/new-dai-engine-690</a></pre>"
      ],
      "text/plain": [
       "'https://enginemanager.internal.dedicated.h2o.ai/workspaces/4a110815-00e0-4ace-a9a1-3121aa75d12d/daiEngines/new-dai-engine-690'"
      ]
     },
     "execution_count": 23,
     "metadata": {},
     "output_type": "execute_result"
    },
    {
     "name": "stdout",
     "output_type": "stream",
     "text": [
      "time: 1.86 ms (started: 2025-07-09 15:44:20 +00:00)\n"
     ]
    }
   ],
   "source": [
    "# At any point - we could call the GUI method to get the link \n",
    "dai.server.gui()"
   ]
  },
  {
   "cell_type": "markdown",
   "metadata": {},
   "source": [
    "## Documentation\n",
    "You can get links to the home page and search the documentation from the python client any time you want to know more about a specific DAI functionality.\n",
    "\n"
   ]
  },
  {
   "cell_type": "code",
   "execution_count": 26,
   "metadata": {},
   "outputs": [
    {
     "data": {
      "text/html": [
       "<pre><a href='https://enginemanager.internal.dedicated.h2o.ai/workspaces/4a110815-00e0-4ace-a9a1-3121aa75d12d/daiEngines/new-dai-engine-690/docs/userguide/search.html?q=autoviz' rel='noopener noreferrer' target='_blank'>https://enginemanager.internal.dedicated.h2o.ai/workspaces/4a110815-00e0-4ace-a9a1-3121aa75d12d/daiEngines/new-dai-engine-690/docs/userguide/search.html?q=autoviz</a></pre>"
      ],
      "text/plain": [
       "'https://enginemanager.internal.dedicated.h2o.ai/workspaces/4a110815-00e0-4ace-a9a1-3121aa75d12d/daiEngines/new-dai-engine-690/docs/userguide/search.html?q=autoviz'"
      ]
     },
     "execution_count": 26,
     "metadata": {},
     "output_type": "execute_result"
    },
    {
     "name": "stdout",
     "output_type": "stream",
     "text": [
      "time: 1.5 ms (started: 2025-07-09 15:45:02 +00:00)\n"
     ]
    }
   ],
   "source": [
    "dai.server.docs(\"autoviz\")"
   ]
  },
  {
   "cell_type": "code",
   "execution_count": 95,
   "metadata": {},
   "outputs": [
    {
     "data": {
      "text/html": [
       "<pre><a href='https://enginemanager.internal.dedicated.h2o.ai/workspaces/4a110815-00e0-4ace-a9a1-3121aa75d12d/daiEngines/new-dai-engine-690/docs/userguide/search.html?q=dataset' rel='noopener noreferrer' target='_blank'>https://enginemanager.internal.dedicated.h2o.ai/workspaces/4a110815-00e0-4ace-a9a1-3121aa75d12d/daiEngines/new-dai-engine-690/docs/userguide/search.html?q=dataset</a></pre>"
      ],
      "text/plain": [
       "'https://enginemanager.internal.dedicated.h2o.ai/workspaces/4a110815-00e0-4ace-a9a1-3121aa75d12d/daiEngines/new-dai-engine-690/docs/userguide/search.html?q=dataset'"
      ]
     },
     "execution_count": 95,
     "metadata": {},
     "output_type": "execute_result"
    },
    {
     "name": "stdout",
     "output_type": "stream",
     "text": [
      "time: 1.82 ms (started: 2025-07-09 05:48:27 +00:00)\n"
     ]
    }
   ],
   "source": [
    "dai.server.docs(\"dataset\")"
   ]
  },
  {
   "cell_type": "markdown",
   "metadata": {},
   "source": [
    "## Data\n",
    "Various methods for loading, interacting with, and modifiying data within Driverless AI."
   ]
  },
  {
   "cell_type": "markdown",
   "metadata": {},
   "source": [
    "### List Available Connectors\n",
    "View all ways you are allowed to add data to DAI on this instace - to enable more connectors update the `config.toml` file <br/><br/>\n",
    "**Note:** Interactions with Data Recipes is not yet available so these connectors are not shown"
   ]
  },
  {
   "cell_type": "code",
   "execution_count": 30,
   "metadata": {},
   "outputs": [
    {
     "data": {
      "text/plain": [
       "['upload',\n",
       " 's3',\n",
       " 'snow',\n",
       " 'file',\n",
       " 'jdbc',\n",
       " 'gcs',\n",
       " 'gbq',\n",
       " 'azrbs',\n",
       " 'recipe_file',\n",
       " 'recipe_url',\n",
       " 'h2o_drive',\n",
       " 'upload']"
      ]
     },
     "execution_count": 30,
     "metadata": {},
     "output_type": "execute_result"
    },
    {
     "name": "stdout",
     "output_type": "stream",
     "text": [
      "time: 21.9 ms (started: 2025-07-08 22:11:33 +00:00)\n"
     ]
    }
   ],
   "source": [
    "dai.connectors.list()"
   ]
  },
  {
   "cell_type": "markdown",
   "metadata": {},
   "source": [
    "### List Existing Datasets"
   ]
  },
  {
   "cell_type": "code",
   "execution_count": null,
   "metadata": {},
   "outputs": [],
   "source": [
    "# Get a link to view all datasets in the UI\n",
    "dai.datasets.gui()"
   ]
  },
  {
   "cell_type": "code",
   "execution_count": 39,
   "metadata": {},
   "outputs": [
    {
     "name": "stdout",
     "output_type": "stream",
     "text": [
      "\n",
      "Existing Datasets\n",
      "\n",
      "    | Type    | Key                                  | Name\n",
      "----+---------+--------------------------------------+-----------------------------\n",
      "  0 | Dataset | 78c6769c-5cdc-11f0-9998-4a4fa12acc26 | Telco_Churn_Standard_Upload\n",
      "  1 | Dataset | 27b5a390-5cdc-11f0-9998-4a4fa12acc26 | Telco_Churnv3\n",
      "  2 | Dataset | 29da00a2-5c60-11f0-b283-06106caebdd7 | telco_churn_test\n",
      "  3 | Dataset | 29d9b76e-5c60-11f0-b283-06106caebdd7 | telco_churn_train\n",
      "  4 | Dataset | 08ccf3f8-5c4f-11f0-b283-06106caebdd7 | Fancy New Name\n",
      "  5 | Dataset | f5b350f0-5c4e-11f0-b283-06106caebdd7 | Telco_Churnv2\n",
      "  6 | Dataset | bccc268a-5c2c-11f0-a191-32096668f8c7 | telco_churn_test\n",
      "  7 | Dataset | bccbd84c-5c2c-11f0-a191-32096668f8c7 | telco_churn_train\n",
      "  8 | Dataset | 1ab27940-5c2b-11f0-a191-32096668f8c7 | Telco_Churn\n",
      "  9 | Dataset | 52d14c7e-515a-11f0-99e9-aa9a50ffaccd | onlinefraud.csv\n",
      "\n",
      "\n",
      "time: 24.8 ms (started: 2025-07-09 15:50:48 +00:00)\n"
     ]
    }
   ],
   "source": [
    "# List all the existing datasets\n",
    "\n",
    "print(\"\\nExisting Datasets\\n\")\n",
    "print(dai.datasets.list(start_index=0))\n",
    "print(\"\\n\")\n"
   ]
  },
  {
   "cell_type": "markdown",
   "metadata": {},
   "source": [
    "### Upload and Download Data\n",
    "You can upload data using any method that is enabled on your system. Here we will show:\n",
    "* Add data from a public s3 link\n",
    "* Download a dataset\n",
    "* Upload data from your local machine\n",
    "* Rename a dataset\n"
   ]
  },
  {
   "cell_type": "code",
   "execution_count": 34,
   "metadata": {},
   "outputs": [
    {
     "name": "stdout",
     "output_type": "stream",
     "text": [
      "Complete 100.00% - [4/4] Computed stats for column Churn?\n",
      "time: 2.47 s (started: 2025-07-09 15:48:27 +00:00)\n"
     ]
    }
   ],
   "source": [
    "# Add a dataset from S3 Bucket\n",
    "telco_churn = dai.datasets.create(data=\"https://h2o-internal-release.s3-us-west-2.amazonaws.com/data/Splunk/churn.csv\", \n",
    "                                  data_source=\"s3\", \n",
    "                                  name=\"Telco_Churnv3\")"
   ]
  },
  {
   "cell_type": "code",
   "execution_count": 37,
   "metadata": {},
   "outputs": [
    {
     "name": "stdout",
     "output_type": "stream",
     "text": [
      "INFO - Downloaded 'churn.csv'\n",
      "File saved to: churn.csv\n",
      "time: 1.1 s (started: 2025-07-09 15:50:42 +00:00)\n"
     ]
    }
   ],
   "source": [
    "# Download a dataset\n",
    "local_file_path = telco_churn.download(download_location, dst_file=\"churn.csv\", overwrite=True)\n",
    "print(\"File saved to:\", local_file_path)\n"
   ]
  },
  {
   "cell_type": "code",
   "execution_count": 38,
   "metadata": {
    "scrolled": true
   },
   "outputs": [
    {
     "name": "stdout",
     "output_type": "stream",
     "text": [
      "Complete 100.00% - [4/4] Computed stats for column Churn?\n",
      "time: 1.62 s (started: 2025-07-09 15:50:43 +00:00)\n"
     ]
    }
   ],
   "source": [
    "# Create a dataset using standard upload\n",
    "telco_churn2 = dai.datasets.create(local_file_path, name=\"Telco_Churn_Standard_Upload\")"
   ]
  },
  {
   "cell_type": "code",
   "execution_count": 14,
   "metadata": {},
   "outputs": [
    {
     "name": "stdout",
     "output_type": "stream",
     "text": [
      "Old Name: Telco_Churn_Duplicate\n",
      "New Name: Fancy New Name\n",
      "time: 73.9 ms (started: 2025-07-08 22:58:32 +00:00)\n"
     ]
    }
   ],
   "source": [
    "# Rename a existing dataset \n",
    "print(\"Old Name:\", telco_churn2.name)\n",
    "\n",
    "telco_churn2.rename(\"Fancy New Name\")\n",
    "\n",
    "print(\"New Name:\", telco_churn2.name)"
   ]
  },
  {
   "cell_type": "markdown",
   "metadata": {},
   "source": [
    "### Explore the Dataset\n",
    "* View the column names\n",
    "* View the data shape\n",
    "* View the first and last rows"
   ]
  },
  {
   "cell_type": "code",
   "execution_count": 40,
   "metadata": {},
   "outputs": [
    {
     "name": "stdout",
     "output_type": "stream",
     "text": [
      "27b5a390-5cdc-11f0-9998-4a4fa12acc26 | Telco_Churnv3\n",
      "\n",
      "Columns: ['State', 'Account Length', 'Area Code', 'Phone', \"Int'l Plan\", 'VMail Plan', 'VMail Message', 'Day Mins', 'Day Calls', 'Day Charge', 'Eve Mins', 'Eve Calls', 'Eve Charge', 'Night Mins', 'Night Calls', 'Night Charge', 'Intl Mins', 'Intl Calls', 'Intl Charge', 'CustServ Calls', 'Churn?']\n",
      "\n",
      "Shape: (3333, 21)\n",
      "time: 642 μs (started: 2025-07-09 15:53:03 +00:00)\n"
     ]
    }
   ],
   "source": [
    "print(telco_churn.key, \"|\", telco_churn.name)\n",
    "print(\"\\nColumns:\", telco_churn.columns)\n",
    "print('\\nShape:', telco_churn.shape)"
   ]
  },
  {
   "cell_type": "code",
   "execution_count": 42,
   "metadata": {},
   "outputs": [
    {
     "data": {
      "text/html": [
       "<table>\n",
       "<thead>\n",
       "<tr><th>State  </th><th style=\"text-align: right;\">  Account Length</th><th style=\"text-align: right;\">  Area Code</th><th>Phone   </th><th>Int&#x27;l Plan  </th><th>VMail Plan  </th><th style=\"text-align: right;\">  VMail Message</th><th style=\"text-align: right;\">  Day Mins</th><th style=\"text-align: right;\">  Day Calls</th><th style=\"text-align: right;\">  Day Charge</th><th style=\"text-align: right;\">  Eve Mins</th><th style=\"text-align: right;\">  Eve Calls</th><th style=\"text-align: right;\">  Eve Charge</th><th style=\"text-align: right;\">  Night Mins</th><th style=\"text-align: right;\">  Night Calls</th><th style=\"text-align: right;\">  Night Charge</th><th style=\"text-align: right;\">  Intl Mins</th><th style=\"text-align: right;\">  Intl Calls</th><th style=\"text-align: right;\">  Intl Charge</th><th style=\"text-align: right;\">  CustServ Calls</th><th>Churn?  </th></tr>\n",
       "</thead>\n",
       "<tbody>\n",
       "<tr><td>KS     </td><td style=\"text-align: right;\">             128</td><td style=\"text-align: right;\">        415</td><td>382-4657</td><td>no          </td><td>yes         </td><td style=\"text-align: right;\">             25</td><td style=\"text-align: right;\">     265.1</td><td style=\"text-align: right;\">        110</td><td style=\"text-align: right;\">       45.07</td><td style=\"text-align: right;\">     197.4</td><td style=\"text-align: right;\">         99</td><td style=\"text-align: right;\">       16.78</td><td style=\"text-align: right;\">       244.7</td><td style=\"text-align: right;\">           91</td><td style=\"text-align: right;\">         11.01</td><td style=\"text-align: right;\">       10  </td><td style=\"text-align: right;\">           3</td><td style=\"text-align: right;\">         2.7 </td><td style=\"text-align: right;\">               1</td><td>False.  </td></tr>\n",
       "<tr><td>OH     </td><td style=\"text-align: right;\">             107</td><td style=\"text-align: right;\">        415</td><td>371-7191</td><td>no          </td><td>yes         </td><td style=\"text-align: right;\">             26</td><td style=\"text-align: right;\">     161.6</td><td style=\"text-align: right;\">        123</td><td style=\"text-align: right;\">       27.47</td><td style=\"text-align: right;\">     195.5</td><td style=\"text-align: right;\">        103</td><td style=\"text-align: right;\">       16.62</td><td style=\"text-align: right;\">       254.4</td><td style=\"text-align: right;\">          103</td><td style=\"text-align: right;\">         11.45</td><td style=\"text-align: right;\">       13.7</td><td style=\"text-align: right;\">           3</td><td style=\"text-align: right;\">         3.7 </td><td style=\"text-align: right;\">               1</td><td>False.  </td></tr>\n",
       "<tr><td>NJ     </td><td style=\"text-align: right;\">             137</td><td style=\"text-align: right;\">        415</td><td>358-1921</td><td>no          </td><td>no          </td><td style=\"text-align: right;\">              0</td><td style=\"text-align: right;\">     243.4</td><td style=\"text-align: right;\">        114</td><td style=\"text-align: right;\">       41.38</td><td style=\"text-align: right;\">     121.2</td><td style=\"text-align: right;\">        110</td><td style=\"text-align: right;\">       10.3 </td><td style=\"text-align: right;\">       162.6</td><td style=\"text-align: right;\">          104</td><td style=\"text-align: right;\">          7.32</td><td style=\"text-align: right;\">       12.2</td><td style=\"text-align: right;\">           5</td><td style=\"text-align: right;\">         3.29</td><td style=\"text-align: right;\">               0</td><td>False.  </td></tr>\n",
       "<tr><td>OH     </td><td style=\"text-align: right;\">              84</td><td style=\"text-align: right;\">        408</td><td>375-9999</td><td>yes         </td><td>no          </td><td style=\"text-align: right;\">              0</td><td style=\"text-align: right;\">     299.4</td><td style=\"text-align: right;\">         71</td><td style=\"text-align: right;\">       50.9 </td><td style=\"text-align: right;\">      61.9</td><td style=\"text-align: right;\">         88</td><td style=\"text-align: right;\">        5.26</td><td style=\"text-align: right;\">       196.9</td><td style=\"text-align: right;\">           89</td><td style=\"text-align: right;\">          8.86</td><td style=\"text-align: right;\">        6.6</td><td style=\"text-align: right;\">           7</td><td style=\"text-align: right;\">         1.78</td><td style=\"text-align: right;\">               2</td><td>False.  </td></tr>\n",
       "<tr><td>OK     </td><td style=\"text-align: right;\">              75</td><td style=\"text-align: right;\">        415</td><td>330-6626</td><td>yes         </td><td>no          </td><td style=\"text-align: right;\">              0</td><td style=\"text-align: right;\">     166.7</td><td style=\"text-align: right;\">        113</td><td style=\"text-align: right;\">       28.34</td><td style=\"text-align: right;\">     148.3</td><td style=\"text-align: right;\">        122</td><td style=\"text-align: right;\">       12.61</td><td style=\"text-align: right;\">       186.9</td><td style=\"text-align: right;\">          121</td><td style=\"text-align: right;\">          8.41</td><td style=\"text-align: right;\">       10.1</td><td style=\"text-align: right;\">           3</td><td style=\"text-align: right;\">         2.73</td><td style=\"text-align: right;\">               3</td><td>False.  </td></tr>\n",
       "</tbody>\n",
       "</table>"
      ],
      "text/plain": [
       " State   |   Account Length |   Area Code | Phone    | Int'l Plan   | VMail Plan   |   VMail Message |   Day Mins |   Day Calls |   Day Charge |   Eve Mins |   Eve Calls |   Eve Charge |   Night Mins |   Night Calls |   Night Charge |   Intl Mins |   Intl Calls |   Intl Charge |   CustServ Calls | Churn?\n",
       "---------+------------------+-------------+----------+--------------+--------------+-----------------+------------+-------------+--------------+------------+-------------+--------------+--------------+---------------+----------------+-------------+--------------+---------------+------------------+----------\n",
       " KS      |              128 |         415 | 382-4657 | no           | yes          |              25 |      265.1 |         110 |        45.07 |      197.4 |          99 |        16.78 |        244.7 |            91 |          11.01 |        10   |            3 |          2.7  |                1 | False.\n",
       " OH      |              107 |         415 | 371-7191 | no           | yes          |              26 |      161.6 |         123 |        27.47 |      195.5 |         103 |        16.62 |        254.4 |           103 |          11.45 |        13.7 |            3 |          3.7  |                1 | False.\n",
       " NJ      |              137 |         415 | 358-1921 | no           | no           |               0 |      243.4 |         114 |        41.38 |      121.2 |         110 |        10.3  |        162.6 |           104 |           7.32 |        12.2 |            5 |          3.29 |                0 | False.\n",
       " OH      |               84 |         408 | 375-9999 | yes          | no           |               0 |      299.4 |          71 |        50.9  |       61.9 |          88 |         5.26 |        196.9 |            89 |           8.86 |         6.6 |            7 |          1.78 |                2 | False.\n",
       " OK      |               75 |         415 | 330-6626 | yes          | no           |               0 |      166.7 |         113 |        28.34 |      148.3 |         122 |        12.61 |        186.9 |           121 |           8.41 |        10.1 |            3 |          2.73 |                3 | False."
      ]
     },
     "execution_count": 42,
     "metadata": {},
     "output_type": "execute_result"
    },
    {
     "name": "stdout",
     "output_type": "stream",
     "text": [
      "time: 36.2 ms (started: 2025-07-09 15:53:36 +00:00)\n"
     ]
    }
   ],
   "source": [
    "telco_churn.head()"
   ]
  },
  {
   "cell_type": "code",
   "execution_count": 60,
   "metadata": {},
   "outputs": [
    {
     "data": {
      "text/html": [
       "<table>\n",
       "<thead>\n",
       "<tr><th>State  </th><th style=\"text-align: right;\">  Account Length</th><th style=\"text-align: right;\">  Area Code</th><th>Phone   </th><th>Int&#x27;l Plan  </th><th>VMail Plan  </th><th style=\"text-align: right;\">  VMail Message</th><th style=\"text-align: right;\">  Day Mins</th><th style=\"text-align: right;\">  Day Calls</th><th style=\"text-align: right;\">  Day Charge</th><th style=\"text-align: right;\">  Eve Mins</th><th style=\"text-align: right;\">  Eve Calls</th><th style=\"text-align: right;\">  Eve Charge</th><th style=\"text-align: right;\">  Night Mins</th><th style=\"text-align: right;\">  Night Calls</th><th style=\"text-align: right;\">  Night Charge</th><th style=\"text-align: right;\">  Intl Mins</th><th style=\"text-align: right;\">  Intl Calls</th><th style=\"text-align: right;\">  Intl Charge</th><th style=\"text-align: right;\">  CustServ Calls</th><th>Churn?  </th></tr>\n",
       "</thead>\n",
       "<tbody>\n",
       "<tr><td>AZ     </td><td style=\"text-align: right;\">             192</td><td style=\"text-align: right;\">        415</td><td>414-4276</td><td>no          </td><td>yes         </td><td style=\"text-align: right;\">             36</td><td style=\"text-align: right;\">     156.2</td><td style=\"text-align: right;\">         77</td><td style=\"text-align: right;\">       26.55</td><td style=\"text-align: right;\">     215.5</td><td style=\"text-align: right;\">        126</td><td style=\"text-align: right;\">       18.32</td><td style=\"text-align: right;\">       279.1</td><td style=\"text-align: right;\">           83</td><td style=\"text-align: right;\">         12.56</td><td style=\"text-align: right;\">        9.9</td><td style=\"text-align: right;\">           6</td><td style=\"text-align: right;\">         2.67</td><td style=\"text-align: right;\">               2</td><td>False.  </td></tr>\n",
       "<tr><td>WV     </td><td style=\"text-align: right;\">              68</td><td style=\"text-align: right;\">        415</td><td>370-3271</td><td>no          </td><td>no          </td><td style=\"text-align: right;\">              0</td><td style=\"text-align: right;\">     231.1</td><td style=\"text-align: right;\">         57</td><td style=\"text-align: right;\">       39.29</td><td style=\"text-align: right;\">     153.4</td><td style=\"text-align: right;\">         55</td><td style=\"text-align: right;\">       13.04</td><td style=\"text-align: right;\">       191.3</td><td style=\"text-align: right;\">          123</td><td style=\"text-align: right;\">          8.61</td><td style=\"text-align: right;\">        9.6</td><td style=\"text-align: right;\">           4</td><td style=\"text-align: right;\">         2.59</td><td style=\"text-align: right;\">               3</td><td>False.  </td></tr>\n",
       "<tr><td>RI     </td><td style=\"text-align: right;\">              28</td><td style=\"text-align: right;\">        510</td><td>328-8230</td><td>no          </td><td>no          </td><td style=\"text-align: right;\">              0</td><td style=\"text-align: right;\">     180.8</td><td style=\"text-align: right;\">        109</td><td style=\"text-align: right;\">       30.74</td><td style=\"text-align: right;\">     288.8</td><td style=\"text-align: right;\">         58</td><td style=\"text-align: right;\">       24.55</td><td style=\"text-align: right;\">       191.9</td><td style=\"text-align: right;\">           91</td><td style=\"text-align: right;\">          8.64</td><td style=\"text-align: right;\">       14.1</td><td style=\"text-align: right;\">           6</td><td style=\"text-align: right;\">         3.81</td><td style=\"text-align: right;\">               2</td><td>False.  </td></tr>\n",
       "<tr><td>CT     </td><td style=\"text-align: right;\">             184</td><td style=\"text-align: right;\">        510</td><td>364-6381</td><td>yes         </td><td>no          </td><td style=\"text-align: right;\">              0</td><td style=\"text-align: right;\">     213.8</td><td style=\"text-align: right;\">        105</td><td style=\"text-align: right;\">       36.35</td><td style=\"text-align: right;\">     159.6</td><td style=\"text-align: right;\">         84</td><td style=\"text-align: right;\">       13.57</td><td style=\"text-align: right;\">       139.2</td><td style=\"text-align: right;\">          137</td><td style=\"text-align: right;\">          6.26</td><td style=\"text-align: right;\">        5  </td><td style=\"text-align: right;\">          10</td><td style=\"text-align: right;\">         1.35</td><td style=\"text-align: right;\">               2</td><td>False.  </td></tr>\n",
       "<tr><td>TN     </td><td style=\"text-align: right;\">              74</td><td style=\"text-align: right;\">        415</td><td>400-4344</td><td>no          </td><td>yes         </td><td style=\"text-align: right;\">             25</td><td style=\"text-align: right;\">     234.4</td><td style=\"text-align: right;\">        113</td><td style=\"text-align: right;\">       39.85</td><td style=\"text-align: right;\">     265.9</td><td style=\"text-align: right;\">         82</td><td style=\"text-align: right;\">       22.6 </td><td style=\"text-align: right;\">       241.4</td><td style=\"text-align: right;\">           77</td><td style=\"text-align: right;\">         10.86</td><td style=\"text-align: right;\">       13.7</td><td style=\"text-align: right;\">           4</td><td style=\"text-align: right;\">         3.7 </td><td style=\"text-align: right;\">               0</td><td>False.  </td></tr>\n",
       "</tbody>\n",
       "</table>"
      ],
      "text/plain": [
       " State   |   Account Length |   Area Code | Phone    | Int'l Plan   | VMail Plan   |   VMail Message |   Day Mins |   Day Calls |   Day Charge |   Eve Mins |   Eve Calls |   Eve Charge |   Night Mins |   Night Calls |   Night Charge |   Intl Mins |   Intl Calls |   Intl Charge |   CustServ Calls | Churn?\n",
       "---------+------------------+-------------+----------+--------------+--------------+-----------------+------------+-------------+--------------+------------+-------------+--------------+--------------+---------------+----------------+-------------+--------------+---------------+------------------+----------\n",
       " AZ      |              192 |         415 | 414-4276 | no           | yes          |              36 |      156.2 |          77 |        26.55 |      215.5 |         126 |        18.32 |        279.1 |            83 |          12.56 |         9.9 |            6 |          2.67 |                2 | False.\n",
       " WV      |               68 |         415 | 370-3271 | no           | no           |               0 |      231.1 |          57 |        39.29 |      153.4 |          55 |        13.04 |        191.3 |           123 |           8.61 |         9.6 |            4 |          2.59 |                3 | False.\n",
       " RI      |               28 |         510 | 328-8230 | no           | no           |               0 |      180.8 |         109 |        30.74 |      288.8 |          58 |        24.55 |        191.9 |            91 |           8.64 |        14.1 |            6 |          3.81 |                2 | False.\n",
       " CT      |              184 |         510 | 364-6381 | yes          | no           |               0 |      213.8 |         105 |        36.35 |      159.6 |          84 |        13.57 |        139.2 |           137 |           6.26 |         5   |           10 |          1.35 |                2 | False.\n",
       " TN      |               74 |         415 | 400-4344 | no           | yes          |              25 |      234.4 |         113 |        39.85 |      265.9 |          82 |        22.6  |        241.4 |            77 |          10.86 |        13.7 |            4 |          3.7  |                0 | False."
      ]
     },
     "execution_count": 60,
     "metadata": {},
     "output_type": "execute_result"
    },
    {
     "name": "stdout",
     "output_type": "stream",
     "text": [
      "time: 28.7 ms (started: 2025-07-08 18:52:05 +00:00)\n"
     ]
    }
   ],
   "source": [
    "telco_churn.tail()"
   ]
  },
  {
   "cell_type": "markdown",
   "metadata": {},
   "source": [
    "### Explore the Columns\n",
    "* View column summaries\n",
    "* Update the datatype to be used in modeling"
   ]
  },
  {
   "cell_type": "code",
   "execution_count": 44,
   "metadata": {},
   "outputs": [
    {
     "name": "stdout",
     "output_type": "stream",
     "text": [
      "time: 216 μs (started: 2025-07-09 15:54:55 +00:00)\n"
     ]
    }
   ],
   "source": [
    "# View all column summaries\n",
    "# print(telco_churn.column_summaries())"
   ]
  },
  {
   "cell_type": "code",
   "execution_count": 46,
   "metadata": {},
   "outputs": [
    {
     "name": "stdout",
     "output_type": "stream",
     "text": [
      "--- Area Code ---\n",
      "\n",
      " 408|██████████\n",
      "    |████████████████████\n",
      " 510|██████████\n",
      "\n",
      "Data Type: int\n",
      "Logical Types: []\n",
      "Datetime Format: \n",
      "Count: 3333\n",
      "Missing: 0\n",
      "Mean: 437\n",
      "SD: 42.4\n",
      "Min: 408\n",
      "Max: 510\n",
      "Unique: 3\n",
      "Freq: 1655\n",
      "--- State ---\n",
      "\n",
      "    WV|█\n",
      "    MN|█\n",
      " Other|████████████████████\n",
      "\n",
      "Data Type: str\n",
      "Logical Types: []\n",
      "Datetime Format: \n",
      "Count: 3333\n",
      "Missing: 0\n",
      "Unique: 51\n",
      "Freq: 106\n",
      "--- CustServ Calls ---\n",
      "\n",
      " 0|████████████\n",
      "  |████████████████████\n",
      "  |█████████████\n",
      "  |███████\n",
      "  |███\n",
      "  |█\n",
      "  |\n",
      "  |\n",
      "  |\n",
      " 9|\n",
      "\n",
      "Data Type: int\n",
      "Logical Types: []\n",
      "Datetime Format: \n",
      "Count: 3333\n",
      "Missing: 0\n",
      "Mean: 1.56\n",
      "SD: 1.32\n",
      "Min: 0\n",
      "Max: 9\n",
      "Unique: 10\n",
      "Freq: 1181\n",
      "--- Churn? ---\n",
      "\n",
      " False.|████████████████████\n",
      "  True.|███\n",
      "\n",
      "Data Type: str\n",
      "Logical Types: []\n",
      "Datetime Format: \n",
      "Count: 3333\n",
      "Missing: 0\n",
      "Unique: 2\n",
      "Freq: 483\n",
      "\n",
      "time: 26.4 ms (started: 2025-07-09 15:55:47 +00:00)\n"
     ]
    }
   ],
   "source": [
    "print(telco_churn.column_summaries([\"Area Code\",\"State\",\"CustServ Calls\",\"Churn?\"]))"
   ]
  },
  {
   "cell_type": "code",
   "execution_count": 48,
   "metadata": {},
   "outputs": [
    {
     "name": "stdout",
     "output_type": "stream",
     "text": [
      "--- Area Code ---\n",
      "\n",
      " 408|██████████\n",
      "    |████████████████████\n",
      " 510|██████████\n",
      "\n",
      "Data Type: int\n",
      "Logical Types: ['categorical']\n",
      "Datetime Format: \n",
      "Count: 3333\n",
      "Missing: 0\n",
      "Mean: 437\n",
      "SD: 42.4\n",
      "Min: 408\n",
      "Max: 510\n",
      "Unique: 3\n",
      "Freq: 1655\n",
      "time: 102 ms (started: 2025-07-09 16:03:29 +00:00)\n"
     ]
    }
   ],
   "source": [
    "# Force a numeric column to only be used as a category\n",
    "telco_churn.set_logical_types({'Area Code': ['categorical']})\n",
    "print(telco_churn.column_summaries()[\"Area Code\"])"
   ]
  },
  {
   "cell_type": "markdown",
   "metadata": {},
   "source": [
    "### Split a Dataset\n",
    "The split function returns a dictionary of two datasets so you can easily pass them to the experiments"
   ]
  },
  {
   "cell_type": "code",
   "execution_count": 57,
   "metadata": {},
   "outputs": [
    {
     "name": "stdout",
     "output_type": "stream",
     "text": [
      "Complete\n",
      "time: 1.31 s (started: 2025-07-09 16:19:09 +00:00)\n"
     ]
    }
   ],
   "source": [
    "telco_churn_split = telco_churn.split_to_train_test(\n",
    "    train_size=0.8, \n",
    "    train_name='telco_churn_train', \n",
    "    test_name='telco_churn_test', \n",
    "    target_column= \"Churn?\", # Beta users with client from before March 15th use target_col\n",
    "    seed=42\n",
    ")"
   ]
  },
  {
   "cell_type": "code",
   "execution_count": 32,
   "metadata": {},
   "outputs": [
    {
     "data": {
      "text/plain": [
       "{'train_dataset': <class 'Dataset'> 29d9b76e-5c60-11f0-b283-06106caebdd7 telco_churn_train,\n",
       " 'test_dataset': <class 'Dataset'> 29da00a2-5c60-11f0-b283-06106caebdd7 telco_churn_test}"
      ]
     },
     "execution_count": 32,
     "metadata": {},
     "output_type": "execute_result"
    },
    {
     "name": "stdout",
     "output_type": "stream",
     "text": [
      "time: 2.04 ms (started: 2025-07-09 01:00:55 +00:00)\n"
     ]
    }
   ],
   "source": [
    "telco_churn_split"
   ]
  },
  {
   "cell_type": "code",
   "execution_count": 33,
   "metadata": {},
   "outputs": [
    {
     "name": "stdout",
     "output_type": "stream",
     "text": [
      "train_dataset \t 29d9b76e-5c60-11f0-b283-06106caebdd7 telco_churn_train\n",
      "test_dataset \t 29da00a2-5c60-11f0-b283-06106caebdd7 telco_churn_test\n",
      "time: 3.53 ms (started: 2025-07-09 01:00:55 +00:00)\n"
     ]
    }
   ],
   "source": [
    "for k, v in telco_churn_split.items():\n",
    "    print(k, \"\\t\" ,v.key, v.name)"
   ]
  },
  {
   "cell_type": "markdown",
   "metadata": {},
   "source": [
    "## Recipes\n",
    "Recipes are components of the ML pipeline such as algorithms, feature transformers, and scores. You can view all availabe recipes and upload new ones to your instance of DAI.\n",
    "\n",
    "* List all available models\n",
    "* List any custom transformers\n",
    "* List all scorers that can be used for binomial classification\n",
    "* Upload a custom recipe and save it to be tested later"
   ]
  },
  {
   "cell_type": "code",
   "execution_count": 34,
   "metadata": {},
   "outputs": [
    {
     "data": {
      "text/plain": [
       "['Aggregator',\n",
       " 'Constant',\n",
       " 'DecisionTree',\n",
       " 'FTRL',\n",
       " 'GLM',\n",
       " 'ImageAuto',\n",
       " 'ImbalancedLightGBM',\n",
       " 'ImbalancedXGBoostGBM',\n",
       " 'IsolationForestAnomaly',\n",
       " 'KMeans',\n",
       " 'KMeansFreq',\n",
       " 'KMeansOHE',\n",
       " 'KNNCUML',\n",
       " 'LightGBM',\n",
       " 'LightGBMDask',\n",
       " 'RFCUML',\n",
       " 'RFCUMLDask',\n",
       " 'RuleFit',\n",
       " 'TensorFlow',\n",
       " 'TextALBERT',\n",
       " 'TextBERT',\n",
       " 'TextCamemBERT',\n",
       " 'TextDistilBERT',\n",
       " 'TextMultilingualBERT',\n",
       " 'TextRoBERTa',\n",
       " 'TextXLM',\n",
       " 'TextXLMRoberta',\n",
       " 'TextXLNET',\n",
       " 'TorchGrowNet',\n",
       " 'TruncSVD',\n",
       " 'Unsupervised',\n",
       " 'UnsupervisedGeneral',\n",
       " 'UnsupervisedOneAll',\n",
       " 'UnsupervisedOneOutput',\n",
       " 'XGBoostDart',\n",
       " 'XGBoostDartDask',\n",
       " 'XGBoostGBM',\n",
       " 'XGBoostGBMDask',\n",
       " 'XGBoostRF',\n",
       " 'XGBoostRFDask',\n",
       " 'ZeroInflatedLightGBM',\n",
       " 'ZeroInflatedXGBoost']"
      ]
     },
     "execution_count": 34,
     "metadata": {},
     "output_type": "execute_result"
    },
    {
     "name": "stdout",
     "output_type": "stream",
     "text": [
      "time: 329 ms (started: 2025-07-09 01:00:55 +00:00)\n"
     ]
    }
   ],
   "source": [
    "[m.name for m in dai.recipes.models.list()]"
   ]
  },
  {
   "cell_type": "code",
   "execution_count": 35,
   "metadata": {},
   "outputs": [
    {
     "data": {
      "text/plain": [
       "['AggregatorTransformer',\n",
       " 'AutovizRecommendationsTransformer',\n",
       " 'BERTTransformer',\n",
       " 'BinnerTransformer',\n",
       " 'CVCatNumEncodeTransformer',\n",
       " 'CVTECUMLTransformer',\n",
       " 'CVTargetEncodeTransformer',\n",
       " 'CatOriginalTransformer',\n",
       " 'CatTransformer',\n",
       " 'ClusterDistCUMLDaskTransformer',\n",
       " 'ClusterDistCUMLTransformer',\n",
       " 'ClusterDistTransformer',\n",
       " 'ClusterIdAllNumTransformer',\n",
       " 'ClusterTETransformer',\n",
       " 'DBSCANCUMLDaskTransformer',\n",
       " 'DBSCANCUMLTransformer',\n",
       " 'DateOriginalTransformer',\n",
       " 'DateTimeDiffTransformer',\n",
       " 'DateTimeOriginalTransformer',\n",
       " 'DatesTransformer',\n",
       " 'EwmaLagsTransformer',\n",
       " 'FrequentTransformer',\n",
       " 'ImageOriginalTransformer',\n",
       " 'ImageVectorizerTransformer',\n",
       " 'InteractionsTransformer',\n",
       " 'IsHolidayTransformer',\n",
       " 'IsolationForestAnomalyAllNumericTransformer',\n",
       " 'IsolationForestAnomalyNumCatAllColsTransformer',\n",
       " 'IsolationForestAnomalyNumCatTransformer',\n",
       " 'IsolationForestAnomalyNumericTransformer',\n",
       " 'LagsAggregatesTransformer',\n",
       " 'LagsInteractionTransformer',\n",
       " 'LagsTransformer',\n",
       " 'LexiLabelEncoderTransformer',\n",
       " 'MeanTargetTransformer',\n",
       " 'NumCatTETransformer',\n",
       " 'NumToCatTETransformer',\n",
       " 'NumToCatWoEMonotonicTransformer',\n",
       " 'NumToCatWoETransformer',\n",
       " 'OneHotEncodingLinearTransformer',\n",
       " 'OneHotEncodingTransformer',\n",
       " 'OneHotEncodingUnsupervisedTransformer',\n",
       " 'OriginalTransformer',\n",
       " 'RobustScalerTransformer',\n",
       " 'StandardScalerTransformer',\n",
       " 'StringConcatTransformer',\n",
       " 'TSNECUMLTransformer',\n",
       " 'TextBiGRUTransformer',\n",
       " 'TextCNNTransformer',\n",
       " 'TextCharCNNTransformer',\n",
       " 'TextLinModelTransformer',\n",
       " 'TextOriginalTransformer',\n",
       " 'TextTransformer',\n",
       " 'TimeSeriesTargetEncSimpleTransformer',\n",
       " 'TimeSeriesTargetEncTransformer',\n",
       " 'TruncSVDAllNumTransformer',\n",
       " 'TruncSVDCUMLDaskTransformer',\n",
       " 'TruncSVDCUMLTransformer',\n",
       " 'TruncSVDNumTransformer',\n",
       " 'UMAPCUMLDaskTransformer',\n",
       " 'UMAPCUMLTransformer',\n",
       " 'WeightOfEvidenceTransformer',\n",
       " 'SumTransformer']"
      ]
     },
     "execution_count": 35,
     "metadata": {},
     "output_type": "execute_result"
    },
    {
     "name": "stdout",
     "output_type": "stream",
     "text": [
      "time: 342 ms (started: 2025-07-09 01:00:56 +00:00)\n"
     ]
    }
   ],
   "source": [
    "[t.name for t in dai.recipes.transformers.list() ]"
   ]
  },
  {
   "cell_type": "code",
   "execution_count": 69,
   "metadata": {},
   "outputs": [
    {
     "data": {
      "text/plain": [
       "['ACCURACY',\n",
       " 'AUC',\n",
       " 'AUCPR',\n",
       " 'F05',\n",
       " 'F1',\n",
       " 'F2',\n",
       " 'GINI',\n",
       " 'LOGLOSS',\n",
       " 'MACROAUC',\n",
       " 'MACROF1',\n",
       " 'MACROMCC',\n",
       " 'MCC']"
      ]
     },
     "execution_count": 69,
     "metadata": {},
     "output_type": "execute_result"
    },
    {
     "name": "stdout",
     "output_type": "stream",
     "text": [
      "time: 325 ms (started: 2025-07-09 16:43:46 +00:00)\n"
     ]
    }
   ],
   "source": [
    "[s.name for s in dai.recipes.scorers.list() if s.for_binomial]"
   ]
  },
  {
   "cell_type": "code",
   "execution_count": 37,
   "metadata": {},
   "outputs": [
    {
     "name": "stdout",
     "output_type": "stream",
     "text": [
      "Complete 100.00%\n"
     ]
    },
    {
     "data": {
      "text/plain": [
       "<class 'TransformerRecipe'> SumTransformer"
      ]
     },
     "execution_count": 37,
     "metadata": {},
     "output_type": "execute_result"
    },
    {
     "name": "stdout",
     "output_type": "stream",
     "text": [
      "time: 2.16 s (started: 2025-07-09 01:00:57 +00:00)\n"
     ]
    }
   ],
   "source": [
    "dai.recipes.create(\"https://github.com/h2oai/driverlessai-recipes/blob/rel-1.8.6/transformers/numeric/sum.py\")"
   ]
  },
  {
   "cell_type": "code",
   "execution_count": 38,
   "metadata": {},
   "outputs": [
    {
     "data": {
      "text/plain": [
       "['SumTransformer']"
      ]
     },
     "execution_count": 38,
     "metadata": {},
     "output_type": "execute_result"
    },
    {
     "name": "stdout",
     "output_type": "stream",
     "text": [
      "time: 341 ms (started: 2025-07-09 01:00:59 +00:00)\n"
     ]
    }
   ],
   "source": [
    "[t.name for t in dai.recipes.transformers.list() if t.is_custom ]"
   ]
  },
  {
   "cell_type": "code",
   "execution_count": 39,
   "metadata": {},
   "outputs": [
    {
     "name": "stdout",
     "output_type": "stream",
     "text": [
      "time: 339 ms (started: 2025-07-09 01:01:00 +00:00)\n"
     ]
    }
   ],
   "source": [
    "transformers_to_use = [t for t in dai.recipes.transformers.list() if not t.is_custom or 'Sum' in t.name]"
   ]
  },
  {
   "cell_type": "markdown",
   "metadata": {},
   "source": [
    "## Modeling\n",
    "**Notes:** Dictionaries allow you to easily use common settings in your experiments <br/>\n",
    "**Notes:** Experiments will be `sync` by default meaning they will lock the notebook until they are complete. You can also use `async` versions of the functions. With the `async` functions you can use included code below to monitor and experiment as it runs, see logs in real time, and stop it when it is \"good enough\"."
   ]
  },
  {
   "cell_type": "markdown",
   "metadata": {},
   "source": [
    "### List Existing Experiments"
   ]
  },
  {
   "cell_type": "code",
   "execution_count": 70,
   "metadata": {},
   "outputs": [
    {
     "data": {
      "text/plain": [
       "['cenetimo',\n",
       " 'Fastest Settings delete',\n",
       " 'bobunifo',\n",
       " 'Fastest Settings',\n",
       " 'robaduki',\n",
       " 'gewisoci',\n",
       " 'del',\n",
       " 'fraud_final_1',\n",
       " ' fraud_final',\n",
       " '1.vidawofo_with_time',\n",
       " 'vidawofo']"
      ]
     },
     "execution_count": 70,
     "metadata": {},
     "output_type": "execute_result"
    },
    {
     "name": "stdout",
     "output_type": "stream",
     "text": [
      "time: 119 ms (started: 2025-07-09 16:44:04 +00:00)\n"
     ]
    }
   ],
   "source": [
    "[e.name for e in dai.experiments.list()]"
   ]
  },
  {
   "cell_type": "markdown",
   "metadata": {},
   "source": [
    "### Dictionary for a Use Case\n",
    "We might want to run several experiments with different dial and expert settings. All of these will likely have some things in common, namely details about this specific dataset. We will create a dictionary to use in many experiments."
   ]
  },
  {
   "cell_type": "code",
   "execution_count": 58,
   "metadata": {},
   "outputs": [
    {
     "name": "stdout",
     "output_type": "stream",
     "text": [
      "time: 360 μs (started: 2025-07-09 16:19:15 +00:00)\n"
     ]
    }
   ],
   "source": [
    "telco_settings = {\n",
    "    **telco_churn_split,\n",
    "    'task': 'classification',\n",
    "    'target_column': \"Churn?\",\n",
    "    'scorer': 'F1'\n",
    "}"
   ]
  },
  {
   "cell_type": "markdown",
   "metadata": {},
   "source": [
    "### Get Reccomended Dial Settings"
   ]
  },
  {
   "cell_type": "code",
   "execution_count": 59,
   "metadata": {},
   "outputs": [
    {
     "name": "stdout",
     "output_type": "stream",
     "text": [
      "INFO - \n",
      "ACCURACY [5/10]:\n",
      "- Training data size: *2,666 rows, 20 cols*\n",
      "- Feature evolution: *[Constant, GLM, LightGBM, XGBoostGBM]*, *3-fold CV, 3 reps*\n",
      "- Final pipeline: *Blend of up to 4 [Constant, GLM, LightGBM, XGBoostGBM] models, each averaged across 3-fold CV splits, 3 reps*\n",
      "\n",
      "TIME [3/10]:\n",
      "- Feature evolution: *4 individuals*, up to *30 iterations*\n",
      "- Early stopping: After *5* iterations of no improvement\n",
      "\n",
      "INTERPRETABILITY [7/10]:\n",
      "- Feature pre-pruning strategy: Permutation Importance FS\n",
      "- Monotonicity constraints: enabled\n",
      "- Feature engineering search space: [CVCatNumEncode, CVTargetEncode, CatOriginal, Cat, Frequent, Interactions, NumCatTE, NumToCatTE, NumToCatWoEMonotonic, NumToCatWoE, OneHotEncoding, Original, TextLinModel, TextOriginal, Text, WeightOfEvidence]\n",
      "- Pre-trained PyTorch NLP transformers (without fine-tuning): ['disabled']\n",
      "- Pre-trained PyTorch NLP models (with fine-tuning): ['disabled']\n",
      "\n",
      "[Constant, GLM, LightGBM, XGBoostGBM] models to train:\n",
      "- Model and feature tuning: *144*\n",
      "- Feature evolution: *576*\n",
      "- Final pipeline: *36*\n",
      "\n",
      "Estimated runtime: *40 minutes*\n",
      "Estimated mojo_size: *800.0kB*\n",
      "Estimated max CPU memory usage: *1.0GB*\n",
      "Finish/Abort (if not done) in: *1 hour*/*7 days*\n",
      "time: 1.51 s (started: 2025-07-09 16:19:17 +00:00)\n"
     ]
    }
   ],
   "source": [
    "# Get experiment preview with our settings\n",
    "dai.experiments.preview(\n",
    "    **telco_settings\n",
    ")"
   ]
  },
  {
   "cell_type": "markdown",
   "metadata": {},
   "source": [
    "### Dictionary for Fast Experiments\n",
    "\n",
    "There may be several common types of experiments you want to run, and H2O.ai will be creating common experiment settings in dictionaries for easy use. The one below turns off all extra settings such as building pipelines or checking for leakage. It also uses the fastest experiment settings."
   ]
  },
  {
   "cell_type": "code",
   "execution_count": 63,
   "metadata": {},
   "outputs": [
    {
     "name": "stdout",
     "output_type": "stream",
     "text": [
      "time: 427 μs (started: 2025-07-09 16:41:54 +00:00)\n"
     ]
    }
   ],
   "source": [
    "fast_settings = {\n",
    "    'accuracy': 1,\n",
    "    'time': 1,\n",
    "    'interpretability': 6,\n",
    "    'make_python_scoring_pipeline': 'off',\n",
    "    'make_mojo_scoring_pipeline': 'off',\n",
    "    'benchmark_mojo_latency': 'off',\n",
    "    'make_autoreport': False,\n",
    "    'check_leakage': 'off',\n",
    "    'check_distribution_shift': 'off'\n",
    "}"
   ]
  },
  {
   "cell_type": "markdown",
   "metadata": {},
   "source": [
    "### Search for Settings\n",
    "There are many expert settings available, you can use the serach functionality to look for names or keywords for settings you may want to use."
   ]
  },
  {
   "cell_type": "code",
   "execution_count": 53,
   "metadata": {},
   "outputs": [
    {
     "name": "stdout",
     "output_type": "stream",
     "text": [
      "aux_threshold_data_size_large | default_value: 10000000\n",
      "enable_lightgbm_multiclass_balancing | default_value: auto\n",
      "force_stratified_splits_for_imbalanced_threshold_binary | default_value: 0.01\n",
      "imbalance_sampling_method | default_value: off\n",
      "imbalance_sampling_threshold_min_rows_original | default_value: 100000\n",
      "imbalance_ratio_sampling_threshold | default_value: 5\n",
      "heavy_imbalance_ratio_sampling_threshold | default_value: 25\n",
      "imbalance_ratio_multiclass_threshold | default_value: 5\n",
      "heavy_imbalance_ratio_multiclass_threshold | default_value: 25\n",
      "imbalance_sampling_number_of_bags | default_value: -1\n",
      "imbalance_sampling_max_number_of_bags | default_value: 10\n",
      "imbalance_sampling_max_number_of_bags_feature_evolution | default_value: 3\n",
      "imbalance_sampling_max_multiple_data_size | default_value: 1.0\n",
      "imbalance_sampling_rank_averaging | default_value: auto\n",
      "imbalance_sampling_target_minority_fraction | default_value: -1.0\n",
      "imbalance_ratio_notification_threshold | default_value: 2.0\n",
      "time: 362 ms (started: 2025-07-09 16:15:59 +00:00)\n"
     ]
    }
   ],
   "source": [
    "dai.experiments.search_expert_settings('imbalanced')"
   ]
  },
  {
   "cell_type": "code",
   "execution_count": null,
   "metadata": {},
   "outputs": [],
   "source": [
    "dai.experiments.search_expert_settings('imbalanced', show_description=True )"
   ]
  },
  {
   "cell_type": "markdown",
   "metadata": {},
   "source": [
    "### Preview Using Our Custom Recipe\n",
    "Notice that `Sum` has been added to the `Feature engineering search space`"
   ]
  },
  {
   "cell_type": "code",
   "execution_count": null,
   "metadata": {},
   "outputs": [],
   "source": [
    "# Get experiment preview with our settings\n",
    "dai.experiments.preview(\n",
    "    **telco_settings\n",
    "    ,transformers=transformers_to_use\n",
    ")"
   ]
  },
  {
   "cell_type": "markdown",
   "metadata": {},
   "source": [
    "### Launch an Experiment\n",
    "We will start by running an async experiment which will immeadiatly free our notebook to run additional commands"
   ]
  },
  {
   "cell_type": "code",
   "execution_count": 76,
   "metadata": {},
   "outputs": [
    {
     "name": "stdout",
     "output_type": "stream",
     "text": [
      "INFO - Experiment launched at: https://enginemanager.internal.dedicated.h2o.ai/workspaces/4a110815-00e0-4ace-a9a1-3121aa75d12d/daiEngines/new-dai-engine-690/#/experiment?key=7982c16a-5ce8-11f0-9998-4a4fa12acc26\n",
      "time: 573 ms (started: 2025-07-09 17:16:38 +00:00)\n"
     ]
    }
   ],
   "source": [
    "default_baseline = dai.experiments.create_async(\n",
    "    **telco_settings, \n",
    "    name='Fastest Settings deletev2', **fast_settings,\n",
    "    # name='Default Baseline', accuracy=7, time=2, interpretability=8\n",
    ")"
   ]
  },
  {
   "cell_type": "markdown",
   "metadata": {},
   "source": [
    "### Information on an Experiment"
   ]
  },
  {
   "cell_type": "code",
   "execution_count": 52,
   "metadata": {},
   "outputs": [
    {
     "name": "stdout",
     "output_type": "stream",
     "text": [
      "Name: Fastest Settings delete\n",
      "Datasets: {'train_dataset': <class 'Dataset'> 29d9b76e-5c60-11f0-b283-06106caebdd7 telco_churn_train, 'validation_dataset': None, 'test_dataset': <class 'Dataset'> 29da00a2-5c60-11f0-b283-06106caebdd7 telco_churn_test}\n",
      "Target: Churn?\n",
      "Scorer: F1\n",
      "Task: classification\n",
      "Status: Running 34.38% - Tuned 54/54 Parameter & feature tuning models. Tuning [Constant]\n",
      "Web Page: "
     ]
    },
    {
     "data": {
      "text/html": [
       "<pre><a href='https://enginemanager.internal.dedicated.h2o.ai/workspaces/4a110815-00e0-4ace-a9a1-3121aa75d12d/daiEngines/new-dai-engine-690/#/experiment?key=442b8322-5c60-11f0-b283-06106caebdd7' rel='noopener noreferrer' target='_blank'>https://enginemanager.internal.dedicated.h2o.ai/workspaces/4a110815-00e0-4ace-a9a1-3121aa75d12d/daiEngines/new-dai-engine-690/#/experiment?key=442b8322-5c60-11f0-b283-06106caebdd7</a></pre>"
      ],
      "text/plain": [
       "'https://enginemanager.internal.dedicated.h2o.ai/workspaces/4a110815-00e0-4ace-a9a1-3121aa75d12d/daiEngines/new-dai-engine-690/#/experiment?key=442b8322-5c60-11f0-b283-06106caebdd7'"
      ]
     },
     "execution_count": 52,
     "metadata": {},
     "output_type": "execute_result"
    },
    {
     "name": "stdout",
     "output_type": "stream",
     "text": [
      "time: 75.6 ms (started: 2025-07-09 01:02:25 +00:00)\n"
     ]
    }
   ],
   "source": [
    "print(\"Name:\", default_baseline.name)\n",
    "print(\"Datasets:\", default_baseline.datasets)\n",
    "print(\"Target:\", default_baseline.settings['target_column']) # beta users from before March 15th use target_col\n",
    "print(\"Scorer:\", default_baseline.metrics()['scorer'])\n",
    "print(\"Task:\", default_baseline.settings['task'])\n",
    "print(\"Status:\", default_baseline.status(verbose=2))\n",
    "print(\"Web Page: \", end='')\n",
    "default_baseline.gui()"
   ]
  },
  {
   "cell_type": "markdown",
   "metadata": {},
   "source": [
    "### Monitor and Finish the Model Early\n",
    "Example of how you may want to monitor a running experiment, this will print the currently logs and accuracy metrics. You can also finish a model early if it reaches a certain accuracy metric or run time."
   ]
  },
  {
   "cell_type": "code",
   "execution_count": 53,
   "metadata": {},
   "outputs": [
    {
     "name": "stdout",
     "output_type": "stream",
     "text": [
      "Running 96.00% - Building pipeline visualization... - Validation F1: 0.8618 +/- 0.024\n",
      "\n",
      "\n",
      "Test F1: 0.8249\n",
      "time: 60 s (started: 2025-07-09 01:02:30 +00:00)\n"
     ]
    }
   ],
   "source": [
    "# Monitor the experiment and stop at a nice model\n",
    "import time\n",
    "from IPython.display import clear_output\n",
    "\n",
    "while default_baseline.is_running():\n",
    "    time.sleep(1)\n",
    "    \n",
    "    # grab experiment status\n",
    "    status = default_baseline.status(verbose=2)\n",
    "    \n",
    "    # grab current metrics\n",
    "    metrics = default_baseline.metrics()   \n",
    "    \n",
    "    # pretty print info\n",
    "    clear_output(wait=True)\n",
    "    print(status, \" - Validation \", metrics['scorer'], \": \", sep='', end='')\n",
    "    \n",
    "    if metrics['val_score'] is not None:\n",
    "        print(round(metrics['val_score'], 4), '+/-', round(metrics['val_score_sd'], 4))\n",
    "        if metrics['val_score'] > 0.9:\n",
    "            default_baseline.finish()\n",
    "    else:\n",
    "        print()\n",
    "    \n",
    "    print()\n",
    "    default_baseline.log.tail(3)\n",
    "    time.sleep(1)\n",
    "    \n",
    "print(\"\\nTest \", default_baseline.metrics()['scorer'], \": \", \n",
    "      round(default_baseline.metrics()['test_score'], 4), sep='')"
   ]
  },
  {
   "cell_type": "markdown",
   "metadata": {},
   "source": [
    "### View the Experiment Summary"
   ]
  },
  {
   "cell_type": "code",
   "execution_count": 54,
   "metadata": {},
   "outputs": [
    {
     "name": "stdout",
     "output_type": "stream",
     "text": [
      "Status: Complete\n",
      "Experiment: Fastest Settings delete (442b8322-5c60-11f0-b283-06106caebdd7)\n",
      "  Version: 1.11.1.1, 2025-07-09 01:03, Py client\n",
      "  Settings: 1/1/6, seed=336290853, GPUs disabled\n",
      "  Train data: telco_churn_train (2666, 21)\n",
      "  Validation data: N/A\n",
      "  Test data: [Test] (667, 20)\n",
      "  Target column: Churn? (binary, 14.479% target class)\n",
      "System specs: Linux, 62 GB, 16 CPU cores, 0/0 GPU\n",
      "  Max memory usage: 1.25 GB, 0 GB GPU, 0 GB MOJO\n",
      "Recipe: AutoDL (7 iterations, 2 individuals)\n",
      "  Validation scheme: stratified, 9 internal holdouts (3-fold CV)\n",
      "  Feature engineering: 71 features scored (18 selected)\n",
      "Timing:\n",
      "  Data preparation: 9.96 secs\n",
      "  Shift/Leakage detection: 0.01 secs\n",
      "  Model and feature tuning: 37.56 secs (64 models trained)\n",
      "  Feature evolution: 1.16 secs (0 of 27 model trained)\n",
      "  Final pipeline training: 39.90 secs (18 models trained)\n",
      "  Python / MOJO scorer building: 0.00 secs / 21.29 secs\n",
      "Validation score: F1 = 0.2529489 (constant preds of -1.776)\n",
      "Validation score: F1 = 0.795606 +/- 0.0211811 (baseline)\n",
      "Validation score: F1 = 0.8618208 +/- 0.02397742 (final pipeline)\n",
      "Test score:       F1 = 0.8248588 +/- 0.03234476 (final pipeline)\n",
      "time: 33.2 ms (started: 2025-07-09 01:03:44 +00:00)\n"
     ]
    }
   ],
   "source": [
    "print(default_baseline.summary)"
   ]
  },
  {
   "cell_type": "markdown",
   "metadata": {},
   "source": [
    "### Interact with Model Artifacts\n",
    "* See which are available\n",
    "* Create the AutoReport\n",
    "* Download the AutoReport\n",
    "* Open the AutoReport"
   ]
  },
  {
   "cell_type": "code",
   "execution_count": 56,
   "metadata": {},
   "outputs": [
    {
     "name": "stdout",
     "output_type": "stream",
     "text": [
      "Available artifacts: ['logs', 'summary', 'test_predictions', 'train_predictions']\n",
      "time: 108 ms (started: 2025-07-09 01:18:05 +00:00)\n"
     ]
    }
   ],
   "source": [
    "print(\"Available artifacts:\", default_baseline.artifacts.list())"
   ]
  },
  {
   "cell_type": "code",
   "execution_count": 57,
   "metadata": {},
   "outputs": [
    {
     "name": "stdout",
     "output_type": "stream",
     "text": [
      "INFO - Generating autodoc...\n",
      "time: 28.7 s (started: 2025-07-09 01:18:17 +00:00)\n"
     ]
    }
   ],
   "source": [
    "default_baseline.artifacts.create('autoreport')"
   ]
  },
  {
   "cell_type": "code",
   "execution_count": 58,
   "metadata": {},
   "outputs": [
    {
     "name": "stdout",
     "output_type": "stream",
     "text": [
      "INFO - Downloaded 'report.docx'\n",
      "time: 112 ms (started: 2025-07-09 01:18:46 +00:00)\n"
     ]
    }
   ],
   "source": [
    "artifacts = default_baseline.artifacts.download(['autoreport'], download_location, overwrite=True)"
   ]
  },
  {
   "cell_type": "markdown",
   "metadata": {},
   "source": [
    "### View Final Model Performance"
   ]
  },
  {
   "cell_type": "code",
   "execution_count": 93,
   "metadata": {},
   "outputs": [
    {
     "data": {
      "text/plain": [
       "{'scorer': 'F1',\n",
       " 'val_score': 0.8573621720104065,\n",
       " 'val_score_sd': 0.022742278415576134,\n",
       " 'val_roc_auc': 0.9213124424092644,\n",
       " 'val_pr_auc': 0.8778107875339123,\n",
       " 'test_score': 0.8156424581005587,\n",
       " 'test_score_sd': 0.030781612857413883,\n",
       " 'test_roc_auc': 0.8954964731416168,\n",
       " 'test_pr_auc': 0.8353424048913236}"
      ]
     },
     "execution_count": 93,
     "metadata": {},
     "output_type": "execute_result"
    },
    {
     "name": "stdout",
     "output_type": "stream",
     "text": [
      "time: 29 ms (started: 2025-07-08 19:14:42 +00:00)\n"
     ]
    }
   ],
   "source": [
    "default_baseline.metrics()"
   ]
  },
  {
   "cell_type": "code",
   "execution_count": 62,
   "metadata": {},
   "outputs": [
    {
     "name": "stdout",
     "output_type": "stream",
     "text": [
      "Validation F1 :\t 0.862\n",
      "Test F1 :\t 0.825\n",
      "time: 146 ms (started: 2025-07-09 01:28:00 +00:00)\n"
     ]
    }
   ],
   "source": [
    "print(\"Validation\", default_baseline.metrics()[\"scorer\"], \":\\t\",round(default_baseline.metrics()['val_score'], 3))\n",
    "print(\"Test\", default_baseline.metrics()[\"scorer\"], \":\\t\",round(default_baseline.metrics()['test_score'], 3))"
   ]
  },
  {
   "cell_type": "markdown",
   "metadata": {},
   "source": [
    "### Download the Test Set Predictions"
   ]
  },
  {
   "cell_type": "code",
   "execution_count": 95,
   "metadata": {},
   "outputs": [
    {
     "name": "stdout",
     "output_type": "stream",
     "text": [
      "INFO - Downloaded 'test_preds.csv'\n"
     ]
    },
    {
     "data": {
      "text/html": [
       "<div>\n",
       "<style scoped>\n",
       "    .dataframe tbody tr th:only-of-type {\n",
       "        vertical-align: middle;\n",
       "    }\n",
       "\n",
       "    .dataframe tbody tr th {\n",
       "        vertical-align: top;\n",
       "    }\n",
       "\n",
       "    .dataframe thead th {\n",
       "        text-align: right;\n",
       "    }\n",
       "</style>\n",
       "<table border=\"1\" class=\"dataframe\">\n",
       "  <thead>\n",
       "    <tr style=\"text-align: right;\">\n",
       "      <th></th>\n",
       "      <th>Churn?.False.</th>\n",
       "      <th>Churn?.True.</th>\n",
       "      <th>Churn?.predicted(th=0.40475)</th>\n",
       "    </tr>\n",
       "  </thead>\n",
       "  <tbody>\n",
       "    <tr>\n",
       "      <th>0</th>\n",
       "      <td>0.970963</td>\n",
       "      <td>0.029037</td>\n",
       "      <td>False.</td>\n",
       "    </tr>\n",
       "    <tr>\n",
       "      <th>1</th>\n",
       "      <td>0.985958</td>\n",
       "      <td>0.014042</td>\n",
       "      <td>False.</td>\n",
       "    </tr>\n",
       "    <tr>\n",
       "      <th>2</th>\n",
       "      <td>0.972674</td>\n",
       "      <td>0.027326</td>\n",
       "      <td>False.</td>\n",
       "    </tr>\n",
       "    <tr>\n",
       "      <th>3</th>\n",
       "      <td>0.973571</td>\n",
       "      <td>0.026429</td>\n",
       "      <td>False.</td>\n",
       "    </tr>\n",
       "    <tr>\n",
       "      <th>4</th>\n",
       "      <td>0.940746</td>\n",
       "      <td>0.059254</td>\n",
       "      <td>False.</td>\n",
       "    </tr>\n",
       "  </tbody>\n",
       "</table>\n",
       "</div>"
      ],
      "text/plain": [
       "   Churn?.False.  Churn?.True. Churn?.predicted(th=0.40475)\n",
       "0       0.970963      0.029037                       False.\n",
       "1       0.985958      0.014042                       False.\n",
       "2       0.972674      0.027326                       False.\n",
       "3       0.973571      0.026429                       False.\n",
       "4       0.940746      0.059254                       False."
      ]
     },
     "execution_count": 95,
     "metadata": {},
     "output_type": "execute_result"
    },
    {
     "name": "stdout",
     "output_type": "stream",
     "text": [
      "time: 76.8 ms (started: 2025-07-08 19:14:42 +00:00)\n"
     ]
    }
   ],
   "source": [
    "# Download predictions from test dataset\n",
    "artifacts = default_baseline.artifacts.download(['test_predictions'], download_location, overwrite=True)\n",
    "local_predictions = pd.read_csv(artifacts['test_predictions'])\n",
    "\n",
    "local_predictions.head()"
   ]
  },
  {
   "cell_type": "markdown",
   "metadata": {},
   "source": [
    "### Plot ROC curve\n",
    "* Download the predictions with the Actual column\n",
    "* Use sklearn to calculate ROC curve\n",
    "* Plot AUC & ROC Curve by a categorical column"
   ]
  },
  {
   "cell_type": "code",
   "execution_count": 112,
   "metadata": {},
   "outputs": [
    {
     "name": "stdout",
     "output_type": "stream",
     "text": [
      "Complete\n",
      "INFO - Downloaded '7982c16a-5ce8-11f0-9998-4a4fa12acc26_preds_630a3735.csv'\n"
     ]
    },
    {
     "data": {
      "text/html": [
       "<div>\n",
       "<style scoped>\n",
       "    .dataframe tbody tr th:only-of-type {\n",
       "        vertical-align: middle;\n",
       "    }\n",
       "\n",
       "    .dataframe tbody tr th {\n",
       "        vertical-align: top;\n",
       "    }\n",
       "\n",
       "    .dataframe thead th {\n",
       "        text-align: right;\n",
       "    }\n",
       "</style>\n",
       "<table border=\"1\" class=\"dataframe\">\n",
       "  <thead>\n",
       "    <tr style=\"text-align: right;\">\n",
       "      <th></th>\n",
       "      <th>Area Code</th>\n",
       "      <th>Churn?</th>\n",
       "      <th>Churn?.False.</th>\n",
       "      <th>Churn?.True.</th>\n",
       "    </tr>\n",
       "  </thead>\n",
       "  <tbody>\n",
       "    <tr>\n",
       "      <th>0</th>\n",
       "      <td>415</td>\n",
       "      <td>False.</td>\n",
       "      <td>0.973090</td>\n",
       "      <td>0.026910</td>\n",
       "    </tr>\n",
       "    <tr>\n",
       "      <th>1</th>\n",
       "      <td>408</td>\n",
       "      <td>False.</td>\n",
       "      <td>0.985337</td>\n",
       "      <td>0.014663</td>\n",
       "    </tr>\n",
       "    <tr>\n",
       "      <th>2</th>\n",
       "      <td>415</td>\n",
       "      <td>False.</td>\n",
       "      <td>0.968537</td>\n",
       "      <td>0.031463</td>\n",
       "    </tr>\n",
       "    <tr>\n",
       "      <th>3</th>\n",
       "      <td>415</td>\n",
       "      <td>False.</td>\n",
       "      <td>0.965094</td>\n",
       "      <td>0.034906</td>\n",
       "    </tr>\n",
       "    <tr>\n",
       "      <th>4</th>\n",
       "      <td>408</td>\n",
       "      <td>False.</td>\n",
       "      <td>0.947353</td>\n",
       "      <td>0.052647</td>\n",
       "    </tr>\n",
       "  </tbody>\n",
       "</table>\n",
       "</div>"
      ],
      "text/plain": [
       "   Area Code  Churn?  Churn?.False.  Churn?.True.\n",
       "0        415  False.       0.973090      0.026910\n",
       "1        408  False.       0.985337      0.014663\n",
       "2        415  False.       0.968537      0.031463\n",
       "3        415  False.       0.965094      0.034906\n",
       "4        408  False.       0.947353      0.052647"
      ]
     },
     "execution_count": 112,
     "metadata": {},
     "output_type": "execute_result"
    },
    {
     "name": "stdout",
     "output_type": "stream",
     "text": [
      "time: 3.25 s (started: 2025-07-09 17:44:49 +00:00)\n"
     ]
    }
   ],
   "source": [
    "preds = default_baseline.predict(telco_churn_split['test_dataset'], \n",
    "                         include_columns=[\"Churn?\", \"Area Code\"])\n",
    "\n",
    "# Download the test predictions\n",
    "test_predictions = pd.read_csv(preds.download(download_location))\n",
    "\n",
    "# View the top 5 rows \n",
    "test_predictions.head()"
   ]
  },
  {
   "cell_type": "code",
   "execution_count": 122,
   "metadata": {},
   "outputs": [
    {
     "data": {
      "image/png": "[encoded data removed]",
      "text/plain": [
       "<Figure size 640x480 with 1 Axes>"
      ]
     },
     "metadata": {},
     "output_type": "display_data"
    },
    {
     "name": "stdout",
     "output_type": "stream",
     "text": [
      "time: 1.79 s (started: 2025-07-09 18:14:48 +00:00)\n"
     ]
    }
   ],
   "source": [
    "# remove plots - direct to gui \n",
    "\n",
    "from sklearn.metrics import roc_curve\n",
    "from sklearn.metrics import auc\n",
    "from matplotlib import pyplot\n",
    "%matplotlib inline\n",
    "\n",
    "test_predictions[\"Actual\"] = np.where(test_predictions[\"Churn?\"] == \"True.\", 1, 0)\n",
    "\n",
    "# calculate roc curves\n",
    "ns_fpr, ns_tpr, _ = roc_curve(test_predictions[\"Actual\"], [0 for _ in range(len(test_predictions[\"Churn?\"]))])\n",
    "lr_fpr, lr_tpr, _ = roc_curve(test_predictions[\"Actual\"], test_predictions[\"Churn?.True.\"])\n",
    "\n",
    "# plot the roc curve for the model\n",
    "pyplot.plot(ns_fpr, ns_tpr, linestyle='--', label='No Skill')\n",
    "pyplot.plot(lr_fpr, lr_tpr, marker='.', label='Logistic')\n",
    "\n",
    "# axis labels\n",
    "pyplot.xlabel('False Positive Rate')\n",
    "pyplot.ylabel('True Positive Rate')\n",
    "# show the legend\n",
    "pyplot.legend()\n",
    "# show the plot\n",
    "pyplot.show()"
   ]
  },
  {
   "cell_type": "code",
   "execution_count": 123,
   "metadata": {},
   "outputs": [
    {
     "data": {
      "image/png": "[encoded data removed]",
      "text/plain": [
       "<Figure size 640x480 with 1 Axes>"
      ]
     },
     "metadata": {},
     "output_type": "display_data"
    },
    {
     "data": {
      "image/png": "[encoded data removed]",
      "text/plain": [
       "<Figure size 640x480 with 1 Axes>"
      ]
     },
     "metadata": {},
     "output_type": "display_data"
    },
    {
     "data": {
      "image/png": "[encoded data removed]",
      "text/plain": [
       "<Figure size 640x480 with 1 Axes>"
      ]
     },
     "metadata": {},
     "output_type": "display_data"
    },
    {
     "name": "stdout",
     "output_type": "stream",
     "text": [
      "time: 604 ms (started: 2025-07-09 18:14:50 +00:00)\n"
     ]
    }
   ],
   "source": [
    "for ac in test_predictions[\"Area Code\"].unique():\n",
    "    grp = test_predictions[test_predictions[\"Area Code\"] == ac]\n",
    "\n",
    "    # calculate roc curves\n",
    "    ns_fpr, ns_tpr, _ = roc_curve(grp[\"Actual\"], [0 for _ in range(len(grp[\"Churn?\"]))])\n",
    "    lr_fpr, lr_tpr, _ = roc_curve(grp[\"Actual\"], grp[\"Churn?.True.\"])\n",
    "\n",
    "    # plot the roc curve for the model\n",
    "    pyplot.plot(ns_fpr, ns_tpr, linestyle='--', label='No Skill')\n",
    "    pyplot.plot(lr_fpr, lr_tpr, marker='.', label='Logistic')\n",
    "\n",
    "    pyplot.title('AUC of Area Code ' + str(ac) + ': ' + str(round(auc(lr_fpr, lr_tpr), 3)))\n",
    "    # axis labels\n",
    "    pyplot.xlabel('False Positive Rate')\n",
    "    pyplot.ylabel('True Positive Rate')\n",
    "    # show the legend\n",
    "    pyplot.legend()\n",
    "    # show the plot\n",
    "    pyplot.show()"
   ]
  },
  {
   "cell_type": "markdown",
   "metadata": {},
   "source": [
    "### Variable Importance"
   ]
  },
  {
   "cell_type": "code",
   "execution_count": 71,
   "metadata": {},
   "outputs": [
    {
     "data": {
      "text/html": [
       "<table>\n",
       "<thead>\n",
       "<tr><th style=\"text-align: right;\">     gain</th><th>interaction         </th><th>description                                                                                     </th></tr>\n",
       "</thead>\n",
       "<tbody>\n",
       "<tr><td style=\"text-align: right;\">1        </td><td>4_Day Charge        </td><td>Day Charge (Original)                                                                           </td></tr>\n",
       "<tr><td style=\"text-align: right;\">0.565283 </td><td>2_CustServ Calls    </td><td>CustServ Calls (Original)                                                                       </td></tr>\n",
       "<tr><td style=\"text-align: right;\">0.529472 </td><td>7_Eve Charge        </td><td>Eve Charge (Original)                                                                           </td></tr>\n",
       "<tr><td style=\"text-align: right;\">0.305625 </td><td>10_Intl Charge      </td><td>Intl Charge (Original)                                                                          </td></tr>\n",
       "<tr><td style=\"text-align: right;\">0.28329  </td><td>16_CVTE:Int&#x27;l Plan.0</td><td>Out-of-fold mean of the response grouped by: [&quot;Int&#x27;l Plan&quot;] using 5 folds [internal:(10, 3, 10)]</td></tr>\n",
       "<tr><td style=\"text-align: right;\">0.258647 </td><td>15_VMail Message    </td><td>VMail Message (Original)                                                                        </td></tr>\n",
       "<tr><td style=\"text-align: right;\">0.241231 </td><td>9_Intl Calls        </td><td>Intl Calls (Original)                                                                           </td></tr>\n",
       "<tr><td style=\"text-align: right;\">0.225466 </td><td>13_Night Charge     </td><td>Night Charge (Original)                                                                         </td></tr>\n",
       "<tr><td style=\"text-align: right;\">0.221578 </td><td>5_Day Mins          </td><td>Day Mins (Original)                                                                             </td></tr>\n",
       "<tr><td style=\"text-align: right;\">0.186301 </td><td>12_Night Calls      </td><td>Night Calls (Original)                                                                          </td></tr>\n",
       "<tr><td style=\"text-align: right;\">0.165301 </td><td>3_Day Calls         </td><td>Day Calls (Original)                                                                            </td></tr>\n",
       "<tr><td style=\"text-align: right;\">0.163541 </td><td>0_Account Length    </td><td>Account Length (Original)                                                                       </td></tr>\n",
       "<tr><td style=\"text-align: right;\">0.146677 </td><td>6_Eve Calls         </td><td>Eve Calls (Original)                                                                            </td></tr>\n",
       "<tr><td style=\"text-align: right;\">0.137863 </td><td>8_Eve Mins          </td><td>Eve Mins (Original)                                                                             </td></tr>\n",
       "<tr><td style=\"text-align: right;\">0.118798 </td><td>11_Intl Mins        </td><td>Intl Mins (Original)                                                                            </td></tr>\n",
       "<tr><td style=\"text-align: right;\">0.076615 </td><td>18_CVTE:VMail Plan.0</td><td>Out-of-fold mean of the response grouped by: [&#x27;VMail Plan&#x27;] using 5 folds [internal:(10, 3, 10)]</td></tr>\n",
       "<tr><td style=\"text-align: right;\">0.056321 </td><td>14_Night Mins       </td><td>Night Mins (Original)                                                                           </td></tr>\n",
       "<tr><td style=\"text-align: right;\">0.0199122</td><td>1_Area Code         </td><td>Area Code (Original)                                                                            </td></tr>\n",
       "</tbody>\n",
       "</table>"
      ],
      "text/plain": [
       "      gain | interaction          | description\n",
       "-----------+----------------------+--------------------------------------------------------------------------------------------------\n",
       " 1         | 4_Day Charge         | Day Charge (Original)\n",
       " 0.565283  | 2_CustServ Calls     | CustServ Calls (Original)\n",
       " 0.529472  | 7_Eve Charge         | Eve Charge (Original)\n",
       " 0.305625  | 10_Intl Charge       | Intl Charge (Original)\n",
       " 0.28329   | 16_CVTE:Int'l Plan.0 | Out-of-fold mean of the response grouped by: [\"Int'l Plan\"] using 5 folds [internal:(10, 3, 10)]\n",
       " 0.258647  | 15_VMail Message     | VMail Message (Original)\n",
       " 0.241231  | 9_Intl Calls         | Intl Calls (Original)\n",
       " 0.225466  | 13_Night Charge      | Night Charge (Original)\n",
       " 0.221578  | 5_Day Mins           | Day Mins (Original)\n",
       " 0.186301  | 12_Night Calls       | Night Calls (Original)\n",
       " 0.165301  | 3_Day Calls          | Day Calls (Original)\n",
       " 0.163541  | 0_Account Length     | Account Length (Original)\n",
       " 0.146677  | 6_Eve Calls          | Eve Calls (Original)\n",
       " 0.137863  | 8_Eve Mins           | Eve Mins (Original)\n",
       " 0.118798  | 11_Intl Mins         | Intl Mins (Original)\n",
       " 0.076615  | 18_CVTE:VMail Plan.0 | Out-of-fold mean of the response grouped by: ['VMail Plan'] using 5 folds [internal:(10, 3, 10)]\n",
       " 0.056321  | 14_Night Mins        | Night Mins (Original)\n",
       " 0.0199122 | 1_Area Code          | Area Code (Original)"
      ]
     },
     "execution_count": 71,
     "metadata": {},
     "output_type": "execute_result"
    },
    {
     "name": "stdout",
     "output_type": "stream",
     "text": [
      "time: 45.4 ms (started: 2025-07-09 02:53:29 +00:00)\n"
     ]
    }
   ],
   "source": [
    "default_baseline.variable_importance()"
   ]
  },
  {
   "cell_type": "markdown",
   "metadata": {},
   "source": [
    "### Retrain a Model for Production\n",
    "* Retrain the final model with the full dataset\n",
    "* Print the model metrics\n",
    "* Create and Download the MOJO"
   ]
  },
  {
   "cell_type": "code",
   "execution_count": 116,
   "metadata": {},
   "outputs": [
    {
     "name": "stdout",
     "output_type": "stream",
     "text": [
      "enable_preview_mojo_size_estimate | default_value: True\n",
      "recipe | default_value: auto\n",
      "make_mojo_scoring_pipeline | default_value: auto\n",
      "make_triton_scoring_pipeline | default_value: off\n",
      "triton_mini_acceptance_test_local | default_value: True\n",
      "triton_mini_acceptance_test_remote | default_value: True\n",
      "inject_mojo_for_predictions | default_value: True\n",
      "mojo_for_predictions | default_value: auto\n",
      "mojo_for_predictions_max_rows | default_value: 10000\n",
      "mojo_for_predictions_batch_size | default_value: 100\n",
      "mojo_acceptance_test_rtol | default_value: 0.0\n",
      "mojo_acceptance_test_atol | default_value: 0.0\n",
      "reduce_mojo_size | default_value: False\n",
      "make_pipeline_visualization | default_value: auto\n",
      "make_python_pipeline_visualization | default_value: auto\n",
      "benchmark_mojo_latency | default_value: auto\n",
      "benchmark_mojo_latency_auto_size_limit | default_value: 2048\n",
      "mojo_building_timeout | default_value: 1800.0\n",
      "mojo_vis_building_timeout | default_value: 600.0\n",
      "mojo_building_parallelism | default_value: -1\n",
      "mojo_building_parallelism_base_model_size_limit | default_value: 100000000\n",
      "pytorch_nlp_pretrained_models | default_value: ['bert-base-uncased', 'distilbert-base-uncased', 'bert-base-multilingual-cased']\n",
      "included_pretransformers | default_value: []\n",
      "threshold_scorer | default_value: AUTO\n",
      "enable_rulefit | default_value: auto\n",
      "enable_lightgbm_cat_support | default_value: False\n",
      "enable_lightgbm_linear_tree | default_value: False\n",
      "cross_validate_meta_learner | default_value: False\n",
      "imbalance_sampling_rank_averaging | default_value: auto\n",
      "pred_labels | default_value: True\n",
      "enable_early_stopping_threshold | default_value: -2.0\n",
      "mli_enable_mojo_scorer | default_value: True\n",
      "triton_server_core_chunk_size_local | default_value: 4\n",
      "mojo_acceptance_test_mojo_types | default_value: ['C++', 'Java']\n",
      "make_mojo_scoring_pipeline_for_features_only | default_value: False\n",
      "mojo_replace_target_encoding_with_grouped_input_cols | default_value: False\n",
      "time: 373 ms (started: 2025-07-09 17:49:57 +00:00)\n"
     ]
    }
   ],
   "source": [
    "dai.experiments.search_expert_settings(\"mojo\")"
   ]
  },
  {
   "cell_type": "code",
   "execution_count": 79,
   "metadata": {},
   "outputs": [
    {
     "name": "stdout",
     "output_type": "stream",
     "text": [
      "INFO - Experiment launched at: https://enginemanager.internal.dedicated.h2o.ai/workspaces/4a110815-00e0-4ace-a9a1-3121aa75d12d/daiEngines/new-dai-engine-690/#/experiment?key=874eec2e-5ce8-11f0-9998-4a4fa12acc26\n",
      "Complete 100.00% - Status: Complete                                                          \n",
      "time: 1min 46s (started: 2025-07-09 17:17:01 +00:00)\n"
     ]
    }
   ],
   "source": [
    "# Retrain on all data for productionalizing\n",
    "full_model = default_baseline.retrain(final_pipeline_only=True, \n",
    "                                      train_dataset=telco_churn,\n",
    "                                      test_dataset=\"\",\n",
    "                                      make_mojo_scoring_pipeline=\"on\")\n",
    "\n",
    "full_model = dai.experiments.get(full_model.key)"
   ]
  },
  {
   "cell_type": "code",
   "execution_count": 80,
   "metadata": {},
   "outputs": [
    {
     "data": {
      "text/plain": [
       "{'scorer': 'F1',\n",
       " 'val_score': 0.8597088398838189,\n",
       " 'val_score_sd': 0.020764454579632732,\n",
       " 'val_roc_auc': 0.9228135167150386,\n",
       " 'val_pr_auc': 0.8790779860845284,\n",
       " 'test_score': None,\n",
       " 'test_score_sd': None,\n",
       " 'test_roc_auc': None,\n",
       " 'test_pr_auc': None}"
      ]
     },
     "execution_count": 80,
     "metadata": {},
     "output_type": "execute_result"
    },
    {
     "name": "stdout",
     "output_type": "stream",
     "text": [
      "time: 25.7 ms (started: 2025-07-09 03:16:40 +00:00)\n"
     ]
    }
   ],
   "source": [
    "full_model.metrics()"
   ]
  },
  {
   "cell_type": "code",
   "execution_count": 118,
   "metadata": {},
   "outputs": [
    {
     "data": {
      "text/plain": [
       "['logs', 'mojo_pipeline', 'summary', 'train_predictions']"
      ]
     },
     "execution_count": 118,
     "metadata": {},
     "output_type": "execute_result"
    },
    {
     "name": "stdout",
     "output_type": "stream",
     "text": [
      "time: 232 ms (started: 2025-07-09 17:51:50 +00:00)\n"
     ]
    }
   ],
   "source": [
    "full_model.artifacts.list()"
   ]
  },
  {
   "cell_type": "code",
   "execution_count": 84,
   "metadata": {},
   "outputs": [
    {
     "name": "stdout",
     "output_type": "stream",
     "text": [
      "INFO - Downloaded 'mojo.zip'\n",
      "time: 6.25 s (started: 2025-07-09 03:26:08 +00:00)\n"
     ]
    }
   ],
   "source": [
    "artifacts = full_model.artifacts.download(\"mojo_pipeline\", download_location, overwrite=True)"
   ]
  },
  {
   "cell_type": "markdown",
   "metadata": {},
   "source": [
    "### View the Pipeline"
   ]
  },
  {
   "cell_type": "code",
   "execution_count": null,
   "metadata": {},
   "outputs": [],
   "source": [
    "# this is for a mac with unzip installed\n",
    "!unzip {artifacts[\"mojo_pipeline\"]} -d {download_location}"
   ]
  },
  {
   "cell_type": "code",
   "execution_count": null,
   "metadata": {},
   "outputs": [],
   "source": [
    "from IPython.display import Image\n",
    "Image(filename=download_location + 'mojo-pipeline/pipeline.png') "
   ]
  },
  {
   "cell_type": "markdown",
   "metadata": {},
   "source": [
    "## Launching Machine Learning Interpretability - remove \n",
    "MLI is not currently available in the Beta Client but we can use the backend Python Client for this which comes with the beta client "
   ]
  },
  {
   "cell_type": "code",
   "execution_count": 80,
   "metadata": {},
   "outputs": [
    {
     "name": "stdout",
     "output_type": "stream",
     "text": [
      "time: 18.9 s (started: 2025-07-09 17:18:47 +00:00)\n"
     ]
    }
   ],
   "source": [
    "mli = dai._backend.run_interpretation_sync(dai_model_key=full_model.key, \n",
    "                                           dataset_key=telco_churn.key, \n",
    "                                           nfolds=3,\n",
    "                                           target_col=\"Churn?\")"
   ]
  },
  {
   "cell_type": "code",
   "execution_count": 84,
   "metadata": {},
   "outputs": [
    {
     "data": {
      "text/plain": [
       "'LabelEncoder'"
      ]
     },
     "execution_count": 84,
     "metadata": {},
     "output_type": "execute_result"
    },
    {
     "name": "stdout",
     "output_type": "stream",
     "text": [
      "time: 1.42 ms (started: 2025-07-09 17:23:30 +00:00)\n"
     ]
    }
   ],
   "source": [
    "mli.dai_target_transformation"
   ]
  },
  {
   "cell_type": "code",
   "execution_count": 90,
   "metadata": {},
   "outputs": [
    {
     "data": {
      "text/plain": [
       "['__class__',\n",
       " '__delattr__',\n",
       " '__dict__',\n",
       " '__dir__',\n",
       " '__doc__',\n",
       " '__eq__',\n",
       " '__firstlineno__',\n",
       " '__format__',\n",
       " '__ge__',\n",
       " '__getattribute__',\n",
       " '__getstate__',\n",
       " '__gt__',\n",
       " '__hash__',\n",
       " '__init__',\n",
       " '__init_subclass__',\n",
       " '__le__',\n",
       " '__lt__',\n",
       " '__module__',\n",
       " '__ne__',\n",
       " '__new__',\n",
       " '__reduce__',\n",
       " '__reduce_ex__',\n",
       " '__repr__',\n",
       " '__setattr__',\n",
       " '__sizeof__',\n",
       " '__static_attributes__',\n",
       " '__str__',\n",
       " '__subclasshook__',\n",
       " '__weakref__',\n",
       " 'binned_list',\n",
       " 'clone',\n",
       " 'dai_target_transformation',\n",
       " 'description',\n",
       " 'dump',\n",
       " 'key',\n",
       " 'labels',\n",
       " 'lime_mojo_path',\n",
       " 'lime_rc_csv_path',\n",
       " 'lime_unformatted_rc_csv_path',\n",
       " 'load',\n",
       " 'log_file_path',\n",
       " 'parameters',\n",
       " 'prediction_label',\n",
       " 'scoring_package_path',\n",
       " 'shapley_orig_rc_csv_path',\n",
       " 'shapley_rc_csv_path',\n",
       " 'subtask_keys',\n",
       " 'tmp_dir',\n",
       " 'training_duration']"
      ]
     },
     "execution_count": 90,
     "metadata": {},
     "output_type": "execute_result"
    },
    {
     "name": "stdout",
     "output_type": "stream",
     "text": [
      "time: 2.25 ms (started: 2025-07-09 03:59:07 +00:00)\n"
     ]
    }
   ],
   "source": [
    "# "
   ]
  },
  {
   "cell_type": "code",
   "execution_count": 120,
   "metadata": {},
   "outputs": [
    {
     "data": {
      "text/plain": [
       "''"
      ]
     },
     "execution_count": 120,
     "metadata": {},
     "output_type": "execute_result"
    },
    {
     "name": "stdout",
     "output_type": "stream",
     "text": [
      "time: 1.83 ms (started: 2025-07-09 18:09:23 +00:00)\n"
     ]
    }
   ],
   "source": [
    "mli."
   ]
  },
  {
   "cell_type": "code",
   "execution_count": 121,
   "metadata": {},
   "outputs": [
    {
     "data": {
      "text/html": [
       "<pre><a href='https://enginemanager.internal.dedicated.h2o.ai/workspaces/4a110815-00e0-4ace-a9a1-3121aa75d12d/daiEngines/new-dai-engine-690/#/experiment?key=874eec2e-5ce8-11f0-9998-4a4fa12acc26' rel='noopener noreferrer' target='_blank'>https://enginemanager.internal.dedicated.h2o.ai/workspaces/4a110815-00e0-4ace-a9a1-3121aa75d12d/daiEngines/new-dai-engine-690/#/experiment?key=874eec2e-5ce8-11f0-9998-4a4fa12acc26</a></pre>"
      ],
      "text/plain": [
       "'https://enginemanager.internal.dedicated.h2o.ai/workspaces/4a110815-00e0-4ace-a9a1-3121aa75d12d/daiEngines/new-dai-engine-690/#/experiment?key=874eec2e-5ce8-11f0-9998-4a4fa12acc26'"
      ]
     },
     "execution_count": 121,
     "metadata": {},
     "output_type": "execute_result"
    },
    {
     "name": "stdout",
     "output_type": "stream",
     "text": [
      "time: 1.89 ms (started: 2025-07-09 18:11:03 +00:00)\n"
     ]
    }
   ],
   "source": [
    "# go to experiment, click \"interpret this model\" to go to completed mli\n",
    "full_model.gui()"
   ]
  },
  {
   "cell_type": "code",
   "execution_count": 77,
   "metadata": {},
   "outputs": [
    {
     "ename": "NameError",
     "evalue": "name 'mli' is not defined",
     "output_type": "error",
     "traceback": [
      "\u001b[31m---------------------------------------------------------------------------\u001b[39m",
      "\u001b[31mNameError\u001b[39m                                 Traceback (most recent call last)",
      "\u001b[36mCell\u001b[39m\u001b[36m \u001b[39m\u001b[32mIn[77]\u001b[39m\u001b[32m, line 1\u001b[39m\n\u001b[32m----> \u001b[39m\u001b[32m1\u001b[39m \u001b[43mmli\u001b[49m\n",
      "\u001b[31mNameError\u001b[39m: name 'mli' is not defined"
     ]
    },
    {
     "name": "stdout",
     "output_type": "stream",
     "text": [
      "time: 20.5 ms (started: 2025-07-09 17:16:53 +00:00)\n"
     ]
    }
   ],
   "source": [
    "mli"
   ]
  },
  {
   "cell_type": "code",
   "execution_count": null,
   "metadata": {},
   "outputs": [],
   "source": [
    "import matplotlib.pyplot as plt\n",
    "\n",
    "# Extract ROC data points from the Vega spec\n",
    "roc_points = metric_plots.roc_curve['layer'][0]['data']['values']\n",
    "fpr = [point['False Positive Rate'] for point in roc_points]\n",
    "tpr = [point['True Positive Rate'] for point in roc_points]\n",
    "\n",
    "# Plot ROC curve\n",
    "plt.figure(figsize=(6,6))\n",
    "plt.plot(fpr, tpr, label='ROC Curve')\n",
    "plt.plot([0, 1], [0, 1], 'k--', label='Random (AUC = 0.5)')\n",
    "plt.xlabel('False Positive Rate')\n",
    "plt.ylabel('True Positive Rate')\n",
    "plt.title('ROC Curve')\n",
    "plt.legend()\n",
    "plt.grid(True)\n",
    "plt.tight_layout()\n",
    "plt.show()\n"
   ]
  },
  {
   "cell_type": "code",
   "execution_count": null,
   "metadata": {},
   "outputs": [],
   "source": []
  }
 ],
 "metadata": {
  "kernelspec": {
   "display_name": "Python",
   "language": "python",
   "name": "h2o-kernel-py"
  },
  "language_info": {
   "codemirror_mode": {
    "name": "ipython",
    "version": 3
   },
   "file_extension": ".py",
   "mimetype": "text/x-python",
   "name": "python",
   "nbconvert_exporter": "python",
   "pygments_lexer": "ipython3",
   "version": "3.13.3"
  },
  "toc": {
   "base_numbering": 1,
   "nav_menu": {},
   "number_sections": true,
   "sideBar": true,
   "skip_h1_title": true,
   "title_cell": "Table of Contents",
   "title_sidebar": "Contents",
   "toc_cell": true,
   "toc_position": {
    "height": "681px",
    "left": "37px",
    "top": "629px",
    "width": "336px"
   },
   "toc_section_display": true,
   "toc_window_display": true
  }
 },
 "nbformat": 4,
 "nbformat_minor": 4
}
